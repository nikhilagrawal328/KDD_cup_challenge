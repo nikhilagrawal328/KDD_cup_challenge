{
 "cells": [
  {
   "cell_type": "markdown",
   "metadata": {},
   "source": [
    "<h3>KDD Cup 2009 Orange Customer Relationships</h3>"
   ]
  },
  {
   "cell_type": "markdown",
   "metadata": {},
   "source": [
    " KDD Cup is the annual Data Mining and Knowledge Discovery competition organized by ACM Special Interest Group on Knowledge Discovery and Data Mining, the leading professional organization of data miners.\n",
    "\n",
    " In the The KDD Cup 2009, a large marketing databases from the French Telecom company Orange had been offered to work on to predict the propensity of customers to\n",
    "\n",
    "- switch provider (churn),\n",
    "- buy new products or services (appetency),\n",
    "- make the sale more profitable (up-selling)"
   ]
  },
  {
   "cell_type": "markdown",
   "metadata": {},
   "source": [
    "In this dataset, there are all meaningless header names for the features. That's why we need to understand the relations between those features. The most important point for the analysis is to visualise these relations and put a theory that these relations fit in. We shall clean the data first and visualise. Later with the right questions and analysing those questions, we can find the right model for the best performance for predictions."
   ]
  },
  {
   "cell_type": "code",
   "execution_count": 1,
   "metadata": {},
   "outputs": [
    {
     "name": "stderr",
     "output_type": "stream",
     "text": [
      "Using TensorFlow backend.\n"
     ]
    }
   ],
   "source": [
    "# loading libraries\n",
    "import numpy as np\n",
    "import pandas as pd\n",
    "import matplotlib.pyplot as plt\n",
    "from sklearn import metrics\n",
    "from sklearn.model_selection import StratifiedShuffleSplit\n",
    "from sklearn.ensemble import RandomForestClassifier, GradientBoostingClassifier\n",
    "from sklearn.model_selection import train_test_split\n",
    "from sklearn.model_selection import StratifiedKFold\n",
    "from sklearn import preprocessing\n",
    "from sklearn.utils import resample\n",
    "from sklearn.neural_network import MLPClassifier\n",
    "from sklearn.model_selection import GridSearchCV\n",
    "from xgboost import XGBClassifier\n",
    "import seaborn as sns\n",
    "from keras.models import Sequential \n",
    "from keras.layers import Dense, Activation \n",
    "from keras.layers.normalization import BatchNormalization\n",
    "from keras import initializers\n",
    "from keras.layers import Dropout\n",
    "from keras.layers import Flatten\n",
    "from keras.layers.embeddings import Embedding\n",
    "from keras.layers import Dense, Input, Embedding, Lambda, Dropout, Activation, Reshape, GlobalAveragePooling1D, merge, Flatten, Bidirectional, CuDNNGRU, add, Conv1D, GlobalMaxPooling1D,MaxPooling1D\n",
    "from keras.layers import LSTM, Activation, Dense, Dropout, Input, Embedding"
   ]
  },
  {
   "cell_type": "code",
   "execution_count": 2,
   "metadata": {},
   "outputs": [
    {
     "data": {
      "text/plain": [
       "'C:\\\\Users\\\\abc\\\\Code_base'"
      ]
     },
     "execution_count": 2,
     "metadata": {},
     "output_type": "execute_result"
    }
   ],
   "source": [
    "import os\n",
    "os.getcwd()"
   ]
  },
  {
   "cell_type": "code",
   "execution_count": 3,
   "metadata": {},
   "outputs": [],
   "source": [
    "# changing directory\n",
    "os.chdir('C:/Users/abc/Documents/kdd 2019')     "
   ]
  },
  {
   "cell_type": "code",
   "execution_count": 4,
   "metadata": {},
   "outputs": [
    {
     "name": "stderr",
     "output_type": "stream",
     "text": [
      "C:\\Users\\abc\\Anaconda3\\lib\\site-packages\\ipykernel_launcher.py:1: FutureWarning: read_table is deprecated, use read_csv instead, passing sep='\\t'.\n",
      "  \"\"\"Entry point for launching an IPython kernel.\n"
     ]
    }
   ],
   "source": [
    "train=pd.read_table('orange_small_train.data')"
   ]
  },
  {
   "cell_type": "code",
   "execution_count": 5,
   "metadata": {},
   "outputs": [
    {
     "data": {
      "text/plain": [
       "(50000, 230)"
      ]
     },
     "execution_count": 5,
     "metadata": {},
     "output_type": "execute_result"
    }
   ],
   "source": [
    "train.shape"
   ]
  },
  {
   "cell_type": "code",
   "execution_count": 6,
   "metadata": {},
   "outputs": [
    {
     "data": {
      "text/html": [
       "<div>\n",
       "<style scoped>\n",
       "    .dataframe tbody tr th:only-of-type {\n",
       "        vertical-align: middle;\n",
       "    }\n",
       "\n",
       "    .dataframe tbody tr th {\n",
       "        vertical-align: top;\n",
       "    }\n",
       "\n",
       "    .dataframe thead th {\n",
       "        text-align: right;\n",
       "    }\n",
       "</style>\n",
       "<table border=\"1\" class=\"dataframe\">\n",
       "  <thead>\n",
       "    <tr style=\"text-align: right;\">\n",
       "      <th></th>\n",
       "      <th>Var1</th>\n",
       "      <th>Var2</th>\n",
       "      <th>Var3</th>\n",
       "      <th>Var4</th>\n",
       "      <th>Var5</th>\n",
       "      <th>Var6</th>\n",
       "      <th>Var7</th>\n",
       "      <th>Var8</th>\n",
       "      <th>Var9</th>\n",
       "      <th>Var10</th>\n",
       "      <th>...</th>\n",
       "      <th>Var221</th>\n",
       "      <th>Var222</th>\n",
       "      <th>Var223</th>\n",
       "      <th>Var224</th>\n",
       "      <th>Var225</th>\n",
       "      <th>Var226</th>\n",
       "      <th>Var227</th>\n",
       "      <th>Var228</th>\n",
       "      <th>Var229</th>\n",
       "      <th>Var230</th>\n",
       "    </tr>\n",
       "  </thead>\n",
       "  <tbody>\n",
       "    <tr>\n",
       "      <th>0</th>\n",
       "      <td>NaN</td>\n",
       "      <td>NaN</td>\n",
       "      <td>NaN</td>\n",
       "      <td>NaN</td>\n",
       "      <td>NaN</td>\n",
       "      <td>1526.0</td>\n",
       "      <td>7.0</td>\n",
       "      <td>NaN</td>\n",
       "      <td>NaN</td>\n",
       "      <td>NaN</td>\n",
       "      <td>...</td>\n",
       "      <td>oslk</td>\n",
       "      <td>fXVEsaq</td>\n",
       "      <td>jySVZNlOJy</td>\n",
       "      <td>NaN</td>\n",
       "      <td>NaN</td>\n",
       "      <td>xb3V</td>\n",
       "      <td>RAYp</td>\n",
       "      <td>F2FyR07IdsN7I</td>\n",
       "      <td>NaN</td>\n",
       "      <td>NaN</td>\n",
       "    </tr>\n",
       "    <tr>\n",
       "      <th>1</th>\n",
       "      <td>NaN</td>\n",
       "      <td>NaN</td>\n",
       "      <td>NaN</td>\n",
       "      <td>NaN</td>\n",
       "      <td>NaN</td>\n",
       "      <td>525.0</td>\n",
       "      <td>0.0</td>\n",
       "      <td>NaN</td>\n",
       "      <td>NaN</td>\n",
       "      <td>NaN</td>\n",
       "      <td>...</td>\n",
       "      <td>oslk</td>\n",
       "      <td>2Kb5FSF</td>\n",
       "      <td>LM8l689qOp</td>\n",
       "      <td>NaN</td>\n",
       "      <td>NaN</td>\n",
       "      <td>fKCe</td>\n",
       "      <td>RAYp</td>\n",
       "      <td>F2FyR07IdsN7I</td>\n",
       "      <td>NaN</td>\n",
       "      <td>NaN</td>\n",
       "    </tr>\n",
       "    <tr>\n",
       "      <th>2</th>\n",
       "      <td>NaN</td>\n",
       "      <td>NaN</td>\n",
       "      <td>NaN</td>\n",
       "      <td>NaN</td>\n",
       "      <td>NaN</td>\n",
       "      <td>5236.0</td>\n",
       "      <td>7.0</td>\n",
       "      <td>NaN</td>\n",
       "      <td>NaN</td>\n",
       "      <td>NaN</td>\n",
       "      <td>...</td>\n",
       "      <td>Al6ZaUT</td>\n",
       "      <td>NKv4yOc</td>\n",
       "      <td>jySVZNlOJy</td>\n",
       "      <td>NaN</td>\n",
       "      <td>kG3k</td>\n",
       "      <td>Qu4f</td>\n",
       "      <td>02N6s8f</td>\n",
       "      <td>ib5G6X1eUxUn6</td>\n",
       "      <td>am7c</td>\n",
       "      <td>NaN</td>\n",
       "    </tr>\n",
       "    <tr>\n",
       "      <th>3</th>\n",
       "      <td>NaN</td>\n",
       "      <td>NaN</td>\n",
       "      <td>NaN</td>\n",
       "      <td>NaN</td>\n",
       "      <td>NaN</td>\n",
       "      <td>NaN</td>\n",
       "      <td>0.0</td>\n",
       "      <td>NaN</td>\n",
       "      <td>NaN</td>\n",
       "      <td>NaN</td>\n",
       "      <td>...</td>\n",
       "      <td>oslk</td>\n",
       "      <td>CE7uk3u</td>\n",
       "      <td>LM8l689qOp</td>\n",
       "      <td>NaN</td>\n",
       "      <td>NaN</td>\n",
       "      <td>FSa2</td>\n",
       "      <td>RAYp</td>\n",
       "      <td>F2FyR07IdsN7I</td>\n",
       "      <td>NaN</td>\n",
       "      <td>NaN</td>\n",
       "    </tr>\n",
       "    <tr>\n",
       "      <th>4</th>\n",
       "      <td>NaN</td>\n",
       "      <td>NaN</td>\n",
       "      <td>NaN</td>\n",
       "      <td>NaN</td>\n",
       "      <td>NaN</td>\n",
       "      <td>1029.0</td>\n",
       "      <td>7.0</td>\n",
       "      <td>NaN</td>\n",
       "      <td>NaN</td>\n",
       "      <td>NaN</td>\n",
       "      <td>...</td>\n",
       "      <td>oslk</td>\n",
       "      <td>1J2cvxe</td>\n",
       "      <td>LM8l689qOp</td>\n",
       "      <td>NaN</td>\n",
       "      <td>kG3k</td>\n",
       "      <td>FSa2</td>\n",
       "      <td>RAYp</td>\n",
       "      <td>F2FyR07IdsN7I</td>\n",
       "      <td>mj86</td>\n",
       "      <td>NaN</td>\n",
       "    </tr>\n",
       "  </tbody>\n",
       "</table>\n",
       "<p>5 rows × 230 columns</p>\n",
       "</div>"
      ],
      "text/plain": [
       "   Var1  Var2  Var3  Var4  Var5    Var6  Var7  Var8  Var9  Var10  ...  \\\n",
       "0   NaN   NaN   NaN   NaN   NaN  1526.0   7.0   NaN   NaN    NaN  ...   \n",
       "1   NaN   NaN   NaN   NaN   NaN   525.0   0.0   NaN   NaN    NaN  ...   \n",
       "2   NaN   NaN   NaN   NaN   NaN  5236.0   7.0   NaN   NaN    NaN  ...   \n",
       "3   NaN   NaN   NaN   NaN   NaN     NaN   0.0   NaN   NaN    NaN  ...   \n",
       "4   NaN   NaN   NaN   NaN   NaN  1029.0   7.0   NaN   NaN    NaN  ...   \n",
       "\n",
       "    Var221   Var222      Var223  Var224  Var225  Var226   Var227  \\\n",
       "0     oslk  fXVEsaq  jySVZNlOJy     NaN     NaN    xb3V     RAYp   \n",
       "1     oslk  2Kb5FSF  LM8l689qOp     NaN     NaN    fKCe     RAYp   \n",
       "2  Al6ZaUT  NKv4yOc  jySVZNlOJy     NaN    kG3k    Qu4f  02N6s8f   \n",
       "3     oslk  CE7uk3u  LM8l689qOp     NaN     NaN    FSa2     RAYp   \n",
       "4     oslk  1J2cvxe  LM8l689qOp     NaN    kG3k    FSa2     RAYp   \n",
       "\n",
       "          Var228  Var229  Var230  \n",
       "0  F2FyR07IdsN7I     NaN     NaN  \n",
       "1  F2FyR07IdsN7I     NaN     NaN  \n",
       "2  ib5G6X1eUxUn6    am7c     NaN  \n",
       "3  F2FyR07IdsN7I     NaN     NaN  \n",
       "4  F2FyR07IdsN7I    mj86     NaN  \n",
       "\n",
       "[5 rows x 230 columns]"
      ]
     },
     "execution_count": 6,
     "metadata": {},
     "output_type": "execute_result"
    }
   ],
   "source": [
    "train.head()"
   ]
  },
  {
   "cell_type": "code",
   "execution_count": null,
   "metadata": {
    "scrolled": true
   },
   "outputs": [],
   "source": [
    "# loading the data\n",
    "'''\n",
    "train = pd.read_table('orange_small_train.data')\n",
    "train.head() # printing first few 5 rows\n",
    "\n",
    "'''"
   ]
  },
  {
   "cell_type": "code",
   "execution_count": 7,
   "metadata": {},
   "outputs": [
    {
     "name": "stderr",
     "output_type": "stream",
     "text": [
      "C:\\Users\\abc\\Anaconda3\\lib\\site-packages\\ipykernel_launcher.py:2: FutureWarning: read_table is deprecated, use read_csv instead, passing sep='\\t'.\n",
      "  \n"
     ]
    }
   ],
   "source": [
    "# loading the target variable appetency\n",
    "appetency = pd.read_table('orange_small_train_appetency.labels', header = None).loc[:, 0].astype('category')"
   ]
  },
  {
   "cell_type": "code",
   "execution_count": 8,
   "metadata": {},
   "outputs": [
    {
     "data": {
      "text/plain": [
       "(50000,)"
      ]
     },
     "execution_count": 8,
     "metadata": {},
     "output_type": "execute_result"
    }
   ],
   "source": [
    "# no of rows\n",
    "appetency.shape"
   ]
  },
  {
   "cell_type": "code",
   "execution_count": 9,
   "metadata": {},
   "outputs": [
    {
     "name": "stderr",
     "output_type": "stream",
     "text": [
      "C:\\Users\\abc\\Anaconda3\\lib\\site-packages\\ipykernel_launcher.py:2: FutureWarning: read_table is deprecated, use read_csv instead.\n",
      "  \n",
      "C:\\Users\\abc\\Anaconda3\\lib\\site-packages\\ipykernel_launcher.py:3: FutureWarning: read_table is deprecated, use read_csv instead.\n",
      "  This is separate from the ipykernel package so we can avoid doing imports until\n"
     ]
    }
   ],
   "source": [
    "# loading the target variable churn and upselling\n",
    "churn = pd.read_table('orange_small_train_churn.labels', header = None,sep='\\t').loc[:, 0].astype('category')\n",
    "upselling= pd.read_table('orange_small_train_upselling.labels', header = None,sep='\\t').loc[:, 0].astype('category')"
   ]
  },
  {
   "cell_type": "code",
   "execution_count": 10,
   "metadata": {},
   "outputs": [
    {
     "data": {
      "image/png": "[encoded data removed]",
      "text/plain": [
       "<Figure size 432x288 with 1 Axes>"
      ]
     },
     "metadata": {
      "needs_background": "light"
     },
     "output_type": "display_data"
    }
   ],
   "source": [
    "# plotting bar plot of target values\n",
    "appetency.value_counts().plot.bar()\n",
    "plt.ylabel('value')\n",
    "plt.title('appetency value for each class')\n",
    "plt.show()"
   ]
  },
  {
   "cell_type": "code",
   "execution_count": 11,
   "metadata": {
    "scrolled": true
   },
   "outputs": [
    {
     "data": {
      "image/png": "[encoded data removed]",
      "text/plain": [
       "<Figure size 432x288 with 1 Axes>"
      ]
     },
     "metadata": {
      "needs_background": "light"
     },
     "output_type": "display_data"
    }
   ],
   "source": [
    "churn.value_counts().plot.bar()\n",
    "plt.ylabel('value')\n",
    "plt.title('churn value for each class')\n",
    "plt.show()"
   ]
  },
  {
   "cell_type": "code",
   "execution_count": 12,
   "metadata": {},
   "outputs": [
    {
     "data": {
      "image/png": "[encoded data removed]",
      "text/plain": [
       "<Figure size 432x288 with 1 Axes>"
      ]
     },
     "metadata": {
      "needs_background": "light"
     },
     "output_type": "display_data"
    }
   ],
   "source": [
    "upselling.value_counts().plot.bar()\n",
    "plt.ylabel('value')\n",
    "plt.title('upselling value for each class')\n",
    "plt.show()"
   ]
  },
  {
   "cell_type": "markdown",
   "metadata": {},
   "source": [
    "* The above 3 plots shows that data is highly unbalanced so we should apply oversampling to balance the data while modelling."
   ]
  },
  {
   "cell_type": "markdown",
   "metadata": {},
   "source": [
    "<h3> Data Cleaning </h3>"
   ]
  },
  {
   "cell_type": "code",
   "execution_count": 13,
   "metadata": {},
   "outputs": [],
   "source": [
    "for i in train.columns:\n",
    "    if train[i].isnull().sum()/len(train)>=1.0:\n",
    "        train.drop(i,axis=1,inplace=True)"
   ]
  },
  {
   "cell_type": "code",
   "execution_count": 14,
   "metadata": {},
   "outputs": [
    {
     "data": {
      "text/plain": [
       "(50000, 212)"
      ]
     },
     "execution_count": 14,
     "metadata": {},
     "output_type": "execute_result"
    }
   ],
   "source": [
    "train.shape"
   ]
  },
  {
   "cell_type": "code",
   "execution_count": 15,
   "metadata": {},
   "outputs": [],
   "source": [
    "train['Var73']=train['Var73'].astype('float',inplace=True)"
   ]
  },
  {
   "cell_type": "code",
   "execution_count": 16,
   "metadata": {},
   "outputs": [
    {
     "data": {
      "text/plain": [
       "dtype('float64')"
      ]
     },
     "execution_count": 16,
     "metadata": {},
     "output_type": "execute_result"
    }
   ],
   "source": [
    "train['Var73'].dtypes"
   ]
  },
  {
   "cell_type": "code",
   "execution_count": 17,
   "metadata": {},
   "outputs": [],
   "source": [
    "# changing the datatype of features\n",
    "DataVars = train.columns\n",
    "data_types = {Var: train[Var].dtype for Var in DataVars}\n",
    "\n",
    "for Var in DataVars:\n",
    "    if data_types[Var] == int:\n",
    "        x = train[Var].astype(float)\n",
    "        train.loc[:, Var] = x\n",
    "        data_types[Var] = x.dtype\n",
    "    elif data_types[Var] != float:\n",
    "        \n",
    "        \n",
    "        \n",
    "        \n",
    "        x = train[Var].astype('category')\n",
    "        train.loc[:, Var] = x\n",
    "        data_types[Var] = x.dtype"
   ]
  },
  {
   "cell_type": "code",
   "execution_count": 18,
   "metadata": {},
   "outputs": [
    {
     "name": "stdout",
     "output_type": "stream",
     "text": [
      "<class 'pandas.core.frame.DataFrame'>\n",
      "RangeIndex: 50000 entries, 0 to 49999\n",
      "Columns: 212 entries, Var1 to Var229\n",
      "dtypes: category(38), float64(174)\n",
      "memory usage: 72.0 MB\n"
     ]
    }
   ],
   "source": [
    "train.info()"
   ]
  },
  {
   "cell_type": "code",
   "execution_count": 20,
   "metadata": {},
   "outputs": [],
   "source": [
    "# storing all the float datatype features\n",
    "float_DataVars = [Var for Var in DataVars if data_types[Var] == float]"
   ]
  },
  {
   "cell_type": "code",
   "execution_count": 21,
   "metadata": {},
   "outputs": [],
   "source": [
    "float_x_means = train.mean()\n",
    "\n",
    "for Var in float_DataVars:\n",
    "    x = train[Var]\n",
    "    mediancol=train[Var].mean()\n",
    "    isThereMissing = x.isnull()\n",
    "    if isThereMissing.sum() > 0:\n",
    "        train.loc[isThereMissing.tolist(), Var] = float_x_means[Var]"
   ]
  },
  {
   "cell_type": "code",
   "execution_count": 22,
   "metadata": {},
   "outputs": [],
   "source": [
    "# storing all the categpry features\n",
    "DataVars = train.columns\n",
    "\n",
    "categorical_DataVars = [Var for Var in DataVars if data_types[Var] != float]\n"
   ]
  },
  {
   "cell_type": "code",
   "execution_count": 23,
   "metadata": {},
   "outputs": [],
   "source": [
    "categorical_levels = train[categorical_DataVars].apply(lambda col: len(col.cat.categories))\n",
    "categorical_x_var_names = categorical_levels[categorical_levels > 10].index"
   ]
  },
  {
   "cell_type": "code",
   "execution_count": 24,
   "metadata": {},
   "outputs": [
    {
     "data": {
      "text/plain": [
       "Var191        1\n",
       "Var192      361\n",
       "Var193       51\n",
       "Var194        3\n",
       "Var195       23\n",
       "Var196        4\n",
       "Var197      225\n",
       "Var198     4291\n",
       "Var199     5073\n",
       "Var200    15415\n",
       "Var201        2\n",
       "Var202     5713\n",
       "Var203        5\n",
       "Var204      100\n",
       "Var205        3\n",
       "Var206       21\n",
       "Var207       14\n",
       "Var208        2\n",
       "Var210        6\n",
       "Var211        2\n",
       "Var212       81\n",
       "Var213        1\n",
       "Var214    15415\n",
       "Var215        1\n",
       "Var216     2016\n",
       "Var217    13990\n",
       "Var218        2\n",
       "Var219       22\n",
       "Var220     4291\n",
       "Var221        7\n",
       "Var222     4291\n",
       "Var223        4\n",
       "Var224        1\n",
       "Var225        3\n",
       "Var226       23\n",
       "Var227        7\n",
       "Var228       30\n",
       "Var229        4\n",
       "dtype: int64"
      ]
     },
     "execution_count": 24,
     "metadata": {},
     "output_type": "execute_result"
    }
   ],
   "source": [
    "categorical_levels"
   ]
  },
  {
   "cell_type": "code",
   "execution_count": 25,
   "metadata": {},
   "outputs": [],
   "source": [
    "def replaceInfrequentLevels(data, val=0.015):\n",
    "    collapsed_categories = {}\n",
    "    for categorical_x_var_name in categorical_x_var_names:\n",
    "        x = data[categorical_x_var_name].copy()\n",
    "        for category in x.cat.categories:\n",
    "            matching_rows_yesno = x == category\n",
    "            if matching_rows_yesno.sum() < val * data.shape[0]:\n",
    "                if categorical_x_var_name in collapsed_categories:\n",
    "                    collapsed_categories[categorical_x_var_name].append(category)\n",
    "                else:\n",
    "                    collapsed_categories[categorical_x_var_name] = [category]\n",
    "                if 'OTHER' not in data[categorical_x_var_name].cat.categories:\n",
    "                    data[categorical_x_var_name].cat.add_categories('OTHER', inplace=True)\n",
    "                data.loc[matching_rows_yesno, categorical_x_var_name] = 'OTHER'\n",
    "                data[categorical_x_var_name].cat.remove_categories(category, inplace=True)\n",
    "    return data            "
   ]
  },
  {
   "cell_type": "code",
   "execution_count": 26,
   "metadata": {},
   "outputs": [],
   "source": [
    "train= replaceInfrequentLevels(train)"
   ]
  },
  {
   "cell_type": "code",
   "execution_count": 27,
   "metadata": {},
   "outputs": [
    {
     "name": "stdout",
     "output_type": "stream",
     "text": [
      "Number of unique values within categorical features after preprocessing:\n"
     ]
    },
    {
     "data": {
      "text/plain": [
       "Var192     1\n",
       "Var193     4\n",
       "Var195     3\n",
       "Var197     8\n",
       "Var198     4\n",
       "Var199     4\n",
       "Var200     1\n",
       "Var202     1\n",
       "Var204    23\n",
       "Var206    12\n",
       "Var207     7\n",
       "Var212     7\n",
       "Var214     1\n",
       "Var216    13\n",
       "Var217     1\n",
       "Var219     5\n",
       "Var220     4\n",
       "Var222     4\n",
       "Var226    22\n",
       "Var228    11\n",
       "dtype: int64"
      ]
     },
     "execution_count": 27,
     "metadata": {},
     "output_type": "execute_result"
    }
   ],
   "source": [
    "categorical_x_nb_levels = train[categorical_x_var_names].apply(lambda col: len(col.cat.categories))\n",
    "print(\"Number of unique values within categorical features after preprocessing:\")\n",
    "categorical_x_nb_levels\n"
   ]
  },
  {
   "cell_type": "code",
   "execution_count": 28,
   "metadata": {},
   "outputs": [
    {
     "name": "stdout",
     "output_type": "stream",
     "text": [
      "Var192    0.00738\n",
      "Var193    0.00000\n",
      "Var195    0.00000\n",
      "Var197    0.00286\n",
      "Var198    0.00000\n",
      "Var199    0.00008\n",
      "Var200    0.50816\n",
      "Var202    0.00002\n",
      "Var204    0.00000\n",
      "Var206    0.11058\n",
      "Var207    0.00000\n",
      "Var212    0.00000\n",
      "Var214    0.50816\n",
      "Var216    0.00000\n",
      "Var217    0.01406\n",
      "Var219    0.10422\n",
      "Var220    0.00000\n",
      "Var222    0.00000\n",
      "Var226    0.00000\n",
      "Var228    0.00000\n",
      "dtype: float64\n"
     ]
    }
   ],
   "source": [
    "print(train[categorical_x_var_names].isnull().sum()/len(train))\n"
   ]
  },
  {
   "cell_type": "code",
   "execution_count": 29,
   "metadata": {},
   "outputs": [],
   "source": [
    "for categorical_var_name in categorical_x_var_names:\n",
    "    train[categorical_var_name].cat.add_categories(\"unknown_\"+categorical_var_name, inplace=True)\n",
    "    train[categorical_var_name].fillna(\"unknown_\"+categorical_var_name, inplace=True)\n"
   ]
  },
  {
   "cell_type": "code",
   "execution_count": 30,
   "metadata": {},
   "outputs": [
    {
     "name": "stdout",
     "output_type": "stream",
     "text": [
      "Percentage of missing values per Categorical feature after preprocessing:\n",
      "Var192    0.0\n",
      "Var193    0.0\n",
      "Var195    0.0\n",
      "Var197    0.0\n",
      "Var198    0.0\n",
      "Var199    0.0\n",
      "Var200    0.0\n",
      "Var202    0.0\n",
      "Var204    0.0\n",
      "Var206    0.0\n",
      "Var207    0.0\n",
      "Var212    0.0\n",
      "Var214    0.0\n",
      "Var216    0.0\n",
      "Var217    0.0\n",
      "Var219    0.0\n",
      "Var220    0.0\n",
      "Var222    0.0\n",
      "Var226    0.0\n",
      "Var228    0.0\n",
      "dtype: float64\n"
     ]
    }
   ],
   "source": [
    "print(\"Percentage of missing values per Categorical feature after preprocessing:\")\n",
    "print(train[categorical_x_var_names].isnull().sum()/len(train))\n"
   ]
  },
  {
   "cell_type": "code",
   "execution_count": 31,
   "metadata": {},
   "outputs": [
    {
     "data": {
      "text/plain": [
       "['Var191',\n",
       " 'Var192',\n",
       " 'Var193',\n",
       " 'Var194',\n",
       " 'Var195',\n",
       " 'Var196',\n",
       " 'Var197',\n",
       " 'Var198',\n",
       " 'Var199',\n",
       " 'Var200',\n",
       " 'Var201',\n",
       " 'Var202',\n",
       " 'Var203',\n",
       " 'Var204',\n",
       " 'Var205',\n",
       " 'Var206',\n",
       " 'Var207',\n",
       " 'Var208',\n",
       " 'Var210',\n",
       " 'Var211',\n",
       " 'Var212',\n",
       " 'Var213',\n",
       " 'Var214',\n",
       " 'Var215',\n",
       " 'Var216',\n",
       " 'Var217',\n",
       " 'Var218',\n",
       " 'Var219',\n",
       " 'Var220',\n",
       " 'Var221',\n",
       " 'Var222',\n",
       " 'Var223',\n",
       " 'Var224',\n",
       " 'Var225',\n",
       " 'Var226',\n",
       " 'Var227',\n",
       " 'Var228',\n",
       " 'Var229']"
      ]
     },
     "execution_count": 31,
     "metadata": {},
     "output_type": "execute_result"
    }
   ],
   "source": [
    "lst=[]\n",
    "for i in train.columns:\n",
    "    if train[i].dtypes!=float:\n",
    "        lst.append(i)\n",
    "lst"
   ]
  },
  {
   "cell_type": "code",
   "execution_count": 32,
   "metadata": {},
   "outputs": [],
   "source": [
    "train_data_1 = pd.get_dummies(train, columns=['Var191',\n",
    " 'Var192',\n",
    " 'Var193',\n",
    " 'Var194',\n",
    " 'Var195',\n",
    " 'Var196',\n",
    " 'Var197',\n",
    " 'Var198',\n",
    " 'Var199',\n",
    " 'Var200',\n",
    " 'Var201',\n",
    " 'Var202',\n",
    " 'Var203',\n",
    " 'Var204',\n",
    " 'Var205',\n",
    " 'Var206',\n",
    " 'Var207',\n",
    " 'Var208',\n",
    " 'Var210',\n",
    " 'Var211',\n",
    " 'Var212',\n",
    " 'Var213',\n",
    " 'Var214',\n",
    " 'Var215',\n",
    " 'Var216',\n",
    " 'Var217',\n",
    " 'Var218',\n",
    " 'Var219',\n",
    " 'Var220',\n",
    " 'Var221',\n",
    " 'Var222',\n",
    " 'Var223',\n",
    " 'Var224',\n",
    " 'Var225',\n",
    " 'Var226',\n",
    " 'Var227',\n",
    " 'Var228',\n",
    " 'Var229'])"
   ]
  },
  {
   "cell_type": "code",
   "execution_count": 33,
   "metadata": {},
   "outputs": [
    {
     "data": {
      "text/html": [
       "<div>\n",
       "<style scoped>\n",
       "    .dataframe tbody tr th:only-of-type {\n",
       "        vertical-align: middle;\n",
       "    }\n",
       "\n",
       "    .dataframe tbody tr th {\n",
       "        vertical-align: top;\n",
       "    }\n",
       "\n",
       "    .dataframe thead th {\n",
       "        text-align: right;\n",
       "    }\n",
       "</style>\n",
       "<table border=\"1\" class=\"dataframe\">\n",
       "  <thead>\n",
       "    <tr style=\"text-align: right;\">\n",
       "      <th></th>\n",
       "      <th>Var1</th>\n",
       "      <th>Var2</th>\n",
       "      <th>Var3</th>\n",
       "      <th>Var4</th>\n",
       "      <th>Var5</th>\n",
       "      <th>Var6</th>\n",
       "      <th>Var7</th>\n",
       "      <th>Var9</th>\n",
       "      <th>Var10</th>\n",
       "      <th>Var11</th>\n",
       "      <th>...</th>\n",
       "      <th>Var228_Zy3gnGM</th>\n",
       "      <th>Var228_ib5G6X1eUxUn6</th>\n",
       "      <th>Var228_iyHGyLCEkQ</th>\n",
       "      <th>Var228_xwM2aC7IdeMC0</th>\n",
       "      <th>Var228_OTHER</th>\n",
       "      <th>Var228_unknown_Var228</th>\n",
       "      <th>Var229_am7c</th>\n",
       "      <th>Var229_mj86</th>\n",
       "      <th>Var229_oJmt</th>\n",
       "      <th>Var229_sk2h</th>\n",
       "    </tr>\n",
       "  </thead>\n",
       "  <tbody>\n",
       "    <tr>\n",
       "      <th>0</th>\n",
       "      <td>11.487179</td>\n",
       "      <td>0.004029</td>\n",
       "      <td>425.298387</td>\n",
       "      <td>0.125396</td>\n",
       "      <td>238793.32885</td>\n",
       "      <td>1526.000000</td>\n",
       "      <td>7.0</td>\n",
       "      <td>48.145299</td>\n",
       "      <td>392605.656355</td>\n",
       "      <td>8.625806</td>\n",
       "      <td>...</td>\n",
       "      <td>0</td>\n",
       "      <td>0</td>\n",
       "      <td>0</td>\n",
       "      <td>0</td>\n",
       "      <td>0</td>\n",
       "      <td>0</td>\n",
       "      <td>0</td>\n",
       "      <td>0</td>\n",
       "      <td>0</td>\n",
       "      <td>0</td>\n",
       "    </tr>\n",
       "    <tr>\n",
       "      <th>1</th>\n",
       "      <td>11.487179</td>\n",
       "      <td>0.004029</td>\n",
       "      <td>425.298387</td>\n",
       "      <td>0.125396</td>\n",
       "      <td>238793.32885</td>\n",
       "      <td>525.000000</td>\n",
       "      <td>0.0</td>\n",
       "      <td>48.145299</td>\n",
       "      <td>392605.656355</td>\n",
       "      <td>8.625806</td>\n",
       "      <td>...</td>\n",
       "      <td>0</td>\n",
       "      <td>0</td>\n",
       "      <td>0</td>\n",
       "      <td>0</td>\n",
       "      <td>0</td>\n",
       "      <td>0</td>\n",
       "      <td>0</td>\n",
       "      <td>0</td>\n",
       "      <td>0</td>\n",
       "      <td>0</td>\n",
       "    </tr>\n",
       "    <tr>\n",
       "      <th>2</th>\n",
       "      <td>11.487179</td>\n",
       "      <td>0.004029</td>\n",
       "      <td>425.298387</td>\n",
       "      <td>0.125396</td>\n",
       "      <td>238793.32885</td>\n",
       "      <td>5236.000000</td>\n",
       "      <td>7.0</td>\n",
       "      <td>48.145299</td>\n",
       "      <td>392605.656355</td>\n",
       "      <td>8.625806</td>\n",
       "      <td>...</td>\n",
       "      <td>0</td>\n",
       "      <td>1</td>\n",
       "      <td>0</td>\n",
       "      <td>0</td>\n",
       "      <td>0</td>\n",
       "      <td>0</td>\n",
       "      <td>1</td>\n",
       "      <td>0</td>\n",
       "      <td>0</td>\n",
       "      <td>0</td>\n",
       "    </tr>\n",
       "    <tr>\n",
       "      <th>3</th>\n",
       "      <td>11.487179</td>\n",
       "      <td>0.004029</td>\n",
       "      <td>425.298387</td>\n",
       "      <td>0.125396</td>\n",
       "      <td>238793.32885</td>\n",
       "      <td>1326.437116</td>\n",
       "      <td>0.0</td>\n",
       "      <td>48.145299</td>\n",
       "      <td>392605.656355</td>\n",
       "      <td>8.625806</td>\n",
       "      <td>...</td>\n",
       "      <td>0</td>\n",
       "      <td>0</td>\n",
       "      <td>0</td>\n",
       "      <td>0</td>\n",
       "      <td>0</td>\n",
       "      <td>0</td>\n",
       "      <td>0</td>\n",
       "      <td>0</td>\n",
       "      <td>0</td>\n",
       "      <td>0</td>\n",
       "    </tr>\n",
       "    <tr>\n",
       "      <th>4</th>\n",
       "      <td>11.487179</td>\n",
       "      <td>0.004029</td>\n",
       "      <td>425.298387</td>\n",
       "      <td>0.125396</td>\n",
       "      <td>238793.32885</td>\n",
       "      <td>1029.000000</td>\n",
       "      <td>7.0</td>\n",
       "      <td>48.145299</td>\n",
       "      <td>392605.656355</td>\n",
       "      <td>8.625806</td>\n",
       "      <td>...</td>\n",
       "      <td>0</td>\n",
       "      <td>0</td>\n",
       "      <td>0</td>\n",
       "      <td>0</td>\n",
       "      <td>0</td>\n",
       "      <td>0</td>\n",
       "      <td>0</td>\n",
       "      <td>1</td>\n",
       "      <td>0</td>\n",
       "      <td>0</td>\n",
       "    </tr>\n",
       "  </tbody>\n",
       "</table>\n",
       "<p>5 rows × 388 columns</p>\n",
       "</div>"
      ],
      "text/plain": [
       "        Var1      Var2        Var3      Var4          Var5         Var6  Var7  \\\n",
       "0  11.487179  0.004029  425.298387  0.125396  238793.32885  1526.000000   7.0   \n",
       "1  11.487179  0.004029  425.298387  0.125396  238793.32885   525.000000   0.0   \n",
       "2  11.487179  0.004029  425.298387  0.125396  238793.32885  5236.000000   7.0   \n",
       "3  11.487179  0.004029  425.298387  0.125396  238793.32885  1326.437116   0.0   \n",
       "4  11.487179  0.004029  425.298387  0.125396  238793.32885  1029.000000   7.0   \n",
       "\n",
       "        Var9          Var10     Var11  ...  Var228_Zy3gnGM  \\\n",
       "0  48.145299  392605.656355  8.625806  ...               0   \n",
       "1  48.145299  392605.656355  8.625806  ...               0   \n",
       "2  48.145299  392605.656355  8.625806  ...               0   \n",
       "3  48.145299  392605.656355  8.625806  ...               0   \n",
       "4  48.145299  392605.656355  8.625806  ...               0   \n",
       "\n",
       "   Var228_ib5G6X1eUxUn6  Var228_iyHGyLCEkQ  Var228_xwM2aC7IdeMC0  \\\n",
       "0                     0                  0                     0   \n",
       "1                     0                  0                     0   \n",
       "2                     1                  0                     0   \n",
       "3                     0                  0                     0   \n",
       "4                     0                  0                     0   \n",
       "\n",
       "   Var228_OTHER  Var228_unknown_Var228  Var229_am7c  Var229_mj86  Var229_oJmt  \\\n",
       "0             0                      0            0            0            0   \n",
       "1             0                      0            0            0            0   \n",
       "2             0                      0            1            0            0   \n",
       "3             0                      0            0            0            0   \n",
       "4             0                      0            0            1            0   \n",
       "\n",
       "   Var229_sk2h  \n",
       "0            0  \n",
       "1            0  \n",
       "2            0  \n",
       "3            0  \n",
       "4            0  \n",
       "\n",
       "[5 rows x 388 columns]"
      ]
     },
     "execution_count": 33,
     "metadata": {},
     "output_type": "execute_result"
    }
   ],
   "source": [
    "train_data_1.head()"
   ]
  },
  {
   "cell_type": "code",
   "execution_count": 34,
   "metadata": {},
   "outputs": [],
   "source": [
    "train_data_1.to_csv('train_cust2.csv')"
   ]
  },
  {
   "cell_type": "code",
   "execution_count": 209,
   "metadata": {},
   "outputs": [],
   "source": [
    "train_data_1=pd.read_csv('train_cust2.csv')"
   ]
  },
  {
   "cell_type": "markdown",
   "metadata": {},
   "source": [
    "### Taking target variable as churn"
   ]
  },
  {
   "cell_type": "code",
   "execution_count": 38,
   "metadata": {},
   "outputs": [],
   "source": [
    "X_train,X_test, y_train, y_test = train_test_split(train_data_1,churn, stratify=churn, test_size=0.2, random_state=42)"
   ]
  },
  {
   "cell_type": "code",
   "execution_count": 39,
   "metadata": {},
   "outputs": [],
   "source": [
    "def standardize(train, test):\n",
    "\n",
    "\n",
    "    mean = np.mean(train, axis=0)\n",
    "    std = np.std(train, axis=0)+0.000001\n",
    "\n",
    "    X_train = (train - mean) / std\n",
    "    X_test = (test - mean) /std\n",
    "    return X_train, X_test"
   ]
  },
  {
   "cell_type": "code",
   "execution_count": 40,
   "metadata": {},
   "outputs": [],
   "source": [
    "X_train, X_test=standardize(X_train, X_test)"
   ]
  },
  {
   "cell_type": "code",
   "execution_count": 41,
   "metadata": {},
   "outputs": [],
   "source": [
    "y_train.replace(-1, 0, inplace=True)\n",
    "y_test.replace(-1, 0, inplace=True)"
   ]
  },
  {
   "cell_type": "code",
   "execution_count": 42,
   "metadata": {},
   "outputs": [],
   "source": [
    "X_train,X_cv, y_train, y_cv = train_test_split(X_train,y_train, stratify=y_train, test_size=0.2, random_state=42)"
   ]
  },
  {
   "cell_type": "code",
   "execution_count": 43,
   "metadata": {},
   "outputs": [
    {
     "name": "stdout",
     "output_type": "stream",
     "text": [
      "Best HyperParameter:  {'max_depth': 5, 'n_estimators': 75}\n"
     ]
    }
   ],
   "source": [
    "random_classifier = RandomForestClassifier()\n",
    "\n",
    "parameters = { 'max_depth':np.arange(5,10),'n_estimators':list(range(75,301,25))}\n",
    "\n",
    "random_grid = GridSearchCV(random_classifier, parameters, cv = 3)\n",
    "\n",
    "random_grid.fit(X_cv, y_cv)\n",
    "\n",
    "print(\"Best HyperParameter: \",random_grid.best_params_)"
   ]
  },
  {
   "cell_type": "code",
   "execution_count": 44,
   "metadata": {},
   "outputs": [
    {
     "data": {
      "text/plain": [
       "RandomForestClassifier(bootstrap=True, class_weight='balanced',\n",
       "            criterion='gini', max_depth=5, max_features=None,\n",
       "            max_leaf_nodes=None, min_impurity_decrease=0.0,\n",
       "            min_impurity_split=None, min_samples_leaf=1,\n",
       "            min_samples_split=2, min_weight_fraction_leaf=0.0,\n",
       "            n_estimators=75, n_jobs=-1, oob_score=True, random_state=42,\n",
       "            verbose=0, warm_start=False)"
      ]
     },
     "execution_count": 44,
     "metadata": {},
     "output_type": "execute_result"
    }
   ],
   "source": [
    "rf_model = RandomForestClassifier(\n",
    "    n_estimators=75,\n",
    "    #criterion='entropy',\n",
    "    max_depth=5,   # expand until all leaves are pure or contain < MIN_SAMPLES_SPLIT samples\n",
    "    #min_samples_split=100,\n",
    "    #min_samples_leaf=50,\n",
    "    #min_weight_fraction_leaf=0.0,\n",
    "    max_features=None,   # number of features to consider when looking for the best split; None: max_features=n_features\n",
    "    max_leaf_nodes=None,   # None: unlimited number of leaf nodes\n",
    "    bootstrap=True,\n",
    "    oob_score=True,   # estimate Out-of-Bag Cross Entropy\n",
    "    n_jobs=-1,   # paralellize over all CPU cores but 2\n",
    "    class_weight='balanced',    # our classes are skewed, but but too skewed\n",
    "    random_state=42,\n",
    "    verbose=0,\n",
    "    warm_start=False)\n",
    "\n",
    "rf_model.fit(X=X_train, y=y_train)"
   ]
  },
  {
   "cell_type": "code",
   "execution_count": 45,
   "metadata": {},
   "outputs": [
    {
     "data": {
      "text/plain": [
       "0.6766423881453841"
      ]
     },
     "execution_count": 45,
     "metadata": {},
     "output_type": "execute_result"
    }
   ],
   "source": [
    "rf_pred_probs=rf_model.predict(X_train)\n",
    "auc=metrics.roc_auc_score(y_train,rf_pred_probs)\n",
    "auc"
   ]
  },
  {
   "cell_type": "code",
   "execution_count": 46,
   "metadata": {},
   "outputs": [
    {
     "data": {
      "text/plain": [
       "0.6409505378721893"
      ]
     },
     "execution_count": 46,
     "metadata": {},
     "output_type": "execute_result"
    }
   ],
   "source": [
    "rf_pred_probs=rf_model.predict(X_test)\n",
    "auc=metrics.roc_auc_score(y_test,rf_pred_probs)\n",
    "auc"
   ]
  },
  {
   "cell_type": "code",
   "execution_count": 47,
   "metadata": {},
   "outputs": [
    {
     "data": {
      "text/plain": [
       "Index(['Var126', 'Var212_NhsEn4L', 'Var73', 'Var189', 'Var217_OTHER', 'Var74',\n",
       "       'Var113', 'Var140', 'Var217_unknown_Var217', 'Var81', 'Var28', 'Var125',\n",
       "       'Var13', 'Var57', 'Var210_g5HH', 'Var218_cJvF', 'Var6', 'Var210_uKAI',\n",
       "       'Var153', 'Var94', 'Var205_sJzTlal', 'Var45', 'Var216_7WwuNea', 'Var38',\n",
       "       'Var134', 'Var204_z5Ry', 'Var76', 'Var83', 'Var51', 'Var163',\n",
       "       'Var193_RO12', 'Var24', 'Var160', 'Var119', 'Var112', 'Var149',\n",
       "       'Var109', 'Var44', 'Var123', 'Var205_VpdQ', 'Var144', 'Var7', 'Var188',\n",
       "       'Var35', 'Var25', 'Var65', 'Var21', 'Var195_taul', 'Var133', 'Var22',\n",
       "       'Var212_XfqtO3UdzaXh_', 'Var205_09_Q', 'Var218_UYBR', 'Var228_OTHER',\n",
       "       'Var107', 'Var226_szEZ', 'Var199_OTHER', 'Var206_OTHER', 'Var85',\n",
       "       'Var229_am7c', 'Var204_m_h1', 'Var216_mAjbk_S', 'Var226_3Cy4', 'Var82',\n",
       "       'Var219_FzaX', 'Var72', 'Var226_wX53', 'Var117', 'Var197_lK27',\n",
       "       'Var226_me1d', 'Var227_ZI9m', 'Var193_OTHER', 'Var197_TyGl', 'Var84',\n",
       "       'Var226_7P5s', 'Var59', 'Var68', 'Var200_unknown_Var200',\n",
       "       'Var207_me75fM6ugJ', 'Var211_L84s', 'Var226_Qcbd', 'Var206_lVqb',\n",
       "       'Var10', 'Var216_kq0n8Bj', 'Var195_OTHER', 'Var95',\n",
       "       'Var219_unknown_Var219', 'Var152', 'Var154', 'Var223_M_8D',\n",
       "       'Var225_xG3x', 'Var46', 'Var216_kq0aHkC', 'Var139', 'Var211_Mtgm',\n",
       "       'Var214_unknown_Var214', 'Var223_jySVZNlOJy', 'Var36', 'Var198_iJzviRg',\n",
       "       'Var158'],\n",
       "      dtype='object')"
      ]
     },
     "execution_count": 47,
     "metadata": {},
     "output_type": "execute_result"
    }
   ],
   "source": [
    "feature_importances = pd.DataFrame(rf_model.feature_importances_,\n",
    "                                   index = X_train.columns,\n",
    "                                    columns=['importance']).sort_values('importance', ascending=False)\n",
    "feature_importances[:100].index"
   ]
  },
  {
   "cell_type": "markdown",
   "metadata": {},
   "source": [
    "> Feature Selection using Random Forest Model"
   ]
  },
  {
   "cell_type": "code",
   "execution_count": 48,
   "metadata": {},
   "outputs": [],
   "source": [
    "train_data_1=train_data_1[['Var126', 'Var212_NhsEn4L', 'Var73', 'Var189', 'Var217_OTHER', 'Var74',\n",
    "       'Var113', 'Var140', 'Var217_unknown_Var217', 'Var81', 'Var28', 'Var125',\n",
    "       'Var13', 'Var57', 'Var210_g5HH', 'Var218_cJvF', 'Var6', 'Var210_uKAI',\n",
    "       'Var153', 'Var94', 'Var205_sJzTlal', 'Var45', 'Var216_7WwuNea', 'Var38',\n",
    "       'Var134', 'Var204_z5Ry', 'Var76', 'Var83', 'Var51', 'Var163',\n",
    "       'Var193_RO12', 'Var24', 'Var160', 'Var119', 'Var112', 'Var149',\n",
    "       'Var109', 'Var44', 'Var123', 'Var205_VpdQ', 'Var144', 'Var7', 'Var188',\n",
    "       'Var35', 'Var25', 'Var65', 'Var21', 'Var195_taul', 'Var133', 'Var22',\n",
    "       'Var212_XfqtO3UdzaXh_', 'Var205_09_Q', 'Var218_UYBR', 'Var228_OTHER',\n",
    "       'Var107', 'Var226_szEZ', 'Var199_OTHER', 'Var206_OTHER', 'Var85',\n",
    "       'Var229_am7c', 'Var204_m_h1', 'Var216_mAjbk_S', 'Var226_3Cy4', 'Var82',\n",
    "       'Var219_FzaX', 'Var72', 'Var226_wX53', 'Var117', 'Var197_lK27',\n",
    "       'Var226_me1d', 'Var227_ZI9m', 'Var193_OTHER', 'Var197_TyGl', 'Var84',\n",
    "       'Var226_7P5s', 'Var59', 'Var68', 'Var200_unknown_Var200',\n",
    "       'Var207_me75fM6ugJ', 'Var211_L84s', 'Var226_Qcbd', 'Var206_lVqb',\n",
    "       'Var10', 'Var216_kq0n8Bj', 'Var195_OTHER', 'Var95',\n",
    "       'Var219_unknown_Var219', 'Var152', 'Var154', 'Var223_M_8D',\n",
    "       'Var225_xG3x', 'Var46', 'Var216_kq0aHkC', 'Var139', 'Var211_Mtgm',\n",
    "       'Var214_unknown_Var214', 'Var223_jySVZNlOJy', 'Var36', 'Var198_iJzviRg',\n",
    "       'Var158']]"
   ]
  },
  {
   "cell_type": "code",
   "execution_count": 174,
   "metadata": {},
   "outputs": [],
   "source": [
    "lst1=[]\n",
    "for i in train_data_1.columns:\n",
    "    if train_data_1[i].dtypes==float:\n",
    "        lst1.append(i)\n",
    "#lst1        "
   ]
  },
  {
   "cell_type": "code",
   "execution_count": 119,
   "metadata": {},
   "outputs": [],
   "source": [
    "from sklearn.preprocessing import StandardScaler\n",
    "def standardize_data(X_train, X_test):\n",
    "    float_feats_train = X_train[lst1]\n",
    "    float_feats_test = X_test[lst1]\n",
    "    scaler = StandardScaler()\n",
    "    X_train_stand = pd.DataFrame(scaler.fit_transform(float_feats_train), columns = lst1, index = X_train.index)\n",
    "    X_test_stand = pd.DataFrame(scaler.transform(float_feats_test), columns = lst1, index = X_test.index)\n",
    "    X_train_stand = pd.merge(X_train_stand, X_train.loc[:, ~X_train.columns.isin(lst1)], left_index=True, right_index=True)\n",
    "    X_test_stand = pd.merge(X_test_stand, X_test.loc[:, ~X_test.columns.isin(lst1)], left_index=True, right_index=True)\n",
    "    return X_train_stand, X_test_stand"
   ]
  },
  {
   "cell_type": "code",
   "execution_count": 111,
   "metadata": {},
   "outputs": [],
   "source": [
    "X_train,X_test, y_train, y_test = train_test_split(train_data_1,churn, stratify=churn, test_size=0.2, random_state=42)"
   ]
  },
  {
   "cell_type": "code",
   "execution_count": 120,
   "metadata": {},
   "outputs": [],
   "source": [
    "X_train, X_test=standardize_data(X_train, X_test)"
   ]
  },
  {
   "cell_type": "code",
   "execution_count": 121,
   "metadata": {},
   "outputs": [],
   "source": [
    "y_train.replace(-1, 0, inplace=True)\n",
    "y_test.replace(-1, 0, inplace=True)"
   ]
  },
  {
   "cell_type": "markdown",
   "metadata": {},
   "source": [
    "### MLP model with feature selection and standarization"
   ]
  },
  {
   "cell_type": "code",
   "execution_count": 122,
   "metadata": {},
   "outputs": [],
   "source": [
    "output_dim = 1\n",
    "input_dim = X_train.shape[1]\n",
    "\n",
    "batch_size = 512\n",
    "nb_epoch = 50"
   ]
  },
  {
   "cell_type": "code",
   "execution_count": 123,
   "metadata": {},
   "outputs": [
    {
     "name": "stdout",
     "output_type": "stream",
     "text": [
      "_________________________________________________________________\n",
      "Layer (type)                 Output Shape              Param #   \n",
      "=================================================================\n",
      "dense_58 (Dense)             (None, 512)               51712     \n",
      "_________________________________________________________________\n",
      "dropout_35 (Dropout)         (None, 512)               0         \n",
      "_________________________________________________________________\n",
      "dense_59 (Dense)             (None, 256)               131328    \n",
      "_________________________________________________________________\n",
      "dropout_36 (Dropout)         (None, 256)               0         \n",
      "_________________________________________________________________\n",
      "dense_60 (Dense)             (None, 1)                 257       \n",
      "=================================================================\n",
      "Total params: 183,297\n",
      "Trainable params: 183,297\n",
      "Non-trainable params: 0\n",
      "_________________________________________________________________\n"
     ]
    }
   ],
   "source": [
    "model = Sequential()\n",
    "model.add(Dense(512, activation='relu', input_shape=(input_dim,), kernel_initializer='he_normal'))\n",
    "model.add(Dropout(0.2))\n",
    "#model.add(Dense(128, activation='relu', kernel_initializer='he_normal'))\n",
    "#model.add(Dropout(0.2))\n",
    "#model.add(Dense(265, activation='relu', kernel_initializer='he_normal') )\n",
    "#model.add(Dropout(0.8))\n",
    "#model.add(BatchNormalization())\n",
    "model.add(Dense(256, activation='relu', kernel_initializer='he_normal') )\n",
    "model.add(Dropout(0.8))\n",
    "#model.add(Dense(64, activation='relu', kernel_initializer='he_normal') )\n",
    "#model.add(Dropout(0.8))\n",
    "#model.add(BatchNormalization())\n",
    "model.add(Dense(output_dim, activation='sigmoid'))\n",
    "model.summary()"
   ]
  },
  {
   "cell_type": "code",
   "execution_count": 124,
   "metadata": {},
   "outputs": [
    {
     "name": "stdout",
     "output_type": "stream",
     "text": [
      "Train on 32000 samples, validate on 8000 samples\n",
      "Epoch 1/8\n",
      "32000/32000 [==============================] - 4s 138us/step - loss: 0.3516 - acc: 0.9147 - val_loss: 0.2559 - val_acc: 0.9293\n",
      "Epoch 2/8\n",
      "32000/32000 [==============================] - 2s 67us/step - loss: 0.2812 - acc: 0.9250 - val_loss: 0.2479 - val_acc: 0.9293\n",
      "Epoch 3/8\n",
      "32000/32000 [==============================] - 2s 67us/step - loss: 0.2719 - acc: 0.9257 - val_loss: 0.2450 - val_acc: 0.9293\n",
      "Epoch 4/8\n",
      "32000/32000 [==============================] - 2s 67us/step - loss: 0.2676 - acc: 0.9257 - val_loss: 0.2435 - val_acc: 0.9293\n",
      "Epoch 5/8\n",
      "32000/32000 [==============================] - 2s 67us/step - loss: 0.2612 - acc: 0.9255 - val_loss: 0.2413 - val_acc: 0.9293\n",
      "Epoch 6/8\n",
      "32000/32000 [==============================] - 2s 67us/step - loss: 0.2600 - acc: 0.9257 - val_loss: 0.2427 - val_acc: 0.9293\n",
      "Epoch 7/8\n",
      "32000/32000 [==============================] - 2s 67us/step - loss: 0.2566 - acc: 0.9259 - val_loss: 0.2408 - val_acc: 0.9293\n",
      "Epoch 8/8\n",
      "32000/32000 [==============================] - 2s 66us/step - loss: 0.2559 - acc: 0.9257 - val_loss: 0.2391 - val_acc: 0.9293\n"
     ]
    }
   ],
   "source": [
    "model.compile(optimizer='adam', loss='binary_crossentropy', metrics=['accuracy'])\n",
    "history = model.fit(X_train.values, y_train.values, batch_size=batch_size, epochs=8, verbose=1, validation_split=0.2)"
   ]
  },
  {
   "cell_type": "code",
   "execution_count": 130,
   "metadata": {},
   "outputs": [
    {
     "name": "stdout",
     "output_type": "stream",
     "text": [
      "Test score: 0.3287945414543152\n",
      "Test accuracy: 0.9263\n"
     ]
    }
   ],
   "source": [
    "score = model.evaluate(X_test, y_test, verbose=0)\n",
    "print('Test score:', score[0])\n",
    "print('Test accuracy:', score[1])"
   ]
  },
  {
   "cell_type": "code",
   "execution_count": 126,
   "metadata": {},
   "outputs": [
    {
     "name": "stdout",
     "output_type": "stream",
     "text": [
      "ROC-AUC score is 0.6877418307591965\n"
     ]
    }
   ],
   "source": [
    "y_pred = model.predict(X_test)\n",
    "print(\"ROC-AUC score is {}\".format(metrics.roc_auc_score(y_test, y_pred)))"
   ]
  },
  {
   "cell_type": "markdown",
   "metadata": {},
   "source": [
    "### 1D CNN model with feature selection and standarization"
   ]
  },
  {
   "cell_type": "code",
   "execution_count": 170,
   "metadata": {},
   "outputs": [
    {
     "name": "stdout",
     "output_type": "stream",
     "text": [
      "_________________________________________________________________\n",
      "Layer (type)                 Output Shape              Param #   \n",
      "=================================================================\n",
      "conv1d_14 (Conv1D)           (None, 100, 128)          256       \n",
      "_________________________________________________________________\n",
      "max_pooling1d_14 (MaxPooling (None, 50, 128)           0         \n",
      "_________________________________________________________________\n",
      "flatten_12 (Flatten)         (None, 6400)              0         \n",
      "_________________________________________________________________\n",
      "dropout_63 (Dropout)         (None, 6400)              0         \n",
      "_________________________________________________________________\n",
      "dense_96 (Dense)             (None, 256)               1638656   \n",
      "_________________________________________________________________\n",
      "dropout_64 (Dropout)         (None, 256)               0         \n",
      "_________________________________________________________________\n",
      "dense_97 (Dense)             (None, 1)                 257       \n",
      "=================================================================\n",
      "Total params: 1,639,169\n",
      "Trainable params: 1,639,169\n",
      "Non-trainable params: 0\n",
      "_________________________________________________________________\n"
     ]
    }
   ],
   "source": [
    "model = Sequential()\n",
    " \n",
    "model.add(Conv1D(128, 1, input_shape=(input_dim, 1), activation='relu'))\n",
    "#model.add(MaxPooling1D(5))\n",
    "model.add(MaxPooling1D(2))\n",
    "\n",
    "model.add(Flatten())\n",
    "model.add(Dropout(0.5))\n",
    "model.add(Dense(256, activation='relu'))\n",
    "model.add(Dropout(0.5))\n",
    "\n",
    " #model.add(Dense(256, activation='relu'))\n",
    "\n",
    "#model.add(Dropout(0.5))\n",
    "\n",
    " #model.add(BatchNormalization())\n",
    " #model.add(Dense(128, activation='relu'))\n",
    "model.add(Dense(1, activation='sigmoid'))\n",
    "model.summary()"
   ]
  },
  {
   "cell_type": "code",
   "execution_count": 173,
   "metadata": {},
   "outputs": [],
   "source": [
    "X_train_cnn = np.reshape(X_train.values, (X_train.shape[0], X_train.shape[1], 1))\n",
    "X_test_cnn = np.reshape(X_test.values, (X_test.shape[0], X_test.shape[1], 1))"
   ]
  },
  {
   "cell_type": "code",
   "execution_count": 171,
   "metadata": {},
   "outputs": [
    {
     "name": "stdout",
     "output_type": "stream",
     "text": [
      "Train on 32000 samples, validate on 8000 samples\n",
      "Epoch 1/9\n",
      "32000/32000 [==============================] - 58s 2ms/step - loss: 1.3815 - acc: 0.4807 - val_loss: 1.2944 - val_acc: 0.6970\n",
      "Epoch 2/9\n",
      "32000/32000 [==============================] - 54s 2ms/step - loss: 1.3107 - acc: 0.5284 - val_loss: 1.2587 - val_acc: 0.5628\n",
      "Epoch 3/9\n",
      "32000/32000 [==============================] - 54s 2ms/step - loss: 1.2927 - acc: 0.5406 - val_loss: 1.2540 - val_acc: 0.5520\n",
      "Epoch 4/9\n",
      "32000/32000 [==============================] - 54s 2ms/step - loss: 1.2813 - acc: 0.5580 - val_loss: 1.2551 - val_acc: 0.5044\n",
      "Epoch 5/9\n",
      "32000/32000 [==============================] - 53s 2ms/step - loss: 1.2796 - acc: 0.5412 - val_loss: 1.2493 - val_acc: 0.5863\n",
      "Epoch 6/9\n",
      "32000/32000 [==============================] - 53s 2ms/step - loss: 1.2652 - acc: 0.5517 - val_loss: 1.2433 - val_acc: 0.5464\n",
      "Epoch 7/9\n",
      "32000/32000 [==============================] - 55s 2ms/step - loss: 1.2620 - acc: 0.5579 - val_loss: 1.2501 - val_acc: 0.5705\n",
      "Epoch 8/9\n",
      "32000/32000 [==============================] - 54s 2ms/step - loss: 1.2524 - acc: 0.5677 - val_loss: 1.2510 - val_acc: 0.5340\n",
      "Epoch 9/9\n",
      "32000/32000 [==============================] - 54s 2ms/step - loss: 1.2649 - acc: 0.5402 - val_loss: 1.2489 - val_acc: 0.6029\n",
      "Test score: 0.6429817202568054\n",
      "Test accuracy: 0.6\n"
     ]
    }
   ],
   "source": [
    "model.compile(optimizer='adam', loss='binary_crossentropy', metrics=['accuracy'])\n",
    "history = model.fit(X_train_cnn, y_train, batch_size=batch_size, epochs=9, verbose=1, validation_split=0.2, class_weight={0.: 1.,1.: 15})\n",
    "score = model.evaluate(X_test_cnn, y_test, verbose=0)\n",
    "print('Test score:', score[0])\n",
    "print('Test accuracy:', score[1])"
   ]
  },
  {
   "cell_type": "code",
   "execution_count": 172,
   "metadata": {},
   "outputs": [
    {
     "name": "stdout",
     "output_type": "stream",
     "text": [
      "ROC-AUC score is 0.6931501060688309\n"
     ]
    }
   ],
   "source": [
    "y_pred = model.predict(X_test_cnn)\n",
    "print(\"ROC-AUC score is {}\".format( metrics.roc_auc_score(y_test, y_pred)))"
   ]
  },
  {
   "cell_type": "markdown",
   "metadata": {},
   "source": [
    "<h3> Taking target variable as appetency</h3>"
   ]
  },
  {
   "cell_type": "code",
   "execution_count": 176,
   "metadata": {},
   "outputs": [],
   "source": [
    "X_train,X_test, y_train, y_test = train_test_split(train_data_1, appetency, stratify=appetency, test_size=0.2, random_state=42)"
   ]
  },
  {
   "cell_type": "code",
   "execution_count": 177,
   "metadata": {},
   "outputs": [],
   "source": [
    "X_train, X_test=standardize(X_train, X_test)"
   ]
  },
  {
   "cell_type": "code",
   "execution_count": 178,
   "metadata": {},
   "outputs": [],
   "source": [
    "y_train.replace(-1, 0, inplace=True)\n",
    "y_test.replace(-1, 0, inplace=True)"
   ]
  },
  {
   "cell_type": "code",
   "execution_count": 179,
   "metadata": {},
   "outputs": [],
   "source": [
    "X_train,X_cv, y_train, y_cv = train_test_split(X_train , y_train , stratify=y_train, test_size=0.2, random_state=42)"
   ]
  },
  {
   "cell_type": "code",
   "execution_count": 180,
   "metadata": {},
   "outputs": [],
   "source": [
    "y_cv.replace(-1, 0, inplace=True)"
   ]
  },
  {
   "cell_type": "code",
   "execution_count": 181,
   "metadata": {},
   "outputs": [
    {
     "name": "stdout",
     "output_type": "stream",
     "text": [
      "Best HyperParameter:  {'max_depth': 5, 'n_estimators': 75}\n"
     ]
    }
   ],
   "source": [
    "random_classifier = RandomForestClassifier()\n",
    "\n",
    "parameters = { 'max_depth':np.arange(5,10),'n_estimators':list(range(75,301,25))}\n",
    "\n",
    "random_grid = GridSearchCV(random_classifier, parameters, cv = 3)\n",
    "\n",
    "random_grid.fit(X_cv, y_cv)\n",
    "\n",
    "print(\"Best HyperParameter: \",random_grid.best_params_)"
   ]
  },
  {
   "cell_type": "code",
   "execution_count": 182,
   "metadata": {},
   "outputs": [
    {
     "data": {
      "text/plain": [
       "RandomForestClassifier(bootstrap=True, class_weight='balanced',\n",
       "            criterion='gini', max_depth=5, max_features=None,\n",
       "            max_leaf_nodes=None, min_impurity_decrease=0.0,\n",
       "            min_impurity_split=None, min_samples_leaf=1,\n",
       "            min_samples_split=2, min_weight_fraction_leaf=0.0,\n",
       "            n_estimators=75, n_jobs=-1, oob_score=True, random_state=42,\n",
       "            verbose=0, warm_start=False)"
      ]
     },
     "execution_count": 182,
     "metadata": {},
     "output_type": "execute_result"
    }
   ],
   "source": [
    "# Applying Random Forest classifier model\n",
    "\n",
    "rf_model = RandomForestClassifier(\n",
    "    n_estimators=75,\n",
    "    #criterion='entropy',\n",
    "    max_depth=5,   # expand until all leaves are pure or contain < MIN_SAMPLES_SPLIT samples\n",
    "    #min_samples_split=100,\n",
    "    #min_samples_leaf=50,\n",
    "    #min_weight_fraction_leaf=0.0,\n",
    "    max_features=None,   # number of features to consider when looking for the best split; None: max_features=n_features\n",
    "    max_leaf_nodes=None,   # None: unlimited number of leaf nodes\n",
    "    bootstrap=True,\n",
    "    oob_score=True,   # estimate Out-of-Bag Cross Entropy\n",
    "    n_jobs=-1,   # paralellize over all CPU cores but 2\n",
    "    class_weight='balanced',    # our classes are skewed, but but too skewed\n",
    "    random_state=42,\n",
    "    verbose=0,\n",
    "    warm_start=False)\n",
    "\n",
    "rf_model.fit(X_train, y_train)"
   ]
  },
  {
   "cell_type": "code",
   "execution_count": 183,
   "metadata": {},
   "outputs": [
    {
     "data": {
      "text/plain": [
       "0.7398470743012414"
      ]
     },
     "execution_count": 183,
     "metadata": {},
     "output_type": "execute_result"
    }
   ],
   "source": [
    "rf_pred_probs=rf_model.predict(X_cv)\n",
    "\n",
    "auc=metrics.roc_auc_score(y_cv,rf_pred_probs)\n",
    "auc"
   ]
  },
  {
   "cell_type": "code",
   "execution_count": 184,
   "metadata": {},
   "outputs": [
    {
     "data": {
      "text/plain": [
       "0.7573270507162322"
      ]
     },
     "execution_count": 184,
     "metadata": {},
     "output_type": "execute_result"
    }
   ],
   "source": [
    "rf_pred_probs=rf_model.predict(X_test)\n",
    "\n",
    "auc=metrics.roc_auc_score(y_test,rf_pred_probs)\n",
    "auc"
   ]
  },
  {
   "cell_type": "code",
   "execution_count": 185,
   "metadata": {},
   "outputs": [
    {
     "data": {
      "text/plain": [
       "Index(['Var126', 'Var218_cJvF', 'Var218_UYBR', 'Var28', 'Var81', 'Var153',\n",
       "       'Var113', 'Var163', 'Var57', 'Var94', 'Var133', 'Unnamed: 0', 'Var189',\n",
       "       'Var125', 'Var13', 'Var119', 'Var73', 'Var74', 'Var140', 'Var6',\n",
       "       'Var85', 'Var38', 'Var226_FSa2', 'Var226_Qcbd', 'Var72', 'Var204__xpN',\n",
       "       'Var216_TDceha3', 'Var59', 'Var204_7WNq', 'Var149', 'Var225_kG3k',\n",
       "       'Var34', 'Var216_11p4mKe', 'Var144', 'Var37', 'Var104', 'Var134',\n",
       "       'Var105', 'Var207_7M47J5GA0pTYIFxg5uy', 'Var76', 'Var21',\n",
       "       'Var216_kZJyVg2', 'Var160', 'Var188', 'Var109', 'Var199_OTHER',\n",
       "       'Var204_STGZ', 'Var226_453m', 'Var226_Qu4f', 'Var25', 'Var132', 'Var83',\n",
       "       'Var225_xG3x', 'Var123', 'Var194_SEuy', 'Var22', 'Var223_jySVZNlOJy',\n",
       "       'Var112', 'Var226_xb3V', 'Var206_43pnToF', 'Var162', 'Var199_FoJylxy',\n",
       "       'Var226_WqMG', 'Var216_mAjbk_S', 'Var216_7WwuNea', 'Var216_OTHER',\n",
       "       'Var197_TyGl', 'Var51', 'Var221_oslk', 'Var173', 'Var212_NhsEn4L',\n",
       "       'Var207_me75fM6ugJ', 'Var206_sYC_', 'Var212_OTHER', 'Var205_09_Q',\n",
       "       'Var211_L84s', 'Var225_ELof', 'Var205_VpdQ', 'Var204_vzJD',\n",
       "       'Var229_mj86', 'Var65', 'Var68', 'Var182', 'Var222_APgdzOv',\n",
       "       'Var195_LfvqpCtLOY', 'Var219_unknown_Var219', 'Var228_R4y5gQQWY8OodqDV',\n",
       "       'Var171', 'Var203_HLqf', 'Var228_TCU50_Yjmm6GIBZ0lL_', 'Var69',\n",
       "       'Var143', 'Var78', 'Var10', 'Var136', 'Var227_6fzt', 'Var204_DtNL',\n",
       "       'Var228_F2FyR07IdsN7I', 'Var208_kIsH', 'Var204_m_h1'],\n",
       "      dtype='object')"
      ]
     },
     "execution_count": 185,
     "metadata": {},
     "output_type": "execute_result"
    }
   ],
   "source": [
    "feature_importances = pd.DataFrame(rf_model.feature_importances_,\n",
    "                                   index = X_train.columns,\n",
    "                                    columns=['importance']).sort_values('importance', ascending=False)\n",
    "feature_importances[:100].index"
   ]
  },
  {
   "cell_type": "code",
   "execution_count": 186,
   "metadata": {},
   "outputs": [],
   "source": [
    "train_data_1=train_data_1[['Var126', 'Var218_cJvF', 'Var218_UYBR', 'Var28', 'Var81', 'Var153',\n",
    "       'Var113', 'Var163', 'Var57', 'Var94', 'Var133', 'Unnamed: 0', 'Var189',\n",
    "       'Var125', 'Var13', 'Var119', 'Var73', 'Var74', 'Var140', 'Var6',\n",
    "       'Var85', 'Var38', 'Var226_FSa2', 'Var226_Qcbd', 'Var72', 'Var204__xpN',\n",
    "       'Var216_TDceha3', 'Var59', 'Var204_7WNq', 'Var149', 'Var225_kG3k',\n",
    "       'Var34', 'Var216_11p4mKe', 'Var144', 'Var37', 'Var104', 'Var134',\n",
    "       'Var105', 'Var207_7M47J5GA0pTYIFxg5uy', 'Var76', 'Var21',\n",
    "       'Var216_kZJyVg2', 'Var160', 'Var188', 'Var109', 'Var199_OTHER',\n",
    "       'Var204_STGZ', 'Var226_453m', 'Var226_Qu4f', 'Var25', 'Var132', 'Var83',\n",
    "       'Var225_xG3x', 'Var123', 'Var194_SEuy', 'Var22', 'Var223_jySVZNlOJy',\n",
    "       'Var112', 'Var226_xb3V', 'Var206_43pnToF', 'Var162', 'Var199_FoJylxy',\n",
    "       'Var226_WqMG', 'Var216_mAjbk_S', 'Var216_7WwuNea', 'Var216_OTHER',\n",
    "       'Var197_TyGl', 'Var51', 'Var221_oslk', 'Var173', 'Var212_NhsEn4L',\n",
    "       'Var207_me75fM6ugJ', 'Var206_sYC_', 'Var212_OTHER', 'Var205_09_Q',\n",
    "       'Var211_L84s', 'Var225_ELof', 'Var205_VpdQ', 'Var204_vzJD',\n",
    "       'Var229_mj86', 'Var65', 'Var68', 'Var182', 'Var222_APgdzOv',\n",
    "       'Var195_LfvqpCtLOY', 'Var219_unknown_Var219', 'Var228_R4y5gQQWY8OodqDV',\n",
    "       'Var171', 'Var203_HLqf', 'Var228_TCU50_Yjmm6GIBZ0lL_', 'Var69',\n",
    "       'Var143', 'Var78', 'Var10', 'Var136', 'Var227_6fzt', 'Var204_DtNL',\n",
    "       'Var228_F2FyR07IdsN7I', 'Var208_kIsH', 'Var204_m_h1']]"
   ]
  },
  {
   "cell_type": "code",
   "execution_count": 187,
   "metadata": {},
   "outputs": [],
   "source": [
    "X_train,X_test, y_train, y_test = train_test_split(train_data_1, appetency , stratify=appetency, test_size=0.2, random_state=42)"
   ]
  },
  {
   "cell_type": "code",
   "execution_count": 196,
   "metadata": {},
   "outputs": [],
   "source": [
    "X_train, X_test=standardize(X_train, X_test)"
   ]
  },
  {
   "cell_type": "code",
   "execution_count": 188,
   "metadata": {},
   "outputs": [],
   "source": [
    "y_train.replace(-1, 0, inplace=True)\n",
    "y_test.replace(-1, 0, inplace=True)\n",
    "y_cv.replace(-1, 0, inplace=True)"
   ]
  },
  {
   "cell_type": "markdown",
   "metadata": {},
   "source": [
    "### MLP model with feature selection and standarization"
   ]
  },
  {
   "cell_type": "code",
   "execution_count": 199,
   "metadata": {},
   "outputs": [],
   "source": [
    "output_dim = 1\n",
    "input_dim = X_train.shape[1]\n",
    "\n",
    "batch_size = 512\n",
    "nb_epoch = 50"
   ]
  },
  {
   "cell_type": "code",
   "execution_count": 200,
   "metadata": {},
   "outputs": [
    {
     "name": "stdout",
     "output_type": "stream",
     "text": [
      "_________________________________________________________________\n",
      "Layer (type)                 Output Shape              Param #   \n",
      "=================================================================\n",
      "dense_101 (Dense)            (None, 512)               51712     \n",
      "_________________________________________________________________\n",
      "dropout_67 (Dropout)         (None, 512)               0         \n",
      "_________________________________________________________________\n",
      "dense_102 (Dense)            (None, 256)               131328    \n",
      "_________________________________________________________________\n",
      "dropout_68 (Dropout)         (None, 256)               0         \n",
      "_________________________________________________________________\n",
      "dense_103 (Dense)            (None, 1)                 257       \n",
      "=================================================================\n",
      "Total params: 183,297\n",
      "Trainable params: 183,297\n",
      "Non-trainable params: 0\n",
      "_________________________________________________________________\n"
     ]
    }
   ],
   "source": [
    "model = Sequential()\n",
    "model.add(Dense(512, activation='relu', input_shape=(input_dim,), kernel_initializer='he_normal'))\n",
    "model.add(Dropout(0.2))\n",
    "#model.add(Dense(128, activation='relu', kernel_initializer='he_normal'))\n",
    "#model.add(Dropout(0.2))\n",
    "#model.add(Dense(265, activation='relu', kernel_initializer='he_normal') )\n",
    "#model.add(Dropout(0.8))\n",
    "#model.add(BatchNormalization())\n",
    "model.add(Dense(256, activation='relu', kernel_initializer='he_normal') )\n",
    "model.add(Dropout(0.8))\n",
    "#model.add(Dense(64, activation='relu', kernel_initializer='he_normal') )\n",
    "#model.add(Dropout(0.8))\n",
    "#model.add(BatchNormalization())\n",
    "model.add(Dense(output_dim, activation='sigmoid'))\n",
    "model.summary()"
   ]
  },
  {
   "cell_type": "code",
   "execution_count": 201,
   "metadata": {},
   "outputs": [
    {
     "name": "stdout",
     "output_type": "stream",
     "text": [
      "Train on 32000 samples, validate on 8000 samples\n",
      "Epoch 1/8\n",
      "32000/32000 [==============================] - 7s 206us/step - loss: 2.1006 - acc: 0.6509 - val_loss: 1.0561 - val_acc: 0.6459\n",
      "Epoch 2/8\n",
      "32000/32000 [==============================] - 2s 68us/step - loss: 1.3055 - acc: 0.6806 - val_loss: 1.0377 - val_acc: 0.6849\n",
      "Epoch 3/8\n",
      "32000/32000 [==============================] - 2s 69us/step - loss: 1.2002 - acc: 0.6932 - val_loss: 1.0297 - val_acc: 0.6950\n",
      "Epoch 4/8\n",
      "32000/32000 [==============================] - 2s 69us/step - loss: 1.1227 - acc: 0.7052 - val_loss: 1.0037 - val_acc: 0.7087\n",
      "Epoch 5/8\n",
      "32000/32000 [==============================] - 2s 75us/step - loss: 1.0853 - acc: 0.6960 - val_loss: 1.0242 - val_acc: 0.7037\n",
      "Epoch 6/8\n",
      "32000/32000 [==============================] - 2s 72us/step - loss: 1.0327 - acc: 0.7133 - val_loss: 0.9779 - val_acc: 0.6582\n",
      "Epoch 7/8\n",
      "32000/32000 [==============================] - 2s 72us/step - loss: 1.0109 - acc: 0.7129 - val_loss: 0.9773 - val_acc: 0.7236\n",
      "Epoch 8/8\n",
      "32000/32000 [==============================] - 2s 75us/step - loss: 0.9785 - acc: 0.7285 - val_loss: 0.9871 - val_acc: 0.7242\n"
     ]
    }
   ],
   "source": [
    "model.compile(optimizer='adam', loss='binary_crossentropy', metrics=['accuracy'])\n",
    "history = model.fit(X_train.values, y_train.values, batch_size=batch_size, epochs=8, verbose=1, validation_split=0.2, class_weight={0.: 1.,1.: 50})"
   ]
  },
  {
   "cell_type": "code",
   "execution_count": 202,
   "metadata": {},
   "outputs": [
    {
     "name": "stdout",
     "output_type": "stream",
     "text": [
      "Test score: 0.4688142900466919\n",
      "Test accuracy: 0.7275\n"
     ]
    }
   ],
   "source": [
    "score = model.evaluate(X_test, y_test, verbose=0)\n",
    "print('Test score:', score[0])\n",
    "print('Test accuracy:', score[1])"
   ]
  },
  {
   "cell_type": "code",
   "execution_count": 203,
   "metadata": {},
   "outputs": [
    {
     "name": "stdout",
     "output_type": "stream",
     "text": [
      "ROC-AUC score is 0.8170908462772176\n"
     ]
    }
   ],
   "source": [
    "y_pred = model.predict(X_test)\n",
    "print(\"ROC-AUC score is {}\".format(metrics.roc_auc_score(y_test, y_pred)))"
   ]
  },
  {
   "cell_type": "markdown",
   "metadata": {},
   "source": [
    "### 1D CNN model with feature selection and standarization"
   ]
  },
  {
   "cell_type": "code",
   "execution_count": 204,
   "metadata": {},
   "outputs": [
    {
     "name": "stdout",
     "output_type": "stream",
     "text": [
      "_________________________________________________________________\n",
      "Layer (type)                 Output Shape              Param #   \n",
      "=================================================================\n",
      "conv1d_15 (Conv1D)           (None, 100, 128)          256       \n",
      "_________________________________________________________________\n",
      "max_pooling1d_15 (MaxPooling (None, 50, 128)           0         \n",
      "_________________________________________________________________\n",
      "flatten_13 (Flatten)         (None, 6400)              0         \n",
      "_________________________________________________________________\n",
      "dropout_69 (Dropout)         (None, 6400)              0         \n",
      "_________________________________________________________________\n",
      "dense_104 (Dense)            (None, 256)               1638656   \n",
      "_________________________________________________________________\n",
      "dropout_70 (Dropout)         (None, 256)               0         \n",
      "_________________________________________________________________\n",
      "dense_105 (Dense)            (None, 1)                 257       \n",
      "=================================================================\n",
      "Total params: 1,639,169\n",
      "Trainable params: 1,639,169\n",
      "Non-trainable params: 0\n",
      "_________________________________________________________________\n"
     ]
    }
   ],
   "source": [
    "model = Sequential()\n",
    " \n",
    "model.add(Conv1D(128, 1, input_shape=(input_dim, 1), activation='relu'))\n",
    "#model.add(MaxPooling1D(5))\n",
    "model.add(MaxPooling1D(2))\n",
    "\n",
    "model.add(Flatten())\n",
    "model.add(Dropout(0.5))\n",
    "model.add(Dense(256, activation='relu'))\n",
    "model.add(Dropout(0.5))\n",
    "\n",
    " #model.add(Dense(256, activation='relu'))\n",
    "\n",
    "#model.add(Dropout(0.5))\n",
    "\n",
    " #model.add(BatchNormalization())\n",
    " #model.add(Dense(128, activation='relu'))\n",
    "model.add(Dense(1, activation='sigmoid'))\n",
    "model.summary()"
   ]
  },
  {
   "cell_type": "code",
   "execution_count": 205,
   "metadata": {},
   "outputs": [],
   "source": [
    "X_train_cnn = np.reshape(X_train.values, (X_train.shape[0], X_train.shape[1], 1))\n",
    "X_test_cnn = np.reshape(X_test.values, (X_test.shape[0], X_test.shape[1], 1))"
   ]
  },
  {
   "cell_type": "code",
   "execution_count": 206,
   "metadata": {},
   "outputs": [
    {
     "name": "stdout",
     "output_type": "stream",
     "text": [
      "Train on 32000 samples, validate on 8000 samples\n",
      "Epoch 1/9\n",
      "32000/32000 [==============================] - 57s 2ms/step - loss: 1.3488 - acc: 0.6497 - val_loss: 1.2272 - val_acc: 0.6332\n",
      "Epoch 2/9\n",
      "32000/32000 [==============================] - 57s 2ms/step - loss: 1.1252 - acc: 0.6667 - val_loss: 1.1317 - val_acc: 0.7076\n",
      "Epoch 3/9\n",
      "32000/32000 [==============================] - 56s 2ms/step - loss: 1.0895 - acc: 0.6739 - val_loss: 1.0756 - val_acc: 0.6970\n",
      "Epoch 4/9\n",
      "32000/32000 [==============================] - 63s 2ms/step - loss: 1.0449 - acc: 0.6885 - val_loss: 1.0709 - val_acc: 0.6650\n",
      "Epoch 5/9\n",
      "32000/32000 [==============================] - 48s 2ms/step - loss: 1.0320 - acc: 0.6786 - val_loss: 1.0990 - val_acc: 0.6075\n",
      "Epoch 6/9\n",
      "32000/32000 [==============================] - 48s 1ms/step - loss: 1.0112 - acc: 0.6866 - val_loss: 1.0392 - val_acc: 0.6340\n",
      "Epoch 7/9\n",
      "32000/32000 [==============================] - 48s 2ms/step - loss: 0.9859 - acc: 0.6935 - val_loss: 1.0544 - val_acc: 0.6719\n",
      "Epoch 8/9\n",
      "32000/32000 [==============================] - 56s 2ms/step - loss: 0.9747 - acc: 0.7085 - val_loss: 1.1011 - val_acc: 0.6246\n",
      "Epoch 9/9\n",
      "32000/32000 [==============================] - 53s 2ms/step - loss: 0.9859 - acc: 0.7061 - val_loss: 1.0709 - val_acc: 0.7609\n",
      "Test score: 0.4348352416992188\n",
      "Test accuracy: 0.7587\n"
     ]
    }
   ],
   "source": [
    "model.compile(optimizer='adam', loss='binary_crossentropy', metrics=['accuracy'])\n",
    "history = model.fit(X_train_cnn, y_train, batch_size=batch_size, epochs=9, verbose=1, validation_split=0.2, class_weight={0.: 1.,1.: 50})\n",
    "score = model.evaluate(X_test_cnn, y_test, verbose=0)\n",
    "print('Test score:', score[0])\n",
    "print('Test accuracy:', score[1])"
   ]
  },
  {
   "cell_type": "code",
   "execution_count": 207,
   "metadata": {},
   "outputs": [
    {
     "name": "stdout",
     "output_type": "stream",
     "text": [
      "ROC-AUC score is 0.8076606288565682\n"
     ]
    }
   ],
   "source": [
    "y_pred = model.predict(X_test_cnn)\n",
    "print(\"ROC-AUC score is {}\".format( metrics.roc_auc_score(y_test, y_pred)))"
   ]
  },
  {
   "cell_type": "markdown",
   "metadata": {},
   "source": [
    "### Taking target variable as Upselling"
   ]
  },
  {
   "cell_type": "code",
   "execution_count": 210,
   "metadata": {},
   "outputs": [],
   "source": [
    "X_train,X_test, y_train, y_test = train_test_split(train_data_1, upselling, stratify=upselling, test_size=0.2, random_state=42)"
   ]
  },
  {
   "cell_type": "code",
   "execution_count": 211,
   "metadata": {},
   "outputs": [],
   "source": [
    "X_train, X_test=standardize(X_train, X_test)"
   ]
  },
  {
   "cell_type": "code",
   "execution_count": 212,
   "metadata": {},
   "outputs": [],
   "source": [
    "y_train.replace(-1, 0, inplace=True)\n",
    "y_test.replace(-1, 0, inplace=True)"
   ]
  },
  {
   "cell_type": "code",
   "execution_count": 213,
   "metadata": {},
   "outputs": [],
   "source": [
    "X_train,X_cv, y_train, y_cv = train_test_split(X_train , y_train , stratify=y_train, test_size=0.2, random_state=42)"
   ]
  },
  {
   "cell_type": "code",
   "execution_count": 214,
   "metadata": {},
   "outputs": [],
   "source": [
    "y_cv.replace(-1, 0, inplace=True)"
   ]
  },
  {
   "cell_type": "code",
   "execution_count": 215,
   "metadata": {},
   "outputs": [
    {
     "name": "stdout",
     "output_type": "stream",
     "text": [
      "Best HyperParameter:  {'max_depth': 5, 'n_estimators': 75}\n"
     ]
    }
   ],
   "source": [
    "random_classifier = RandomForestClassifier()\n",
    "\n",
    "parameters = { 'max_depth':np.arange(5,10),'n_estimators':list(range(75,301,25))}\n",
    "\n",
    "random_grid = GridSearchCV(random_classifier, parameters, cv = 3)\n",
    "\n",
    "random_grid.fit(X_cv, y_cv)\n",
    "\n",
    "print(\"Best HyperParameter: \",random_grid.best_params_)"
   ]
  },
  {
   "cell_type": "code",
   "execution_count": 216,
   "metadata": {},
   "outputs": [
    {
     "data": {
      "text/plain": [
       "RandomForestClassifier(bootstrap=True, class_weight='balanced',\n",
       "            criterion='gini', max_depth=5, max_features=None,\n",
       "            max_leaf_nodes=None, min_impurity_decrease=0.0,\n",
       "            min_impurity_split=None, min_samples_leaf=1,\n",
       "            min_samples_split=2, min_weight_fraction_leaf=0.0,\n",
       "            n_estimators=75, n_jobs=-1, oob_score=True, random_state=42,\n",
       "            verbose=0, warm_start=False)"
      ]
     },
     "execution_count": 216,
     "metadata": {},
     "output_type": "execute_result"
    }
   ],
   "source": [
    "rf_model = RandomForestClassifier(\n",
    "    n_estimators=75,\n",
    "    #criterion='entropy',\n",
    "    max_depth=5,   # expand until all leaves are pure or contain < MIN_SAMPLES_SPLIT samples\n",
    "    #min_samples_split=100,\n",
    "    #min_samples_leaf=50,\n",
    "    #min_weight_fraction_leaf=0.0,\n",
    "    max_features=None,   # number of features to consider when looking for the best split; None: max_features=n_features\n",
    "    max_leaf_nodes=None,   # None: unlimited number of leaf nodes\n",
    "    bootstrap=True,\n",
    "    oob_score=True,   # estimate Out-of-Bag Cross Entropy\n",
    "    n_jobs=-1,   # paralellize over all CPU cores but 2\n",
    "    class_weight='balanced',    # our classes are skewed, but but too skewed\n",
    "    random_state=42,\n",
    "    verbose=0,\n",
    "    warm_start=False)\n",
    "\n",
    "rf_model.fit(X_train, y_train)"
   ]
  },
  {
   "cell_type": "code",
   "execution_count": 217,
   "metadata": {},
   "outputs": [
    {
     "data": {
      "text/plain": [
       "0.7572707160626417"
      ]
     },
     "execution_count": 217,
     "metadata": {},
     "output_type": "execute_result"
    }
   ],
   "source": [
    "rf_pred_probs=rf_model.predict(X_cv)\n",
    "\n",
    "auc=metrics.roc_auc_score(y_cv,rf_pred_probs)\n",
    "auc"
   ]
  },
  {
   "cell_type": "code",
   "execution_count": 218,
   "metadata": {},
   "outputs": [
    {
     "data": {
      "text/plain": [
       "0.7475911898325449"
      ]
     },
     "execution_count": 218,
     "metadata": {},
     "output_type": "execute_result"
    }
   ],
   "source": [
    "rf_pred_probs=rf_model.predict(X_test)\n",
    "\n",
    "auc=metrics.roc_auc_score(y_test,rf_pred_probs)\n",
    "auc"
   ]
  },
  {
   "cell_type": "code",
   "execution_count": 219,
   "metadata": {},
   "outputs": [
    {
     "data": {
      "text/plain": [
       "Index(['Var126', 'Var28', 'Var153', 'Var225_ELof', 'Var6', 'Var226_FSa2',\n",
       "       'Var113', 'Var38', 'Var218_UYBR', 'Var133', 'Var13', 'Var163', 'Var134',\n",
       "       'Var81', 'Unnamed: 0', 'Var211_L84s', 'Var183', 'Var119', 'Var94',\n",
       "       'Var26', 'Var76', 'Var57', 'Var73', 'Var125', 'Var61', 'Var135',\n",
       "       'Var140', 'Var219_FzaX', 'Var149', 'Var74', 'Var16', 'Var102',\n",
       "       'Var210_uKAI', 'Var97', 'Var85', 'Var218_cJvF', 'Var44', 'Var7',\n",
       "       'Var43', 'Var24', 'Var173', 'Var25', 'Var225_kG3k', 'Var204_RVjC',\n",
       "       'Var51', 'Var196_z3mO', 'Var197_OTHER', 'Var228_R4y5gQQWY8OodqDV',\n",
       "       'Var216_NGZxnJM', 'Var109', 'Var189', 'Var204_DtNL', 'Var78', 'Var107',\n",
       "       'Var216_kq0n8Bj', 'Var22', 'Var112', 'Var10', 'Var216_beK4AFX',\n",
       "       'Var166', 'Var206_zm5i', 'Var144', 'Var165', 'Var123', 'Var193_2Knk1KF',\n",
       "       'Var132', 'Var83', 'Var211_Mtgm', 'Var197_TyGl', 'Var226_xb3V',\n",
       "       'Var229_mj86', 'Var226_7P5s', 'Var157', 'Var216_mAja5EA', 'Var5',\n",
       "       'Var219_OFWH', 'Var72', 'Var160', 'Var204_m_h1', 'Var223_LM8l689qOp',\n",
       "       'Var226_5Acm', 'Var216_kZJtVhC', 'Var172', 'Var35', 'Var196_1K8T',\n",
       "       'Var96', 'Var216_OTHER', 'Var206_IYzP', 'Var194_SEuy', 'Var193_RO12',\n",
       "       'Var188', 'Var216_7WwuNea', 'Var65', 'Var33', 'Var227_vJ_w8kB',\n",
       "       'Var226_uWr3', 'Var216_kZJyVg2', 'Var206_unknown_Var206', 'Var197_lK27',\n",
       "       'Var221_zCkv'],\n",
       "      dtype='object')"
      ]
     },
     "execution_count": 219,
     "metadata": {},
     "output_type": "execute_result"
    }
   ],
   "source": [
    "feature_importances = pd.DataFrame(rf_model.feature_importances_,\n",
    "                                   index = X_train.columns,\n",
    "                                    columns=['importance']).sort_values('importance', ascending=False)\n",
    "feature_importances[:100].index"
   ]
  },
  {
   "cell_type": "code",
   "execution_count": 220,
   "metadata": {},
   "outputs": [],
   "source": [
    "train_data_1=train_data_1[['Var126', 'Var28', 'Var153', 'Var225_ELof', 'Var6', 'Var226_FSa2',\n",
    "       'Var113', 'Var38', 'Var218_UYBR', 'Var133', 'Var13', 'Var163', 'Var134',\n",
    "       'Var81', 'Unnamed: 0', 'Var211_L84s', 'Var183', 'Var119', 'Var94',\n",
    "       'Var26', 'Var76', 'Var57', 'Var73', 'Var125', 'Var61', 'Var135',\n",
    "       'Var140', 'Var219_FzaX', 'Var149', 'Var74', 'Var16', 'Var102',\n",
    "       'Var210_uKAI', 'Var97', 'Var85', 'Var218_cJvF', 'Var44', 'Var7',\n",
    "       'Var43', 'Var24', 'Var173', 'Var25', 'Var225_kG3k', 'Var204_RVjC',\n",
    "       'Var51', 'Var196_z3mO', 'Var197_OTHER', 'Var228_R4y5gQQWY8OodqDV',\n",
    "       'Var216_NGZxnJM', 'Var109', 'Var189', 'Var204_DtNL', 'Var78', 'Var107',\n",
    "       'Var216_kq0n8Bj', 'Var22', 'Var112', 'Var10', 'Var216_beK4AFX',\n",
    "       'Var166', 'Var206_zm5i', 'Var144', 'Var165', 'Var123', 'Var193_2Knk1KF',\n",
    "       'Var132', 'Var83', 'Var211_Mtgm', 'Var197_TyGl', 'Var226_xb3V',\n",
    "       'Var229_mj86', 'Var226_7P5s', 'Var157', 'Var216_mAja5EA', 'Var5',\n",
    "       'Var219_OFWH', 'Var72', 'Var160', 'Var204_m_h1', 'Var223_LM8l689qOp',\n",
    "       'Var226_5Acm', 'Var216_kZJtVhC', 'Var172', 'Var35', 'Var196_1K8T',\n",
    "       'Var96', 'Var216_OTHER', 'Var206_IYzP', 'Var194_SEuy', 'Var193_RO12',\n",
    "       'Var188', 'Var216_7WwuNea', 'Var65', 'Var33', 'Var227_vJ_w8kB',\n",
    "       'Var226_uWr3', 'Var216_kZJyVg2', 'Var206_unknown_Var206', 'Var197_lK27',\n",
    "       'Var221_zCkv']]"
   ]
  },
  {
   "cell_type": "code",
   "execution_count": 221,
   "metadata": {},
   "outputs": [],
   "source": [
    "X_train,X_test, y_train, y_test = train_test_split(train_data_1, upselling , stratify=upselling, test_size=0.2, random_state=42)"
   ]
  },
  {
   "cell_type": "code",
   "execution_count": 222,
   "metadata": {},
   "outputs": [],
   "source": [
    "X_train, X_test=standardize(X_train, X_test)"
   ]
  },
  {
   "cell_type": "code",
   "execution_count": 223,
   "metadata": {},
   "outputs": [],
   "source": [
    "y_train.replace(-1, 0, inplace=True)\n",
    "y_test.replace(-1, 0, inplace=True)"
   ]
  },
  {
   "cell_type": "markdown",
   "metadata": {},
   "source": [
    "### MLP model with feature selection and standarization"
   ]
  },
  {
   "cell_type": "code",
   "execution_count": 224,
   "metadata": {},
   "outputs": [],
   "source": [
    "output_dim = 1\n",
    "input_dim = X_train.shape[1]\n",
    "\n",
    "batch_size = 512\n",
    "nb_epoch = 50"
   ]
  },
  {
   "cell_type": "code",
   "execution_count": 226,
   "metadata": {},
   "outputs": [
    {
     "name": "stdout",
     "output_type": "stream",
     "text": [
      "_________________________________________________________________\n",
      "Layer (type)                 Output Shape              Param #   \n",
      "=================================================================\n",
      "dense_106 (Dense)            (None, 512)               51712     \n",
      "_________________________________________________________________\n",
      "dropout_71 (Dropout)         (None, 512)               0         \n",
      "_________________________________________________________________\n",
      "dense_107 (Dense)            (None, 256)               131328    \n",
      "_________________________________________________________________\n",
      "dropout_72 (Dropout)         (None, 256)               0         \n",
      "_________________________________________________________________\n",
      "dense_108 (Dense)            (None, 1)                 257       \n",
      "=================================================================\n",
      "Total params: 183,297\n",
      "Trainable params: 183,297\n",
      "Non-trainable params: 0\n",
      "_________________________________________________________________\n"
     ]
    }
   ],
   "source": [
    "model = Sequential()\n",
    "model.add(Dense(512, activation='relu', input_shape=(input_dim,), kernel_initializer='he_normal'))\n",
    "model.add(Dropout(0.2))\n",
    "#model.add(Dense(128, activation='relu', kernel_initializer='he_normal'))\n",
    "#model.add(Dropout(0.2))\n",
    "#model.add(Dense(265, activation='relu', kernel_initializer='he_normal') )\n",
    "#model.add(Dropout(0.8))\n",
    "#model.add(BatchNormalization())\n",
    "model.add(Dense(256, activation='relu', kernel_initializer='he_normal') )\n",
    "model.add(Dropout(0.8))\n",
    "#model.add(Dense(64, activation='relu', kernel_initializer='he_normal') )\n",
    "#model.add(Dropout(0.8))\n",
    "#model.add(BatchNormalization())\n",
    "model.add(Dense(output_dim, activation='sigmoid'))\n",
    "model.summary()"
   ]
  },
  {
   "cell_type": "code",
   "execution_count": 227,
   "metadata": {},
   "outputs": [
    {
     "name": "stdout",
     "output_type": "stream",
     "text": [
      "Train on 32000 samples, validate on 8000 samples\n",
      "Epoch 1/8\n",
      "32000/32000 [==============================] - 7s 214us/step - loss: 1.5517 - acc: 0.6031 - val_loss: 1.0766 - val_acc: 0.6029\n",
      "Epoch 2/8\n",
      "32000/32000 [==============================] - 2s 76us/step - loss: 1.1475 - acc: 0.6319 - val_loss: 1.0378 - val_acc: 0.6614\n",
      "Epoch 3/8\n",
      "32000/32000 [==============================] - 3s 83us/step - loss: 1.0693 - acc: 0.6613 - val_loss: 1.0030 - val_acc: 0.6367\n",
      "Epoch 4/8\n",
      "32000/32000 [==============================] - 3s 83us/step - loss: 1.0383 - acc: 0.6718 - val_loss: 0.9844 - val_acc: 0.6640\n",
      "Epoch 5/8\n",
      "32000/32000 [==============================] - 3s 79us/step - loss: 1.0005 - acc: 0.6882 - val_loss: 0.9702 - val_acc: 0.7146\n",
      "Epoch 6/8\n",
      "32000/32000 [==============================] - 3s 89us/step - loss: 0.9812 - acc: 0.7034 - val_loss: 0.9623 - val_acc: 0.7001\n",
      "Epoch 7/8\n",
      "32000/32000 [==============================] - 4s 125us/step - loss: 0.9574 - acc: 0.7231 - val_loss: 0.9588 - val_acc: 0.7197\n",
      "Epoch 8/8\n",
      "32000/32000 [==============================] - 2s 71us/step - loss: 0.9437 - acc: 0.7242 - val_loss: 0.9515 - val_acc: 0.7229\n"
     ]
    }
   ],
   "source": [
    "model.compile(optimizer='adam', loss='binary_crossentropy', metrics=['accuracy'])\n",
    "history = model.fit(X_train.values, y_train.values, batch_size=batch_size, epochs=8, verbose=1, validation_split=0.2, class_weight={0.: 1.,1.: 13})"
   ]
  },
  {
   "cell_type": "code",
   "execution_count": 228,
   "metadata": {},
   "outputs": [
    {
     "name": "stdout",
     "output_type": "stream",
     "text": [
      "Test score: 0.5093770072937012\n",
      "Test accuracy: 0.725\n"
     ]
    }
   ],
   "source": [
    "score = model.evaluate(X_test, y_test, verbose=0)\n",
    "print('Test score:', score[0])\n",
    "print('Test accuracy:', score[1])"
   ]
  },
  {
   "cell_type": "code",
   "execution_count": 229,
   "metadata": {},
   "outputs": [
    {
     "name": "stdout",
     "output_type": "stream",
     "text": [
      "ROC-AUC score is 0.8088366256476685\n"
     ]
    }
   ],
   "source": [
    "y_pred = model.predict(X_test)\n",
    "print(\"ROC-AUC score is {}\".format(metrics.roc_auc_score(y_test, y_pred)))"
   ]
  },
  {
   "cell_type": "markdown",
   "metadata": {},
   "source": [
    "### 1D CNN model with feature selection and standarization"
   ]
  },
  {
   "cell_type": "code",
   "execution_count": 230,
   "metadata": {},
   "outputs": [
    {
     "name": "stdout",
     "output_type": "stream",
     "text": [
      "_________________________________________________________________\n",
      "Layer (type)                 Output Shape              Param #   \n",
      "=================================================================\n",
      "conv1d_16 (Conv1D)           (None, 100, 128)          256       \n",
      "_________________________________________________________________\n",
      "max_pooling1d_16 (MaxPooling (None, 50, 128)           0         \n",
      "_________________________________________________________________\n",
      "flatten_14 (Flatten)         (None, 6400)              0         \n",
      "_________________________________________________________________\n",
      "dropout_73 (Dropout)         (None, 6400)              0         \n",
      "_________________________________________________________________\n",
      "dense_109 (Dense)            (None, 256)               1638656   \n",
      "_________________________________________________________________\n",
      "dropout_74 (Dropout)         (None, 256)               0         \n",
      "_________________________________________________________________\n",
      "dense_110 (Dense)            (None, 1)                 257       \n",
      "=================================================================\n",
      "Total params: 1,639,169\n",
      "Trainable params: 1,639,169\n",
      "Non-trainable params: 0\n",
      "_________________________________________________________________\n"
     ]
    }
   ],
   "source": [
    "model = Sequential()\n",
    " \n",
    "model.add(Conv1D(128, 1, input_shape=(input_dim, 1), activation='relu'))\n",
    "#model.add(MaxPooling1D(5))\n",
    "model.add(MaxPooling1D(2))\n",
    "\n",
    "model.add(Flatten())\n",
    "model.add(Dropout(0.5))\n",
    "model.add(Dense(256, activation='relu'))\n",
    "model.add(Dropout(0.5))\n",
    "\n",
    " #model.add(Dense(256, activation='relu'))\n",
    "\n",
    "#model.add(Dropout(0.5))\n",
    "\n",
    " #model.add(BatchNormalization())\n",
    " #model.add(Dense(128, activation='relu'))\n",
    "model.add(Dense(1, activation='sigmoid'))\n",
    "model.summary()"
   ]
  },
  {
   "cell_type": "code",
   "execution_count": 231,
   "metadata": {},
   "outputs": [],
   "source": [
    "X_train_cnn = np.reshape(X_train.values, (X_train.shape[0], X_train.shape[1], 1))\n",
    "X_test_cnn = np.reshape(X_test.values, (X_test.shape[0], X_test.shape[1], 1))"
   ]
  },
  {
   "cell_type": "code",
   "execution_count": 232,
   "metadata": {},
   "outputs": [
    {
     "name": "stdout",
     "output_type": "stream",
     "text": [
      "Train on 32000 samples, validate on 8000 samples\n",
      "Epoch 1/19\n",
      "32000/32000 [==============================] - 57s 2ms/step - loss: 0.2685 - acc: 0.9157 - val_loss: 0.2270 - val_acc: 0.9279\n",
      "Epoch 2/19\n",
      "32000/32000 [==============================] - 54s 2ms/step - loss: 0.2290 - acc: 0.9260 - val_loss: 0.2223 - val_acc: 0.9279\n",
      "Epoch 3/19\n",
      "32000/32000 [==============================] - 52s 2ms/step - loss: 0.2249 - acc: 0.9260 - val_loss: 0.2198 - val_acc: 0.9279\n",
      "Epoch 4/19\n",
      "32000/32000 [==============================] - 53s 2ms/step - loss: 0.2251 - acc: 0.9260 - val_loss: 0.2190 - val_acc: 0.9279\n",
      "Epoch 5/19\n",
      "32000/32000 [==============================] - 58s 2ms/step - loss: 0.2240 - acc: 0.9260 - val_loss: 0.2215 - val_acc: 0.9279\n",
      "Epoch 6/19\n",
      "32000/32000 [==============================] - 54s 2ms/step - loss: 0.2235 - acc: 0.9260 - val_loss: 0.2211 - val_acc: 0.9279\n",
      "Epoch 7/19\n",
      "32000/32000 [==============================] - 59s 2ms/step - loss: 0.2210 - acc: 0.9260 - val_loss: 0.2171 - val_acc: 0.9279\n",
      "Epoch 8/19\n",
      "32000/32000 [==============================] - 54s 2ms/step - loss: 0.2197 - acc: 0.9260 - val_loss: 0.2154 - val_acc: 0.9279\n",
      "Epoch 9/19\n",
      "32000/32000 [==============================] - 52s 2ms/step - loss: 0.2195 - acc: 0.9259 - val_loss: 0.2144 - val_acc: 0.9279\n",
      "Epoch 10/19\n",
      "32000/32000 [==============================] - 51s 2ms/step - loss: 0.2180 - acc: 0.9260 - val_loss: 0.2138 - val_acc: 0.9279\n",
      "Epoch 11/19\n",
      "32000/32000 [==============================] - 51s 2ms/step - loss: 0.2176 - acc: 0.9259 - val_loss: 0.2133 - val_acc: 0.9277\n",
      "Epoch 12/19\n",
      "32000/32000 [==============================] - 52s 2ms/step - loss: 0.2159 - acc: 0.9261 - val_loss: 0.2131 - val_acc: 0.9279\n",
      "Epoch 13/19\n",
      "32000/32000 [==============================] - 54s 2ms/step - loss: 0.2151 - acc: 0.9261 - val_loss: 0.2102 - val_acc: 0.9281\n",
      "Epoch 14/19\n",
      "32000/32000 [==============================] - 52s 2ms/step - loss: 0.2151 - acc: 0.9267 - val_loss: 0.2091 - val_acc: 0.9283\n",
      "Epoch 15/19\n",
      "32000/32000 [==============================] - 54s 2ms/step - loss: 0.2136 - acc: 0.9273 - val_loss: 0.2088 - val_acc: 0.9284\n",
      "Epoch 16/19\n",
      "32000/32000 [==============================] - 63s 2ms/step - loss: 0.2121 - acc: 0.9286 - val_loss: 0.2137 - val_acc: 0.9334\n",
      "Epoch 17/19\n",
      "32000/32000 [==============================] - 55s 2ms/step - loss: 0.2109 - acc: 0.9292 - val_loss: 0.2072 - val_acc: 0.9293\n",
      "Epoch 18/19\n",
      "32000/32000 [==============================] - 55s 2ms/step - loss: 0.2092 - acc: 0.9301 - val_loss: 0.2053 - val_acc: 0.9310\n",
      "Epoch 19/19\n",
      "32000/32000 [==============================] - 54s 2ms/step - loss: 0.2084 - acc: 0.9297 - val_loss: 0.2043 - val_acc: 0.9335\n",
      "Test score: 0.20780178388357162\n",
      "Test accuracy: 0.9336\n"
     ]
    }
   ],
   "source": [
    "model.compile(optimizer='adam', loss='binary_crossentropy', metrics=['accuracy'])\n",
    "history = model.fit(X_train_cnn, y_train, batch_size=batch_size, epochs=19, verbose=1, validation_split=0.2, class_weight={0.: 1.,1.: 1})\n",
    "score = model.evaluate(X_test_cnn, y_test, verbose=0)\n",
    "print('Test score:', score[0])\n",
    "print('Test accuracy:', score[1])"
   ]
  },
  {
   "cell_type": "code",
   "execution_count": 233,
   "metadata": {},
   "outputs": [
    {
     "name": "stdout",
     "output_type": "stream",
     "text": [
      "ROC-AUC score is 0.8018233713251859\n"
     ]
    }
   ],
   "source": [
    "y_pred = model.predict(X_test_cnn)\n",
    "print(\"ROC-AUC score is {}\".format( metrics.roc_auc_score(y_test, y_pred)))"
   ]
  },
  {
   "cell_type": "code",
   "execution_count": 234,
   "metadata": {},
   "outputs": [
    {
     "name": "stdout",
     "output_type": "stream",
     "text": [
      "+--------------+-----------------+----------+\n",
      "|  Model Name  | Target Variable | Test AUC |\n",
      "+--------------+-----------------+----------+\n",
      "|  MLP model   |      churn      |  0.687   |\n",
      "| 1D CNN model |      churn      |  0.693   |\n",
      "|  MLP model   |    appetency    |  0.817   |\n",
      "| 1D CNN model |    appetency    |  0.807   |\n",
      "|  MLP model   |    upselling    |  0.808   |\n",
      "| 1D CNN model |    upselling    |  0.801   |\n",
      "+--------------+-----------------+----------+\n"
     ]
    }
   ],
   "source": [
    "from prettytable import PrettyTable\n",
    "    \n",
    "x = PrettyTable()\n",
    "\n",
    "x.field_names = [\"Model Name\", \"Target Variable\", \"Test AUC\"]\n",
    "x.add_row(['MLP model','churn','0.687'])\n",
    "x.add_row(['1D CNN model','churn','0.693'])\n",
    "x.add_row(['MLP model','appetency','0.817'])\n",
    "x.add_row(['1D CNN model','appetency','0.807'])\n",
    "x.add_row(['MLP model','upselling','0.808'])\n",
    "x.add_row(['1D CNN model','upselling','0.801'])\n",
    "print(x)"
   ]
  },
  {
   "cell_type": "markdown",
   "metadata": {},
   "source": [
    "### Steps to be followed"
   ]
  },
  {
   "cell_type": "markdown",
   "metadata": {},
   "source": [
    "1. Acquiring the dataset.\n",
    "2. Clean the dataset and get it into a format convenient for analysis.\n",
    "3. Summarizing and visualizing important characteristics and statistical properties of the dataset.\n",
    "4. Building models to predict the customer relationship behaviour, evaluate the results of models, and eventually, choose the best suitable predictive model ."
   ]
  },
  {
   "cell_type": "markdown",
   "metadata": {},
   "source": [
    "### Refereces"
   ]
  },
  {
   "cell_type": "markdown",
   "metadata": {},
   "source": [
    "* https://www.kaggle.com/asminalev/kddcup-2009-data-analysis\n",
    "* https://github.com/jjmanrique/KDD-Cup-2009/blob/master/KDD_small.ipynb\n",
    "    "
   ]
  },
  {
   "cell_type": "code",
   "execution_count": null,
   "metadata": {
    "collapsed": true
   },
   "outputs": [],
   "source": []
  }
 ],
 "metadata": {
  "kernelspec": {
   "display_name": "Python 3",
   "language": "python",
   "name": "python3"
  },
  "language_info": {
   "codemirror_mode": {
    "name": "ipython",
    "version": 3
   },
   "file_extension": ".py",
   "mimetype": "text/x-python",
   "name": "python",
   "nbconvert_exporter": "python",
   "pygments_lexer": "ipython3",
   "version": "3.7.1"
  }
 },
 "nbformat": 4,
 "nbformat_minor": 2
}
