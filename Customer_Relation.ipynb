{
 "cells": [
  {
   "cell_type": "markdown",
   "metadata": {},
   "source": [
    "<h3>KDD Cup 2009 Orange Customer Relationships</h3>"
   ]
  },
  {
   "cell_type": "markdown",
   "metadata": {},
   "source": [
    " KDD Cup is the annual Data Mining and Knowledge Discovery competition organized by ACM Special Interest Group on Knowledge Discovery and Data Mining, the leading professional organization of data miners.\n",
    "\n",
    " In the The KDD Cup 2009, a large marketing databases from the French Telecom company Orange had been offered to work on to predict the propensity of customers to\n",
    "\n",
    "- switch provider (churn),\n",
    "- buy new products or services (appetency),\n",
    "- make the sale more profitable (up-selling)"
   ]
  },
  {
   "cell_type": "markdown",
   "metadata": {},
   "source": [
    "In this dataset, there are all meaningless header names for the features. That's why we need to understand the relations between those features. The most important point for the analysis is to visualise these relations and put a theory that these relations fit in. We shall clean the data first and visualise. Later with the right questions and analysing those questions, we can find the right model for the best performance for predictions."
   ]
  },
  {
   "cell_type": "code",
   "execution_count": 1,
   "metadata": {},
   "outputs": [],
   "source": [
    "# loading libraries\n",
    "import numpy as np\n",
    "import pandas as pd\n",
    "import matplotlib.pyplot as plt\n",
    "from sklearn import metrics\n",
    "from sklearn.model_selection import StratifiedShuffleSplit\n",
    "from sklearn.ensemble import RandomForestClassifier, GradientBoostingClassifier\n",
    "from sklearn.model_selection import train_test_split\n",
    "from sklearn.model_selection import StratifiedKFold\n",
    "from sklearn import preprocessing\n",
    "from sklearn.utils import resample\n",
    "from sklearn.neural_network import MLPClassifier\n",
    "from sklearn.model_selection import GridSearchCV\n",
    "from xgboost import XGBClassifier\n",
    "import seaborn as sns"
   ]
  },
  {
   "cell_type": "code",
   "execution_count": 3,
   "metadata": {},
   "outputs": [
    {
     "data": {
      "text/plain": [
       "'C:\\\\Users\\\\abc\\\\Code_base'"
      ]
     },
     "execution_count": 3,
     "metadata": {},
     "output_type": "execute_result"
    }
   ],
   "source": [
    "import os\n",
    "os.getcwd()"
   ]
  },
  {
   "cell_type": "code",
   "execution_count": 4,
   "metadata": {},
   "outputs": [],
   "source": [
    "# changing directory\n",
    "os.chdir('C:/Users/abc/Documents/kdd 2019')     "
   ]
  },
  {
   "cell_type": "code",
   "execution_count": 55,
   "metadata": {},
   "outputs": [
    {
     "name": "stderr",
     "output_type": "stream",
     "text": [
      "C:\\Users\\abc\\Anaconda3\\lib\\site-packages\\ipykernel_launcher.py:2: FutureWarning: read_table is deprecated, use read_csv instead, passing sep='\\t'.\n",
      "  \n"
     ]
    },
    {
     "data": {
      "text/html": [
       "<div>\n",
       "<style scoped>\n",
       "    .dataframe tbody tr th:only-of-type {\n",
       "        vertical-align: middle;\n",
       "    }\n",
       "\n",
       "    .dataframe tbody tr th {\n",
       "        vertical-align: top;\n",
       "    }\n",
       "\n",
       "    .dataframe thead th {\n",
       "        text-align: right;\n",
       "    }\n",
       "</style>\n",
       "<table border=\"1\" class=\"dataframe\">\n",
       "  <thead>\n",
       "    <tr style=\"text-align: right;\">\n",
       "      <th></th>\n",
       "      <th>Var1</th>\n",
       "      <th>Var2</th>\n",
       "      <th>Var3</th>\n",
       "      <th>Var4</th>\n",
       "      <th>Var5</th>\n",
       "      <th>Var6</th>\n",
       "      <th>Var7</th>\n",
       "      <th>Var8</th>\n",
       "      <th>Var9</th>\n",
       "      <th>Var10</th>\n",
       "      <th>...</th>\n",
       "      <th>Var221</th>\n",
       "      <th>Var222</th>\n",
       "      <th>Var223</th>\n",
       "      <th>Var224</th>\n",
       "      <th>Var225</th>\n",
       "      <th>Var226</th>\n",
       "      <th>Var227</th>\n",
       "      <th>Var228</th>\n",
       "      <th>Var229</th>\n",
       "      <th>Var230</th>\n",
       "    </tr>\n",
       "  </thead>\n",
       "  <tbody>\n",
       "    <tr>\n",
       "      <th>0</th>\n",
       "      <td>NaN</td>\n",
       "      <td>NaN</td>\n",
       "      <td>NaN</td>\n",
       "      <td>NaN</td>\n",
       "      <td>NaN</td>\n",
       "      <td>1526.0</td>\n",
       "      <td>7.0</td>\n",
       "      <td>NaN</td>\n",
       "      <td>NaN</td>\n",
       "      <td>NaN</td>\n",
       "      <td>...</td>\n",
       "      <td>oslk</td>\n",
       "      <td>fXVEsaq</td>\n",
       "      <td>jySVZNlOJy</td>\n",
       "      <td>NaN</td>\n",
       "      <td>NaN</td>\n",
       "      <td>xb3V</td>\n",
       "      <td>RAYp</td>\n",
       "      <td>F2FyR07IdsN7I</td>\n",
       "      <td>NaN</td>\n",
       "      <td>NaN</td>\n",
       "    </tr>\n",
       "    <tr>\n",
       "      <th>1</th>\n",
       "      <td>NaN</td>\n",
       "      <td>NaN</td>\n",
       "      <td>NaN</td>\n",
       "      <td>NaN</td>\n",
       "      <td>NaN</td>\n",
       "      <td>525.0</td>\n",
       "      <td>0.0</td>\n",
       "      <td>NaN</td>\n",
       "      <td>NaN</td>\n",
       "      <td>NaN</td>\n",
       "      <td>...</td>\n",
       "      <td>oslk</td>\n",
       "      <td>2Kb5FSF</td>\n",
       "      <td>LM8l689qOp</td>\n",
       "      <td>NaN</td>\n",
       "      <td>NaN</td>\n",
       "      <td>fKCe</td>\n",
       "      <td>RAYp</td>\n",
       "      <td>F2FyR07IdsN7I</td>\n",
       "      <td>NaN</td>\n",
       "      <td>NaN</td>\n",
       "    </tr>\n",
       "    <tr>\n",
       "      <th>2</th>\n",
       "      <td>NaN</td>\n",
       "      <td>NaN</td>\n",
       "      <td>NaN</td>\n",
       "      <td>NaN</td>\n",
       "      <td>NaN</td>\n",
       "      <td>5236.0</td>\n",
       "      <td>7.0</td>\n",
       "      <td>NaN</td>\n",
       "      <td>NaN</td>\n",
       "      <td>NaN</td>\n",
       "      <td>...</td>\n",
       "      <td>Al6ZaUT</td>\n",
       "      <td>NKv4yOc</td>\n",
       "      <td>jySVZNlOJy</td>\n",
       "      <td>NaN</td>\n",
       "      <td>kG3k</td>\n",
       "      <td>Qu4f</td>\n",
       "      <td>02N6s8f</td>\n",
       "      <td>ib5G6X1eUxUn6</td>\n",
       "      <td>am7c</td>\n",
       "      <td>NaN</td>\n",
       "    </tr>\n",
       "    <tr>\n",
       "      <th>3</th>\n",
       "      <td>NaN</td>\n",
       "      <td>NaN</td>\n",
       "      <td>NaN</td>\n",
       "      <td>NaN</td>\n",
       "      <td>NaN</td>\n",
       "      <td>NaN</td>\n",
       "      <td>0.0</td>\n",
       "      <td>NaN</td>\n",
       "      <td>NaN</td>\n",
       "      <td>NaN</td>\n",
       "      <td>...</td>\n",
       "      <td>oslk</td>\n",
       "      <td>CE7uk3u</td>\n",
       "      <td>LM8l689qOp</td>\n",
       "      <td>NaN</td>\n",
       "      <td>NaN</td>\n",
       "      <td>FSa2</td>\n",
       "      <td>RAYp</td>\n",
       "      <td>F2FyR07IdsN7I</td>\n",
       "      <td>NaN</td>\n",
       "      <td>NaN</td>\n",
       "    </tr>\n",
       "    <tr>\n",
       "      <th>4</th>\n",
       "      <td>NaN</td>\n",
       "      <td>NaN</td>\n",
       "      <td>NaN</td>\n",
       "      <td>NaN</td>\n",
       "      <td>NaN</td>\n",
       "      <td>1029.0</td>\n",
       "      <td>7.0</td>\n",
       "      <td>NaN</td>\n",
       "      <td>NaN</td>\n",
       "      <td>NaN</td>\n",
       "      <td>...</td>\n",
       "      <td>oslk</td>\n",
       "      <td>1J2cvxe</td>\n",
       "      <td>LM8l689qOp</td>\n",
       "      <td>NaN</td>\n",
       "      <td>kG3k</td>\n",
       "      <td>FSa2</td>\n",
       "      <td>RAYp</td>\n",
       "      <td>F2FyR07IdsN7I</td>\n",
       "      <td>mj86</td>\n",
       "      <td>NaN</td>\n",
       "    </tr>\n",
       "  </tbody>\n",
       "</table>\n",
       "<p>5 rows × 230 columns</p>\n",
       "</div>"
      ],
      "text/plain": [
       "   Var1  Var2  Var3  Var4  Var5    Var6  Var7  Var8  Var9  Var10  ...  \\\n",
       "0   NaN   NaN   NaN   NaN   NaN  1526.0   7.0   NaN   NaN    NaN  ...   \n",
       "1   NaN   NaN   NaN   NaN   NaN   525.0   0.0   NaN   NaN    NaN  ...   \n",
       "2   NaN   NaN   NaN   NaN   NaN  5236.0   7.0   NaN   NaN    NaN  ...   \n",
       "3   NaN   NaN   NaN   NaN   NaN     NaN   0.0   NaN   NaN    NaN  ...   \n",
       "4   NaN   NaN   NaN   NaN   NaN  1029.0   7.0   NaN   NaN    NaN  ...   \n",
       "\n",
       "    Var221   Var222      Var223  Var224  Var225  Var226   Var227  \\\n",
       "0     oslk  fXVEsaq  jySVZNlOJy     NaN     NaN    xb3V     RAYp   \n",
       "1     oslk  2Kb5FSF  LM8l689qOp     NaN     NaN    fKCe     RAYp   \n",
       "2  Al6ZaUT  NKv4yOc  jySVZNlOJy     NaN    kG3k    Qu4f  02N6s8f   \n",
       "3     oslk  CE7uk3u  LM8l689qOp     NaN     NaN    FSa2     RAYp   \n",
       "4     oslk  1J2cvxe  LM8l689qOp     NaN    kG3k    FSa2     RAYp   \n",
       "\n",
       "          Var228  Var229  Var230  \n",
       "0  F2FyR07IdsN7I     NaN     NaN  \n",
       "1  F2FyR07IdsN7I     NaN     NaN  \n",
       "2  ib5G6X1eUxUn6    am7c     NaN  \n",
       "3  F2FyR07IdsN7I     NaN     NaN  \n",
       "4  F2FyR07IdsN7I    mj86     NaN  \n",
       "\n",
       "[5 rows x 230 columns]"
      ]
     },
     "execution_count": 55,
     "metadata": {},
     "output_type": "execute_result"
    }
   ],
   "source": [
    "# loading the data\n",
    "train = pd.read_table('orange_small_train.data')\n",
    "train.head() # printing first few 5 rows"
   ]
  },
  {
   "cell_type": "code",
   "execution_count": 5,
   "metadata": {},
   "outputs": [
    {
     "data": {
      "text/plain": [
       "(50000, 230)"
      ]
     },
     "execution_count": 5,
     "metadata": {},
     "output_type": "execute_result"
    }
   ],
   "source": [
    "train.shape"
   ]
  },
  {
   "cell_type": "code",
   "execution_count": 6,
   "metadata": {},
   "outputs": [
    {
     "name": "stdout",
     "output_type": "stream",
     "text": [
      "<class 'pandas.core.frame.DataFrame'>\n",
      "RangeIndex: 50000 entries, 0 to 49999\n",
      "Columns: 230 entries, Var1 to Var230\n",
      "dtypes: float64(191), int64(1), object(38)\n",
      "memory usage: 87.7+ MB\n"
     ]
    }
   ],
   "source": [
    "train.info()"
   ]
  },
  {
   "cell_type": "code",
   "execution_count": 9,
   "metadata": {},
   "outputs": [
    {
     "name": "stderr",
     "output_type": "stream",
     "text": [
      "C:\\Users\\abc\\Anaconda3\\lib\\site-packages\\ipykernel_launcher.py:2: FutureWarning: read_table is deprecated, use read_csv instead, passing sep='\\t'.\n",
      "  \n"
     ]
    }
   ],
   "source": [
    "# loading the target variable appetency\n",
    "appetency = pd.read_table('orange_small_train_appetency.labels', header = None).loc[:, 0].astype('category')"
   ]
  },
  {
   "cell_type": "code",
   "execution_count": 10,
   "metadata": {},
   "outputs": [
    {
     "data": {
      "text/plain": [
       "(50000,)"
      ]
     },
     "execution_count": 10,
     "metadata": {},
     "output_type": "execute_result"
    }
   ],
   "source": [
    "# no of rows\n",
    "appetency.shape"
   ]
  },
  {
   "cell_type": "code",
   "execution_count": 11,
   "metadata": {},
   "outputs": [
    {
     "name": "stderr",
     "output_type": "stream",
     "text": [
      "C:\\Users\\abc\\Anaconda3\\lib\\site-packages\\ipykernel_launcher.py:2: FutureWarning: read_table is deprecated, use read_csv instead.\n",
      "  \n",
      "C:\\Users\\abc\\Anaconda3\\lib\\site-packages\\ipykernel_launcher.py:3: FutureWarning: read_table is deprecated, use read_csv instead.\n",
      "  This is separate from the ipykernel package so we can avoid doing imports until\n"
     ]
    }
   ],
   "source": [
    "# loading the target variable churn and upselling\n",
    "churn = pd.read_table('orange_small_train_churn.labels', header = None,sep='\\t').loc[:, 0].astype('category')\n",
    "upselling= pd.read_table('orange_small_train_upselling.labels', header = None,sep='\\t').loc[:, 0].astype('category')"
   ]
  },
  {
   "cell_type": "code",
   "execution_count": 10,
   "metadata": {},
   "outputs": [
    {
     "data": {
      "image/png": "[encoded data removed]",
      "text/plain": [
       "<Figure size 432x288 with 1 Axes>"
      ]
     },
     "metadata": {
      "needs_background": "light"
     },
     "output_type": "display_data"
    }
   ],
   "source": [
    "# plotting bar plot of target values\n",
    "appetency.value_counts().plot.bar()\n",
    "plt.ylabel('value')\n",
    "plt.title('appetency value for each class')\n",
    "plt.show()"
   ]
  },
  {
   "cell_type": "code",
   "execution_count": 11,
   "metadata": {
    "scrolled": true
   },
   "outputs": [
    {
     "data": {
      "image/png": "[encoded data removed]",
      "text/plain": [
       "<Figure size 432x288 with 1 Axes>"
      ]
     },
     "metadata": {
      "needs_background": "light"
     },
     "output_type": "display_data"
    }
   ],
   "source": [
    "churn.value_counts().plot.bar()\n",
    "plt.ylabel('value')\n",
    "plt.title('churn value for each class')\n",
    "plt.show()"
   ]
  },
  {
   "cell_type": "code",
   "execution_count": 12,
   "metadata": {},
   "outputs": [
    {
     "data": {
      "image/png": "[encoded data removed]",
      "text/plain": [
       "<Figure size 432x288 with 1 Axes>"
      ]
     },
     "metadata": {
      "needs_background": "light"
     },
     "output_type": "display_data"
    }
   ],
   "source": [
    "upselling.value_counts().plot.bar()\n",
    "plt.ylabel('value')\n",
    "plt.title('upselling value for each class')\n",
    "plt.show()"
   ]
  },
  {
   "cell_type": "markdown",
   "metadata": {},
   "source": [
    "* The above 3 plots shows that data is highly unbalanced so we should apply oversampling to balance the data while modelling."
   ]
  },
  {
   "cell_type": "code",
   "execution_count": 13,
   "metadata": {},
   "outputs": [
    {
     "data": {
      "text/html": [
       "<div>\n",
       "<style scoped>\n",
       "    .dataframe tbody tr th:only-of-type {\n",
       "        vertical-align: middle;\n",
       "    }\n",
       "\n",
       "    .dataframe tbody tr th {\n",
       "        vertical-align: top;\n",
       "    }\n",
       "\n",
       "    .dataframe thead th {\n",
       "        text-align: right;\n",
       "    }\n",
       "</style>\n",
       "<table border=\"1\" class=\"dataframe\">\n",
       "  <thead>\n",
       "    <tr style=\"text-align: right;\">\n",
       "      <th></th>\n",
       "      <th>Var1</th>\n",
       "      <th>Var2</th>\n",
       "      <th>Var3</th>\n",
       "      <th>Var4</th>\n",
       "      <th>Var5</th>\n",
       "      <th>Var6</th>\n",
       "      <th>Var7</th>\n",
       "      <th>Var8</th>\n",
       "      <th>Var9</th>\n",
       "      <th>Var10</th>\n",
       "      <th>...</th>\n",
       "      <th>Var183</th>\n",
       "      <th>Var184</th>\n",
       "      <th>Var185</th>\n",
       "      <th>Var186</th>\n",
       "      <th>Var187</th>\n",
       "      <th>Var188</th>\n",
       "      <th>Var189</th>\n",
       "      <th>Var190</th>\n",
       "      <th>Var209</th>\n",
       "      <th>Var230</th>\n",
       "    </tr>\n",
       "  </thead>\n",
       "  <tbody>\n",
       "    <tr>\n",
       "      <th>count</th>\n",
       "      <td>702.000000</td>\n",
       "      <td>1241.000000</td>\n",
       "      <td>1240.000000</td>\n",
       "      <td>1579.000000</td>\n",
       "      <td>1.487000e+03</td>\n",
       "      <td>44471.000000</td>\n",
       "      <td>44461.000000</td>\n",
       "      <td>0.0</td>\n",
       "      <td>702.000000</td>\n",
       "      <td>1.487000e+03</td>\n",
       "      <td>...</td>\n",
       "      <td>1.241000e+03</td>\n",
       "      <td>1241.000000</td>\n",
       "      <td>0.0</td>\n",
       "      <td>702.000000</td>\n",
       "      <td>702.00000</td>\n",
       "      <td>1241.000000</td>\n",
       "      <td>21022.000000</td>\n",
       "      <td>333.000000</td>\n",
       "      <td>0.0</td>\n",
       "      <td>0.0</td>\n",
       "    </tr>\n",
       "    <tr>\n",
       "      <th>mean</th>\n",
       "      <td>11.487179</td>\n",
       "      <td>0.004029</td>\n",
       "      <td>425.298387</td>\n",
       "      <td>0.125396</td>\n",
       "      <td>2.387933e+05</td>\n",
       "      <td>1326.437116</td>\n",
       "      <td>6.809496</td>\n",
       "      <td>NaN</td>\n",
       "      <td>48.145299</td>\n",
       "      <td>3.926057e+05</td>\n",
       "      <td>...</td>\n",
       "      <td>7.777380e+04</td>\n",
       "      <td>8.460919</td>\n",
       "      <td>NaN</td>\n",
       "      <td>3.299145</td>\n",
       "      <td>16.54416</td>\n",
       "      <td>167.368477</td>\n",
       "      <td>270.142137</td>\n",
       "      <td>22007.045192</td>\n",
       "      <td>NaN</td>\n",
       "      <td>NaN</td>\n",
       "    </tr>\n",
       "    <tr>\n",
       "      <th>std</th>\n",
       "      <td>40.709951</td>\n",
       "      <td>0.141933</td>\n",
       "      <td>4270.193518</td>\n",
       "      <td>1.275481</td>\n",
       "      <td>6.441259e+05</td>\n",
       "      <td>2685.693668</td>\n",
       "      <td>6.326053</td>\n",
       "      <td>NaN</td>\n",
       "      <td>154.777855</td>\n",
       "      <td>9.280896e+05</td>\n",
       "      <td>...</td>\n",
       "      <td>2.016188e+05</td>\n",
       "      <td>46.973777</td>\n",
       "      <td>NaN</td>\n",
       "      <td>8.781967</td>\n",
       "      <td>60.22303</td>\n",
       "      <td>113.980072</td>\n",
       "      <td>86.707692</td>\n",
       "      <td>29085.146490</td>\n",
       "      <td>NaN</td>\n",
       "      <td>NaN</td>\n",
       "    </tr>\n",
       "    <tr>\n",
       "      <th>min</th>\n",
       "      <td>0.000000</td>\n",
       "      <td>0.000000</td>\n",
       "      <td>0.000000</td>\n",
       "      <td>0.000000</td>\n",
       "      <td>0.000000e+00</td>\n",
       "      <td>0.000000</td>\n",
       "      <td>0.000000</td>\n",
       "      <td>NaN</td>\n",
       "      <td>0.000000</td>\n",
       "      <td>0.000000e+00</td>\n",
       "      <td>...</td>\n",
       "      <td>0.000000e+00</td>\n",
       "      <td>0.000000</td>\n",
       "      <td>NaN</td>\n",
       "      <td>0.000000</td>\n",
       "      <td>0.00000</td>\n",
       "      <td>-6.420000</td>\n",
       "      <td>6.000000</td>\n",
       "      <td>0.000000</td>\n",
       "      <td>NaN</td>\n",
       "      <td>NaN</td>\n",
       "    </tr>\n",
       "    <tr>\n",
       "      <th>25%</th>\n",
       "      <td>0.000000</td>\n",
       "      <td>0.000000</td>\n",
       "      <td>0.000000</td>\n",
       "      <td>0.000000</td>\n",
       "      <td>0.000000e+00</td>\n",
       "      <td>518.000000</td>\n",
       "      <td>0.000000</td>\n",
       "      <td>NaN</td>\n",
       "      <td>4.000000</td>\n",
       "      <td>0.000000e+00</td>\n",
       "      <td>...</td>\n",
       "      <td>0.000000e+00</td>\n",
       "      <td>0.000000</td>\n",
       "      <td>NaN</td>\n",
       "      <td>0.000000</td>\n",
       "      <td>0.00000</td>\n",
       "      <td>19.380000</td>\n",
       "      <td>204.000000</td>\n",
       "      <td>2732.670000</td>\n",
       "      <td>NaN</td>\n",
       "      <td>NaN</td>\n",
       "    </tr>\n",
       "    <tr>\n",
       "      <th>50%</th>\n",
       "      <td>0.000000</td>\n",
       "      <td>0.000000</td>\n",
       "      <td>0.000000</td>\n",
       "      <td>0.000000</td>\n",
       "      <td>0.000000e+00</td>\n",
       "      <td>861.000000</td>\n",
       "      <td>7.000000</td>\n",
       "      <td>NaN</td>\n",
       "      <td>20.000000</td>\n",
       "      <td>0.000000e+00</td>\n",
       "      <td>...</td>\n",
       "      <td>0.000000e+00</td>\n",
       "      <td>0.000000</td>\n",
       "      <td>NaN</td>\n",
       "      <td>0.000000</td>\n",
       "      <td>4.00000</td>\n",
       "      <td>197.640000</td>\n",
       "      <td>270.000000</td>\n",
       "      <td>12668.940000</td>\n",
       "      <td>NaN</td>\n",
       "      <td>NaN</td>\n",
       "    </tr>\n",
       "    <tr>\n",
       "      <th>75%</th>\n",
       "      <td>16.000000</td>\n",
       "      <td>0.000000</td>\n",
       "      <td>0.000000</td>\n",
       "      <td>0.000000</td>\n",
       "      <td>1.187425e+05</td>\n",
       "      <td>1428.000000</td>\n",
       "      <td>7.000000</td>\n",
       "      <td>NaN</td>\n",
       "      <td>46.000000</td>\n",
       "      <td>2.628630e+05</td>\n",
       "      <td>...</td>\n",
       "      <td>4.881000e+04</td>\n",
       "      <td>8.000000</td>\n",
       "      <td>NaN</td>\n",
       "      <td>6.000000</td>\n",
       "      <td>14.00000</td>\n",
       "      <td>252.960000</td>\n",
       "      <td>330.000000</td>\n",
       "      <td>29396.340000</td>\n",
       "      <td>NaN</td>\n",
       "      <td>NaN</td>\n",
       "    </tr>\n",
       "    <tr>\n",
       "      <th>max</th>\n",
       "      <td>680.000000</td>\n",
       "      <td>5.000000</td>\n",
       "      <td>130668.000000</td>\n",
       "      <td>27.000000</td>\n",
       "      <td>6.048550e+06</td>\n",
       "      <td>131761.000000</td>\n",
       "      <td>140.000000</td>\n",
       "      <td>NaN</td>\n",
       "      <td>2300.000000</td>\n",
       "      <td>1.232559e+07</td>\n",
       "      <td>...</td>\n",
       "      <td>3.048400e+06</td>\n",
       "      <td>1200.000000</td>\n",
       "      <td>NaN</td>\n",
       "      <td>102.000000</td>\n",
       "      <td>910.00000</td>\n",
       "      <td>628.620000</td>\n",
       "      <td>642.000000</td>\n",
       "      <td>230427.000000</td>\n",
       "      <td>NaN</td>\n",
       "      <td>NaN</td>\n",
       "    </tr>\n",
       "  </tbody>\n",
       "</table>\n",
       "<p>8 rows × 192 columns</p>\n",
       "</div>"
      ],
      "text/plain": [
       "             Var1         Var2           Var3         Var4          Var5  \\\n",
       "count  702.000000  1241.000000    1240.000000  1579.000000  1.487000e+03   \n",
       "mean    11.487179     0.004029     425.298387     0.125396  2.387933e+05   \n",
       "std     40.709951     0.141933    4270.193518     1.275481  6.441259e+05   \n",
       "min      0.000000     0.000000       0.000000     0.000000  0.000000e+00   \n",
       "25%      0.000000     0.000000       0.000000     0.000000  0.000000e+00   \n",
       "50%      0.000000     0.000000       0.000000     0.000000  0.000000e+00   \n",
       "75%     16.000000     0.000000       0.000000     0.000000  1.187425e+05   \n",
       "max    680.000000     5.000000  130668.000000    27.000000  6.048550e+06   \n",
       "\n",
       "                Var6          Var7  Var8         Var9         Var10  ...  \\\n",
       "count   44471.000000  44461.000000   0.0   702.000000  1.487000e+03  ...   \n",
       "mean     1326.437116      6.809496   NaN    48.145299  3.926057e+05  ...   \n",
       "std      2685.693668      6.326053   NaN   154.777855  9.280896e+05  ...   \n",
       "min         0.000000      0.000000   NaN     0.000000  0.000000e+00  ...   \n",
       "25%       518.000000      0.000000   NaN     4.000000  0.000000e+00  ...   \n",
       "50%       861.000000      7.000000   NaN    20.000000  0.000000e+00  ...   \n",
       "75%      1428.000000      7.000000   NaN    46.000000  2.628630e+05  ...   \n",
       "max    131761.000000    140.000000   NaN  2300.000000  1.232559e+07  ...   \n",
       "\n",
       "             Var183       Var184  Var185      Var186     Var187       Var188  \\\n",
       "count  1.241000e+03  1241.000000     0.0  702.000000  702.00000  1241.000000   \n",
       "mean   7.777380e+04     8.460919     NaN    3.299145   16.54416   167.368477   \n",
       "std    2.016188e+05    46.973777     NaN    8.781967   60.22303   113.980072   \n",
       "min    0.000000e+00     0.000000     NaN    0.000000    0.00000    -6.420000   \n",
       "25%    0.000000e+00     0.000000     NaN    0.000000    0.00000    19.380000   \n",
       "50%    0.000000e+00     0.000000     NaN    0.000000    4.00000   197.640000   \n",
       "75%    4.881000e+04     8.000000     NaN    6.000000   14.00000   252.960000   \n",
       "max    3.048400e+06  1200.000000     NaN  102.000000  910.00000   628.620000   \n",
       "\n",
       "             Var189         Var190  Var209  Var230  \n",
       "count  21022.000000     333.000000     0.0     0.0  \n",
       "mean     270.142137   22007.045192     NaN     NaN  \n",
       "std       86.707692   29085.146490     NaN     NaN  \n",
       "min        6.000000       0.000000     NaN     NaN  \n",
       "25%      204.000000    2732.670000     NaN     NaN  \n",
       "50%      270.000000   12668.940000     NaN     NaN  \n",
       "75%      330.000000   29396.340000     NaN     NaN  \n",
       "max      642.000000  230427.000000     NaN     NaN  \n",
       "\n",
       "[8 rows x 192 columns]"
      ]
     },
     "execution_count": 13,
     "metadata": {},
     "output_type": "execute_result"
    }
   ],
   "source": [
    "train.describe()"
   ]
  },
  {
   "cell_type": "markdown",
   "metadata": {},
   "source": [
    "<h3> Data Cleaning </h3>"
   ]
  },
  {
   "cell_type": "code",
   "execution_count": 56,
   "metadata": {},
   "outputs": [],
   "source": [
    "for i in train.columns:\n",
    "    if train[i].dtypes==float:\n",
    "        train[i].fillna(train[i].median(),inplace=True)"
   ]
  },
  {
   "cell_type": "code",
   "execution_count": 57,
   "metadata": {},
   "outputs": [],
   "source": [
    "# changing the datatype of features\n",
    "DataVars = train.columns\n",
    "data_types = {Var: train[Var].dtype for Var in DataVars}\n",
    "\n",
    "for Var in DataVars:\n",
    "    if data_types[Var] == int:\n",
    "        x = train[Var].astype(float)\n",
    "        train.loc[:, Var] = x\n",
    "        data_types[Var] = x.dtype\n",
    "    elif data_types[Var] != float:\n",
    "        x = train[Var].astype('category')\n",
    "        train.loc[:, Var] = x\n",
    "        data_types[Var] = x.dtype"
   ]
  },
  {
   "cell_type": "code",
   "execution_count": 58,
   "metadata": {},
   "outputs": [
    {
     "name": "stdout",
     "output_type": "stream",
     "text": [
      "<class 'pandas.core.frame.DataFrame'>\n",
      "RangeIndex: 50000 entries, 0 to 49999\n",
      "Columns: 230 entries, Var1 to Var230\n",
      "dtypes: category(39), float64(191)\n",
      "memory usage: 78.6 MB\n"
     ]
    }
   ],
   "source": [
    "train.info()"
   ]
  },
  {
   "cell_type": "code",
   "execution_count": 59,
   "metadata": {},
   "outputs": [],
   "source": [
    "# storing all the float datatype features\n",
    "float_DataVars = [Var for Var in DataVars if data_types[Var] == float]"
   ]
  },
  {
   "cell_type": "code",
   "execution_count": 60,
   "metadata": {},
   "outputs": [],
   "source": [
    "#float_x_means = train.median()\n",
    "\n",
    "for Var in float_DataVars:\n",
    "    x = train[Var]\n",
    "    mediancol=train[Var].median()\n",
    "    isThereMissing = x.isnull()\n",
    "    if isThereMissing.sum() > 0:\n",
    "        train.loc[isThereMissing.tolist(), Var] = mediancol "
   ]
  },
  {
   "cell_type": "code",
   "execution_count": 21,
   "metadata": {},
   "outputs": [],
   "source": [
    "# changing the datatype of features\n",
    "\n",
    "DataVars = train.columns\n",
    "data_types = {Var: train[Var].dtype for Var in DataVars}\n",
    "# storing all the float datatype features\n",
    "float_DataVars = [Var for Var in DataVars if data_types[Var] == float]"
   ]
  },
  {
   "cell_type": "code",
   "execution_count": 55,
   "metadata": {},
   "outputs": [
    {
     "data": {
      "text/plain": [
       "Text(0, 0.5, 'Frequency')"
      ]
     },
     "execution_count": 55,
     "metadata": {},
     "output_type": "execute_result"
    },
    {
     "data": {
      "image/png": "[encoded data removed]",
      "text/plain": [
       "<Figure size 432x288 with 1 Axes>"
      ]
     },
     "metadata": {
      "needs_background": "light"
     },
     "output_type": "display_data"
    }
   ],
   "source": [
    "fig, ax = plt.subplots()\n",
    "dummy['Var13'].hist(bins=30, color='#A9C5D3', \n",
    "                             edgecolor='black', grid=False)\n",
    "ax.set_title('Developer Income Histogram', fontsize=12)\n",
    "ax.set_xlabel('Developer Income', fontsize=12)\n",
    "ax.set_ylabel('Frequency', fontsize=12)"
   ]
  },
  {
   "cell_type": "code",
   "execution_count": 56,
   "metadata": {},
   "outputs": [
    {
     "data": {
      "text/plain": [
       "0.00         0.0\n",
       "0.25       581.0\n",
       "0.50       861.0\n",
       "0.75      1316.0\n",
       "1.00    131761.0\n",
       "Name: Var6, dtype: float64"
      ]
     },
     "execution_count": 56,
     "metadata": {},
     "output_type": "execute_result"
    }
   ],
   "source": [
    "quantile_list = [0, .25, .5, .75, 1.]\n",
    "quantiles = dummy['Var6'].quantile(quantile_list)\n",
    "quantiles"
   ]
  },
  {
   "cell_type": "code",
   "execution_count": 57,
   "metadata": {},
   "outputs": [
    {
     "data": {
      "text/plain": [
       "Text(0, 0.5, 'Frequency')"
      ]
     },
     "execution_count": 57,
     "metadata": {},
     "output_type": "execute_result"
    },
    {
     "data": {
      "image/png": "[encoded data removed]",
      "text/plain": [
       "<Figure size 432x288 with 1 Axes>"
      ]
     },
     "metadata": {
      "needs_background": "light"
     },
     "output_type": "display_data"
    }
   ],
   "source": [
    "fig, ax = plt.subplots()\n",
    "dummy['Var6'].hist(bins=30, color='#A9C5D3', \n",
    "                             edgecolor='black', grid=False)\n",
    "for quantile in quantiles:\n",
    "    qvl = plt.axvline(quantile, color='r')\n",
    "ax.legend([qvl], ['Quantiles'], fontsize=10)\n",
    "ax.set_title('Developer Income Histogram with Quantiles', \n",
    "             fontsize=12)\n",
    "ax.set_xlabel('Developer Income', fontsize=12)\n",
    "ax.set_ylabel('Frequency', fontsize=12)"
   ]
  },
  {
   "cell_type": "code",
   "execution_count": 63,
   "metadata": {},
   "outputs": [],
   "source": [
    "# storing all the categpry features\n",
    "DataVars = train.columns\n",
    "\n",
    "categorical_DataVars = [Var for Var in DataVars if data_types[Var] != float]\n"
   ]
  },
  {
   "cell_type": "code",
   "execution_count": 64,
   "metadata": {},
   "outputs": [],
   "source": [
    "categorical_levels = train[categorical_DataVars].apply(lambda col: len(col.cat.categories))"
   ]
  },
  {
   "cell_type": "code",
   "execution_count": 65,
   "metadata": {},
   "outputs": [],
   "source": [
    "categorical_x_var_names = categorical_levels[categorical_levels <= 1000].index"
   ]
  },
  {
   "cell_type": "code",
   "execution_count": 66,
   "metadata": {},
   "outputs": [
    {
     "name": "stderr",
     "output_type": "stream",
     "text": [
      "C:\\Users\\abc\\Anaconda3\\lib\\site-packages\\ipykernel_launcher.py:21: DeprecationWarning: \n",
      ".ix is deprecated. Please use\n",
      ".loc for label based indexing or\n",
      ".iloc for positional indexing\n",
      "\n",
      "See the documentation here:\n",
      "http://pandas.pydata.org/pandas-docs/stable/indexing.html#ix-indexer-is-deprecated\n",
      "C:\\Users\\abc\\Anaconda3\\lib\\site-packages\\ipykernel_launcher.py:9: DeprecationWarning: \n",
      ".ix is deprecated. Please use\n",
      ".loc for label based indexing or\n",
      ".iloc for positional indexing\n",
      "\n",
      "See the documentation here:\n",
      "http://pandas.pydata.org/pandas-docs/stable/indexing.html#ix-indexer-is-deprecated\n",
      "  if __name__ == '__main__':\n"
     ]
    }
   ],
   "source": [
    "collapsed_categories = {}\n",
    "removed_categorical_x_var_names = set()\n",
    "\n",
    "for categorical_x_var_name in categorical_x_var_names:\n",
    "  \n",
    "    missing_value_row_yesno = train[categorical_x_var_name].isnull()\n",
    "    if missing_value_row_yesno.sum() > 0:\n",
    "        train[categorical_x_var_name].cat.add_categories('zzzMISSING', inplace=True)\n",
    "        train.ix[missing_value_row_yesno.tolist(), categorical_x_var_name] = 'zzzMISSING'\n",
    "\n",
    "    x = train[categorical_x_var_name].copy()\n",
    "    for category in x.cat.categories:\n",
    "        matching_rows_yesno = x == category\n",
    "        if matching_rows_yesno.sum() < .05 * len(train):\n",
    "            if categorical_x_var_name in collapsed_categories:\n",
    "                collapsed_categories[categorical_x_var_name].append(category) \n",
    "            else:\n",
    "                collapsed_categories[categorical_x_var_name] = [category]\n",
    "            if 'zzzOTHER' not in train[categorical_x_var_name].cat.categories:\n",
    "                train[categorical_x_var_name].cat.add_categories('zzzOTHER', inplace=True)\n",
    "            train.ix[matching_rows_yesno, categorical_x_var_name] = 'zzzOTHER'\n",
    "            train[categorical_x_var_name].cat.remove_categories(category, inplace=True)\n",
    "  \n",
    "    categories = train[categorical_x_var_name].cat.categories\n",
    "    if (len(categories) == 1) or\\\n",
    "        (len(set(categories) - set(['zzzMISSING', 'zzzOTHER'])) < 2):\n",
    "        removed_categorical_x_var_names.add(categorical_x_var_name)\n",
    "\n",
    "categorical_x_var_names = list(set(categorical_x_var_names) - removed_categorical_x_var_names)"
   ]
  },
  {
   "cell_type": "code",
   "execution_count": 67,
   "metadata": {},
   "outputs": [
    {
     "data": {
      "text/plain": [
       "208"
      ]
     },
     "execution_count": 67,
     "metadata": {},
     "output_type": "execute_result"
    }
   ],
   "source": [
    "x_var_names = list(float_DataVars) + list(categorical_x_var_names)\n",
    "#print(x_var_names)\n",
    "train = train[x_var_names]\n",
    "\n",
    "nb_x_vars = len(x_var_names)\n",
    "\n",
    "nb_x_vars"
   ]
  },
  {
   "cell_type": "code",
   "execution_count": 68,
   "metadata": {},
   "outputs": [
    {
     "name": "stdout",
     "output_type": "stream",
     "text": [
      "<class 'pandas.core.frame.DataFrame'>\n",
      "RangeIndex: 50000 entries, 0 to 49999\n",
      "Columns: 208 entries, Var1 to Var207\n",
      "dtypes: category(17), float64(191)\n",
      "memory usage: 73.7 MB\n"
     ]
    }
   ],
   "source": [
    "train.info()"
   ]
  },
  {
   "cell_type": "code",
   "execution_count": 70,
   "metadata": {},
   "outputs": [],
   "source": [
    "train_data=train.copy()"
   ]
  },
  {
   "cell_type": "code",
   "execution_count": 71,
   "metadata": {},
   "outputs": [
    {
     "data": {
      "text/plain": [
       "['Var197',\n",
       " 'Var203',\n",
       " 'Var212',\n",
       " 'Var206',\n",
       " 'Var229',\n",
       " 'Var225',\n",
       " 'Var228',\n",
       " 'Var227',\n",
       " 'Var226',\n",
       " 'Var205',\n",
       " 'Var218',\n",
       " 'Var221',\n",
       " 'Var208',\n",
       " 'Var193',\n",
       " 'Var211',\n",
       " 'Var223',\n",
       " 'Var207']"
      ]
     },
     "execution_count": 71,
     "metadata": {},
     "output_type": "execute_result"
    }
   ],
   "source": [
    "lst=[]\n",
    "for i in train_data.columns:\n",
    "    if train_data[i].dtypes!=float:\n",
    "        lst.append(i)\n",
    "lst        "
   ]
  },
  {
   "cell_type": "code",
   "execution_count": 72,
   "metadata": {},
   "outputs": [],
   "source": [
    "train_data_1 = pd.get_dummies(train_data, columns=['Var197',\n",
    " 'Var203',\n",
    " 'Var212',\n",
    " 'Var206',\n",
    " 'Var229',\n",
    " 'Var225',\n",
    " 'Var228',\n",
    " 'Var227',\n",
    " 'Var226',\n",
    " 'Var205',\n",
    " 'Var218',\n",
    " 'Var221',\n",
    " 'Var208',\n",
    " 'Var193',\n",
    " 'Var211',\n",
    " 'Var223',\n",
    " 'Var207'])"
   ]
  },
  {
   "cell_type": "code",
   "execution_count": 30,
   "metadata": {},
   "outputs": [],
   "source": [
    "'''from sklearn.preprocessing import OneHotEncoder, LabelEncoder\n",
    "gen_le = LabelEncoder()\n",
    "for i in train_data.columns:\n",
    "    if train_data[i].dtypes!=float:\n",
    "        gen_labels = gen_le.fit_transform(train_data[i])\n",
    "        train_data[i+'_Label'] = gen_labels\n",
    "        train_data.drop(i,axis=1,inplace=True)\n",
    "\n",
    "#poke_df['Gen_Label'] = gen_labels"
   ]
  },
  {
   "cell_type": "code",
   "execution_count": 73,
   "metadata": {},
   "outputs": [
    {
     "data": {
      "text/html": [
       "<div>\n",
       "<style scoped>\n",
       "    .dataframe tbody tr th:only-of-type {\n",
       "        vertical-align: middle;\n",
       "    }\n",
       "\n",
       "    .dataframe tbody tr th {\n",
       "        vertical-align: top;\n",
       "    }\n",
       "\n",
       "    .dataframe thead th {\n",
       "        text-align: right;\n",
       "    }\n",
       "</style>\n",
       "<table border=\"1\" class=\"dataframe\">\n",
       "  <thead>\n",
       "    <tr style=\"text-align: right;\">\n",
       "      <th></th>\n",
       "      <th>Var1</th>\n",
       "      <th>Var2</th>\n",
       "      <th>Var3</th>\n",
       "      <th>Var4</th>\n",
       "      <th>Var5</th>\n",
       "      <th>Var6</th>\n",
       "      <th>Var7</th>\n",
       "      <th>Var8</th>\n",
       "      <th>Var9</th>\n",
       "      <th>Var10</th>\n",
       "      <th>...</th>\n",
       "      <th>Var211_L84s</th>\n",
       "      <th>Var211_Mtgm</th>\n",
       "      <th>Var223_LM8l689qOp</th>\n",
       "      <th>Var223_jySVZNlOJy</th>\n",
       "      <th>Var223_zzzMISSING</th>\n",
       "      <th>Var223_zzzOTHER</th>\n",
       "      <th>Var207_7M47J5GA0pTYIFxg5uy</th>\n",
       "      <th>Var207_DHn_WUyBhW_whjA88g9bvA64_</th>\n",
       "      <th>Var207_me75fM6ugJ</th>\n",
       "      <th>Var207_zzzOTHER</th>\n",
       "    </tr>\n",
       "  </thead>\n",
       "  <tbody>\n",
       "    <tr>\n",
       "      <th>0</th>\n",
       "      <td>0.0</td>\n",
       "      <td>0.0</td>\n",
       "      <td>0.0</td>\n",
       "      <td>0.0</td>\n",
       "      <td>0.0</td>\n",
       "      <td>1526.0</td>\n",
       "      <td>7.0</td>\n",
       "      <td>NaN</td>\n",
       "      <td>20.0</td>\n",
       "      <td>0.0</td>\n",
       "      <td>...</td>\n",
       "      <td>1</td>\n",
       "      <td>0</td>\n",
       "      <td>0</td>\n",
       "      <td>1</td>\n",
       "      <td>0</td>\n",
       "      <td>0</td>\n",
       "      <td>0</td>\n",
       "      <td>0</td>\n",
       "      <td>1</td>\n",
       "      <td>0</td>\n",
       "    </tr>\n",
       "    <tr>\n",
       "      <th>1</th>\n",
       "      <td>0.0</td>\n",
       "      <td>0.0</td>\n",
       "      <td>0.0</td>\n",
       "      <td>0.0</td>\n",
       "      <td>0.0</td>\n",
       "      <td>525.0</td>\n",
       "      <td>0.0</td>\n",
       "      <td>NaN</td>\n",
       "      <td>20.0</td>\n",
       "      <td>0.0</td>\n",
       "      <td>...</td>\n",
       "      <td>1</td>\n",
       "      <td>0</td>\n",
       "      <td>1</td>\n",
       "      <td>0</td>\n",
       "      <td>0</td>\n",
       "      <td>0</td>\n",
       "      <td>0</td>\n",
       "      <td>0</td>\n",
       "      <td>1</td>\n",
       "      <td>0</td>\n",
       "    </tr>\n",
       "    <tr>\n",
       "      <th>2</th>\n",
       "      <td>0.0</td>\n",
       "      <td>0.0</td>\n",
       "      <td>0.0</td>\n",
       "      <td>0.0</td>\n",
       "      <td>0.0</td>\n",
       "      <td>5236.0</td>\n",
       "      <td>7.0</td>\n",
       "      <td>NaN</td>\n",
       "      <td>20.0</td>\n",
       "      <td>0.0</td>\n",
       "      <td>...</td>\n",
       "      <td>1</td>\n",
       "      <td>0</td>\n",
       "      <td>0</td>\n",
       "      <td>1</td>\n",
       "      <td>0</td>\n",
       "      <td>0</td>\n",
       "      <td>0</td>\n",
       "      <td>1</td>\n",
       "      <td>0</td>\n",
       "      <td>0</td>\n",
       "    </tr>\n",
       "    <tr>\n",
       "      <th>3</th>\n",
       "      <td>0.0</td>\n",
       "      <td>0.0</td>\n",
       "      <td>0.0</td>\n",
       "      <td>0.0</td>\n",
       "      <td>0.0</td>\n",
       "      <td>861.0</td>\n",
       "      <td>0.0</td>\n",
       "      <td>NaN</td>\n",
       "      <td>20.0</td>\n",
       "      <td>0.0</td>\n",
       "      <td>...</td>\n",
       "      <td>0</td>\n",
       "      <td>1</td>\n",
       "      <td>1</td>\n",
       "      <td>0</td>\n",
       "      <td>0</td>\n",
       "      <td>0</td>\n",
       "      <td>0</td>\n",
       "      <td>0</td>\n",
       "      <td>1</td>\n",
       "      <td>0</td>\n",
       "    </tr>\n",
       "    <tr>\n",
       "      <th>4</th>\n",
       "      <td>0.0</td>\n",
       "      <td>0.0</td>\n",
       "      <td>0.0</td>\n",
       "      <td>0.0</td>\n",
       "      <td>0.0</td>\n",
       "      <td>1029.0</td>\n",
       "      <td>7.0</td>\n",
       "      <td>NaN</td>\n",
       "      <td>20.0</td>\n",
       "      <td>0.0</td>\n",
       "      <td>...</td>\n",
       "      <td>1</td>\n",
       "      <td>0</td>\n",
       "      <td>1</td>\n",
       "      <td>0</td>\n",
       "      <td>0</td>\n",
       "      <td>0</td>\n",
       "      <td>0</td>\n",
       "      <td>0</td>\n",
       "      <td>1</td>\n",
       "      <td>0</td>\n",
       "    </tr>\n",
       "  </tbody>\n",
       "</table>\n",
       "<p>5 rows × 262 columns</p>\n",
       "</div>"
      ],
      "text/plain": [
       "   Var1  Var2  Var3  Var4  Var5    Var6  Var7  Var8  Var9  Var10  ...  \\\n",
       "0   0.0   0.0   0.0   0.0   0.0  1526.0   7.0   NaN  20.0    0.0  ...   \n",
       "1   0.0   0.0   0.0   0.0   0.0   525.0   0.0   NaN  20.0    0.0  ...   \n",
       "2   0.0   0.0   0.0   0.0   0.0  5236.0   7.0   NaN  20.0    0.0  ...   \n",
       "3   0.0   0.0   0.0   0.0   0.0   861.0   0.0   NaN  20.0    0.0  ...   \n",
       "4   0.0   0.0   0.0   0.0   0.0  1029.0   7.0   NaN  20.0    0.0  ...   \n",
       "\n",
       "   Var211_L84s  Var211_Mtgm  Var223_LM8l689qOp  Var223_jySVZNlOJy  \\\n",
       "0            1            0                  0                  1   \n",
       "1            1            0                  1                  0   \n",
       "2            1            0                  0                  1   \n",
       "3            0            1                  1                  0   \n",
       "4            1            0                  1                  0   \n",
       "\n",
       "   Var223_zzzMISSING  Var223_zzzOTHER  Var207_7M47J5GA0pTYIFxg5uy  \\\n",
       "0                  0                0                           0   \n",
       "1                  0                0                           0   \n",
       "2                  0                0                           0   \n",
       "3                  0                0                           0   \n",
       "4                  0                0                           0   \n",
       "\n",
       "   Var207_DHn_WUyBhW_whjA88g9bvA64_  Var207_me75fM6ugJ  Var207_zzzOTHER  \n",
       "0                                 0                  1                0  \n",
       "1                                 0                  1                0  \n",
       "2                                 1                  0                0  \n",
       "3                                 0                  1                0  \n",
       "4                                 0                  1                0  \n",
       "\n",
       "[5 rows x 262 columns]"
      ]
     },
     "execution_count": 73,
     "metadata": {},
     "output_type": "execute_result"
    }
   ],
   "source": [
    "train_data_1.head()"
   ]
  },
  {
   "cell_type": "code",
   "execution_count": 74,
   "metadata": {},
   "outputs": [],
   "source": [
    "for i in train_data_1.columns:\n",
    "    if train_data_1[i].dtypes==float:\n",
    "        mean_value = train_data_1[i].mean()\n",
    "        std_value = train_data_1[i].std()\n",
    "        train_data_1[i]=(train_data_1[i] - mean_value) / (std_value)"
   ]
  },
  {
   "cell_type": "code",
   "execution_count": 75,
   "metadata": {},
   "outputs": [
    {
     "data": {
      "text/plain": [
       "Var8      50000\n",
       "Var15     50000\n",
       "Var20     50000\n",
       "Var31     50000\n",
       "Var32     50000\n",
       "Var39     50000\n",
       "Var42     50000\n",
       "Var48     50000\n",
       "Var52     50000\n",
       "Var55     50000\n",
       "Var79     50000\n",
       "Var118    50000\n",
       "Var141    50000\n",
       "Var167    50000\n",
       "Var169    50000\n",
       "Var175    50000\n",
       "Var185    50000\n",
       "Var209    50000\n",
       "Var230    50000\n",
       "dtype: int64"
      ]
     },
     "execution_count": 75,
     "metadata": {},
     "output_type": "execute_result"
    }
   ],
   "source": [
    "nulls = train_data_1.isnull().sum()\n",
    "nulls[nulls > 0]"
   ]
  },
  {
   "cell_type": "code",
   "execution_count": 76,
   "metadata": {},
   "outputs": [],
   "source": [
    "train_data_1.drop(['Var8', 'Var15', \n",
    "                'Var20','Var31','Var32','Var39','Var42','Var48','Var52','Var55','Var79','Var141', 'Var167','Var169','Var175','Var185','Var209','Var230'], axis=1, inplace=True)"
   ]
  },
  {
   "cell_type": "code",
   "execution_count": 77,
   "metadata": {},
   "outputs": [
    {
     "data": {
      "text/plain": [
       "Var118    50000\n",
       "dtype: int64"
      ]
     },
     "execution_count": 77,
     "metadata": {},
     "output_type": "execute_result"
    }
   ],
   "source": [
    "nulls = train_data_1.isnull().sum()\n",
    "nulls[nulls > 0]"
   ]
  },
  {
   "cell_type": "code",
   "execution_count": 78,
   "metadata": {},
   "outputs": [],
   "source": [
    "train_data_1.drop(['Var118'], axis=1, inplace=True)"
   ]
  },
  {
   "cell_type": "code",
   "execution_count": 79,
   "metadata": {},
   "outputs": [
    {
     "name": "stdout",
     "output_type": "stream",
     "text": [
      "<class 'pandas.core.frame.DataFrame'>\n",
      "RangeIndex: 50000 entries, 0 to 49999\n",
      "Columns: 243 entries, Var1 to Var207_zzzOTHER\n",
      "dtypes: float64(172), uint8(71)\n",
      "memory usage: 69.0 MB\n"
     ]
    }
   ],
   "source": [
    "train_data_1.info()"
   ]
  },
  {
   "cell_type": "code",
   "execution_count": 45,
   "metadata": {},
   "outputs": [
    {
     "data": {
      "text/plain": [
       "(50000, 244)"
      ]
     },
     "execution_count": 45,
     "metadata": {},
     "output_type": "execute_result"
    }
   ],
   "source": [
    "train_data_1.shape"
   ]
  },
  {
   "cell_type": "markdown",
   "metadata": {},
   "source": [
    "### Taking target variable as churn"
   ]
  },
  {
   "cell_type": "code",
   "execution_count": 80,
   "metadata": {},
   "outputs": [],
   "source": [
    "X_train,X_test, y_train, y_test = train_test_split(train_data_1 , churn , stratify=churn, test_size=0.2, random_state=42)"
   ]
  },
  {
   "cell_type": "code",
   "execution_count": 81,
   "metadata": {},
   "outputs": [],
   "source": [
    "X_train,X_cv, y_train, y_cv = train_test_split(X_train , y_train , stratify=y_train, test_size=0.2, random_state=42)"
   ]
  },
  {
   "cell_type": "code",
   "execution_count": 48,
   "metadata": {},
   "outputs": [
    {
     "name": "stdout",
     "output_type": "stream",
     "text": [
      "Best HyperParameter:  {'max_depth': 5, 'n_estimators': 500}\n"
     ]
    }
   ],
   "source": [
    "random_classifier = RandomForestClassifier()\n",
    "\n",
    "parameters = { 'max_depth':np.arange(5,10),'n_estimators':[500,1000]}\n",
    "\n",
    "random_grid = GridSearchCV(random_classifier, parameters, cv = 3)\n",
    "\n",
    "random_grid.fit(X_cv, y_cv)\n",
    "\n",
    "print(\"Best HyperParameter: \",random_grid.best_params_)"
   ]
  },
  {
   "cell_type": "code",
   "execution_count": 82,
   "metadata": {},
   "outputs": [
    {
     "data": {
      "text/plain": [
       "RandomForestClassifier(bootstrap=True, class_weight='balanced',\n",
       "            criterion='gini', max_depth=5, max_features=None,\n",
       "            max_leaf_nodes=None, min_impurity_decrease=0.0,\n",
       "            min_impurity_split=None, min_samples_leaf=1,\n",
       "            min_samples_split=2, min_weight_fraction_leaf=0.0,\n",
       "            n_estimators=500, n_jobs=-1, oob_score=True, random_state=42,\n",
       "            verbose=0, warm_start=False)"
      ]
     },
     "execution_count": 82,
     "metadata": {},
     "output_type": "execute_result"
    }
   ],
   "source": [
    "rf_model = RandomForestClassifier(\n",
    "    n_estimators=500,\n",
    "    #criterion='entropy',\n",
    "    max_depth=5,   # expand until all leaves are pure or contain < MIN_SAMPLES_SPLIT samples\n",
    "    #min_samples_split=100,\n",
    "    #min_samples_leaf=50,\n",
    "    #min_weight_fraction_leaf=0.0,\n",
    "    max_features=None,   # number of features to consider when looking for the best split; None: max_features=n_features\n",
    "    max_leaf_nodes=None,   # None: unlimited number of leaf nodes\n",
    "    bootstrap=True,\n",
    "    oob_score=True,   # estimate Out-of-Bag Cross Entropy\n",
    "    n_jobs=-1,   # paralellize over all CPU cores but 2\n",
    "    class_weight='balanced',    # our classes are skewed, but but too skewed\n",
    "    random_state=42,\n",
    "    verbose=0,\n",
    "    warm_start=False)\n",
    "\n",
    "rf_model.fit(X=X_train, y=y_train)"
   ]
  },
  {
   "cell_type": "code",
   "execution_count": 83,
   "metadata": {},
   "outputs": [],
   "source": [
    "rf_pred_probs=rf_model.predict(X_cv)"
   ]
  },
  {
   "cell_type": "code",
   "execution_count": 84,
   "metadata": {},
   "outputs": [
    {
     "data": {
      "text/plain": [
       "0.6575552239244321"
      ]
     },
     "execution_count": 84,
     "metadata": {},
     "output_type": "execute_result"
    }
   ],
   "source": [
    "auc=metrics.roc_auc_score(y_cv,rf_pred_probs)\n",
    "auc"
   ]
  },
  {
   "cell_type": "code",
   "execution_count": 85,
   "metadata": {},
   "outputs": [],
   "source": [
    "rf_pred_probs=rf_model.predict(X_test)"
   ]
  },
  {
   "cell_type": "code",
   "execution_count": 86,
   "metadata": {},
   "outputs": [
    {
     "data": {
      "text/plain": [
       "0.6433808285660682"
      ]
     },
     "execution_count": 86,
     "metadata": {},
     "output_type": "execute_result"
    }
   ],
   "source": [
    "auc=metrics.roc_auc_score(y_test,rf_pred_probs)\n",
    "auc"
   ]
  },
  {
   "cell_type": "code",
   "execution_count": 90,
   "metadata": {},
   "outputs": [
    {
     "data": {
      "text/plain": [
       "Index(['Var126', 'Var212_NhsEn4L', 'Var189', 'Var218_zzzOTHER', 'Var74',\n",
       "       'Var113', 'Var218_cJvF', 'Var81', 'Var205_sJzTlal', 'Var140', 'Var57',\n",
       "       'Var28', 'Var13', 'Var125', 'Var94', 'Var38', 'Var193_RO12', 'Var45',\n",
       "       'Var134', 'Var229_zzzMISSING', 'Var6', 'Var76', 'Var153', 'Var83',\n",
       "       'Var149', 'Var163', 'Var119', 'Var218_UYBR', 'Var133', 'Var21', 'Var24',\n",
       "       'Var160', 'Var35', 'Var123', 'Var112', 'Var225_zzzMISSING', 'Var25',\n",
       "       'Var109', 'Var144', 'Var227_ZI9m', 'Var85', 'Var188',\n",
       "       'Var206_zzzMISSING', 'Var205_VpdQ', 'Var65', 'Var229_am7c', 'Var22',\n",
       "       'Var221_zCkv', 'Var168', 'Var44', 'Var152', 'Var139', 'Var197_zzzOTHER',\n",
       "       'Var7', 'Var207_zzzOTHER', 'Var51', 'Var107', 'Var228_F2FyR07IdsN7I',\n",
       "       'Var212_XfqtO3UdzaXh_', 'Var226_zzzOTHER', 'Var227_6fzt',\n",
       "       'Var193_2Knk1KF', 'Var68', 'Var206_zm5i', 'Var132', 'Var211_L84s',\n",
       "       'Var111', 'Var197_lK27', 'Var102', 'Var193_zzzOTHER',\n",
       "       'Var223_zzzMISSING', 'Var207_me75fM6ugJ', 'Var229_mj86', 'Var59',\n",
       "       'Var226_7P5s', 'Var19', 'Var72', 'Var228_ib5G6X1eUxUn6', 'Var206_haYg',\n",
       "       'Var226_Aoh3'],\n",
       "      dtype='object')"
      ]
     },
     "execution_count": 90,
     "metadata": {},
     "output_type": "execute_result"
    }
   ],
   "source": [
    "feature_importances = pd.DataFrame(rf_model.feature_importances_,\n",
    "                                   index = X_train.columns,\n",
    "                                    columns=['importance']).sort_values('importance', ascending=False)\n",
    "feature_importances[:80].index"
   ]
  },
  {
   "cell_type": "code",
   "execution_count": 91,
   "metadata": {},
   "outputs": [],
   "source": [
    "train_data_1=train_data_1[['Var126', 'Var212_NhsEn4L', 'Var189', 'Var218_zzzOTHER', 'Var74',\n",
    "       'Var113', 'Var218_cJvF', 'Var81', 'Var205_sJzTlal', 'Var140', 'Var57',\n",
    "       'Var28', 'Var13', 'Var125', 'Var94', 'Var38', 'Var193_RO12', 'Var45',\n",
    "       'Var134', 'Var229_zzzMISSING', 'Var6', 'Var76', 'Var153', 'Var83',\n",
    "       'Var149', 'Var163', 'Var119', 'Var218_UYBR', 'Var133', 'Var21', 'Var24',\n",
    "       'Var160', 'Var35', 'Var123', 'Var112', 'Var225_zzzMISSING', 'Var25',\n",
    "       'Var109', 'Var144', 'Var227_ZI9m', 'Var85', 'Var188',\n",
    "       'Var206_zzzMISSING', 'Var205_VpdQ', 'Var65', 'Var229_am7c', 'Var22',\n",
    "       'Var221_zCkv', 'Var168', 'Var44', 'Var152', 'Var139', 'Var197_zzzOTHER',\n",
    "       'Var7', 'Var207_zzzOTHER', 'Var51', 'Var107', 'Var228_F2FyR07IdsN7I',\n",
    "       'Var212_XfqtO3UdzaXh_', 'Var226_zzzOTHER', 'Var227_6fzt',\n",
    "       'Var193_2Knk1KF', 'Var68', 'Var206_zm5i', 'Var132', 'Var211_L84s',\n",
    "       'Var111', 'Var197_lK27', 'Var102', 'Var193_zzzOTHER',\n",
    "       'Var223_zzzMISSING', 'Var207_me75fM6ugJ', 'Var229_mj86', 'Var59',\n",
    "       'Var226_7P5s', 'Var19', 'Var72', 'Var228_ib5G6X1eUxUn6', 'Var206_haYg',\n",
    "       'Var226_Aoh3']]"
   ]
  },
  {
   "cell_type": "code",
   "execution_count": 92,
   "metadata": {},
   "outputs": [
    {
     "data": {
      "text/html": [
       "<div>\n",
       "<style scoped>\n",
       "    .dataframe tbody tr th:only-of-type {\n",
       "        vertical-align: middle;\n",
       "    }\n",
       "\n",
       "    .dataframe tbody tr th {\n",
       "        vertical-align: top;\n",
       "    }\n",
       "\n",
       "    .dataframe thead th {\n",
       "        text-align: right;\n",
       "    }\n",
       "</style>\n",
       "<table border=\"1\" class=\"dataframe\">\n",
       "  <thead>\n",
       "    <tr style=\"text-align: right;\">\n",
       "      <th></th>\n",
       "      <th>Var126</th>\n",
       "      <th>Var212_NhsEn4L</th>\n",
       "      <th>Var189</th>\n",
       "      <th>Var218_zzzOTHER</th>\n",
       "      <th>Var74</th>\n",
       "      <th>Var113</th>\n",
       "      <th>Var218_cJvF</th>\n",
       "      <th>Var81</th>\n",
       "      <th>Var205_sJzTlal</th>\n",
       "      <th>Var140</th>\n",
       "      <th>...</th>\n",
       "      <th>Var223_zzzMISSING</th>\n",
       "      <th>Var207_me75fM6ugJ</th>\n",
       "      <th>Var229_mj86</th>\n",
       "      <th>Var59</th>\n",
       "      <th>Var226_7P5s</th>\n",
       "      <th>Var19</th>\n",
       "      <th>Var72</th>\n",
       "      <th>Var228_ib5G6X1eUxUn6</th>\n",
       "      <th>Var206_haYg</th>\n",
       "      <th>Var226_Aoh3</th>\n",
       "    </tr>\n",
       "  </thead>\n",
       "  <tbody>\n",
       "    <tr>\n",
       "      <th>0</th>\n",
       "      <td>0.378521</td>\n",
       "      <td>0</td>\n",
       "      <td>3.413988</td>\n",
       "      <td>0</td>\n",
       "      <td>-0.080083</td>\n",
       "      <td>0.355810</td>\n",
       "      <td>1</td>\n",
       "      <td>-0.918831</td>\n",
       "      <td>0</td>\n",
       "      <td>-0.282393</td>\n",
       "      <td>...</td>\n",
       "      <td>0</td>\n",
       "      <td>1</td>\n",
       "      <td>0</td>\n",
       "      <td>-0.040774</td>\n",
       "      <td>0</td>\n",
       "      <td>-0.024235</td>\n",
       "      <td>-0.362898</td>\n",
       "      <td>0</td>\n",
       "      <td>1</td>\n",
       "      <td>0</td>\n",
       "    </tr>\n",
       "    <tr>\n",
       "      <th>1</th>\n",
       "      <td>0.170716</td>\n",
       "      <td>1</td>\n",
       "      <td>-0.001063</td>\n",
       "      <td>1</td>\n",
       "      <td>-0.128450</td>\n",
       "      <td>-0.266798</td>\n",
       "      <td>0</td>\n",
       "      <td>0.509515</td>\n",
       "      <td>1</td>\n",
       "      <td>-0.331328</td>\n",
       "      <td>...</td>\n",
       "      <td>0</td>\n",
       "      <td>1</td>\n",
       "      <td>0</td>\n",
       "      <td>-0.040774</td>\n",
       "      <td>0</td>\n",
       "      <td>-0.024235</td>\n",
       "      <td>-0.362898</td>\n",
       "      <td>0</td>\n",
       "      <td>0</td>\n",
       "      <td>0</td>\n",
       "    </tr>\n",
       "    <tr>\n",
       "      <th>2</th>\n",
       "      <td>-1.491725</td>\n",
       "      <td>0</td>\n",
       "      <td>-0.001063</td>\n",
       "      <td>0</td>\n",
       "      <td>0.587383</td>\n",
       "      <td>0.733389</td>\n",
       "      <td>0</td>\n",
       "      <td>-0.830621</td>\n",
       "      <td>0</td>\n",
       "      <td>-0.119721</td>\n",
       "      <td>...</td>\n",
       "      <td>0</td>\n",
       "      <td>0</td>\n",
       "      <td>0</td>\n",
       "      <td>-0.040774</td>\n",
       "      <td>0</td>\n",
       "      <td>-0.024235</td>\n",
       "      <td>-0.362898</td>\n",
       "      <td>1</td>\n",
       "      <td>1</td>\n",
       "      <td>0</td>\n",
       "    </tr>\n",
       "    <tr>\n",
       "      <th>3</th>\n",
       "      <td>-0.764407</td>\n",
       "      <td>1</td>\n",
       "      <td>-0.001063</td>\n",
       "      <td>0</td>\n",
       "      <td>-0.128450</td>\n",
       "      <td>-0.160795</td>\n",
       "      <td>0</td>\n",
       "      <td>-0.261215</td>\n",
       "      <td>0</td>\n",
       "      <td>-0.331328</td>\n",
       "      <td>...</td>\n",
       "      <td>0</td>\n",
       "      <td>1</td>\n",
       "      <td>0</td>\n",
       "      <td>-0.040774</td>\n",
       "      <td>0</td>\n",
       "      <td>-0.024235</td>\n",
       "      <td>-0.362898</td>\n",
       "      <td>0</td>\n",
       "      <td>0</td>\n",
       "      <td>0</td>\n",
       "    </tr>\n",
       "    <tr>\n",
       "      <th>4</th>\n",
       "      <td>2.976086</td>\n",
       "      <td>0</td>\n",
       "      <td>-0.001063</td>\n",
       "      <td>0</td>\n",
       "      <td>0.181100</td>\n",
       "      <td>0.215392</td>\n",
       "      <td>0</td>\n",
       "      <td>-0.619876</td>\n",
       "      <td>1</td>\n",
       "      <td>0.529648</td>\n",
       "      <td>...</td>\n",
       "      <td>0</td>\n",
       "      <td>1</td>\n",
       "      <td>1</td>\n",
       "      <td>-0.040774</td>\n",
       "      <td>0</td>\n",
       "      <td>-0.024235</td>\n",
       "      <td>-0.362898</td>\n",
       "      <td>0</td>\n",
       "      <td>0</td>\n",
       "      <td>0</td>\n",
       "    </tr>\n",
       "  </tbody>\n",
       "</table>\n",
       "<p>5 rows × 80 columns</p>\n",
       "</div>"
      ],
      "text/plain": [
       "     Var126  Var212_NhsEn4L    Var189  Var218_zzzOTHER     Var74    Var113  \\\n",
       "0  0.378521               0  3.413988                0 -0.080083  0.355810   \n",
       "1  0.170716               1 -0.001063                1 -0.128450 -0.266798   \n",
       "2 -1.491725               0 -0.001063                0  0.587383  0.733389   \n",
       "3 -0.764407               1 -0.001063                0 -0.128450 -0.160795   \n",
       "4  2.976086               0 -0.001063                0  0.181100  0.215392   \n",
       "\n",
       "   Var218_cJvF     Var81  Var205_sJzTlal    Var140  ...  Var223_zzzMISSING  \\\n",
       "0            1 -0.918831               0 -0.282393  ...                  0   \n",
       "1            0  0.509515               1 -0.331328  ...                  0   \n",
       "2            0 -0.830621               0 -0.119721  ...                  0   \n",
       "3            0 -0.261215               0 -0.331328  ...                  0   \n",
       "4            0 -0.619876               1  0.529648  ...                  0   \n",
       "\n",
       "   Var207_me75fM6ugJ  Var229_mj86     Var59  Var226_7P5s     Var19     Var72  \\\n",
       "0                  1            0 -0.040774            0 -0.024235 -0.362898   \n",
       "1                  1            0 -0.040774            0 -0.024235 -0.362898   \n",
       "2                  0            0 -0.040774            0 -0.024235 -0.362898   \n",
       "3                  1            0 -0.040774            0 -0.024235 -0.362898   \n",
       "4                  1            1 -0.040774            0 -0.024235 -0.362898   \n",
       "\n",
       "   Var228_ib5G6X1eUxUn6  Var206_haYg  Var226_Aoh3  \n",
       "0                     0            1            0  \n",
       "1                     0            0            0  \n",
       "2                     1            1            0  \n",
       "3                     0            0            0  \n",
       "4                     0            0            0  \n",
       "\n",
       "[5 rows x 80 columns]"
      ]
     },
     "execution_count": 92,
     "metadata": {},
     "output_type": "execute_result"
    }
   ],
   "source": [
    "train_data_1.head()"
   ]
  },
  {
   "cell_type": "code",
   "execution_count": 93,
   "metadata": {},
   "outputs": [],
   "source": [
    "X_train,X_test, y_train, y_test = train_test_split(train_data_1 , churn , stratify=churn, test_size=0.2, random_state=42)\n",
    "X_train,X_cv, y_train, y_cv = train_test_split(X_train , y_train , stratify=y_train, test_size=0.2, random_state=42)"
   ]
  },
  {
   "cell_type": "code",
   "execution_count": 94,
   "metadata": {},
   "outputs": [
    {
     "name": "stdout",
     "output_type": "stream",
     "text": [
      "Best HyperParameter:  {'max_depth': 5, 'n_estimators': 500}\n"
     ]
    }
   ],
   "source": [
    "random_classifier = RandomForestClassifier()\n",
    "\n",
    "parameters = { 'max_depth':np.arange(5,10),'n_estimators':[500,1000]}\n",
    "\n",
    "random_grid = GridSearchCV(random_classifier, parameters, cv = 3)\n",
    "\n",
    "random_grid.fit(X_cv, y_cv)\n",
    "\n",
    "print(\"Best HyperParameter: \",random_grid.best_params_)"
   ]
  },
  {
   "cell_type": "code",
   "execution_count": 95,
   "metadata": {},
   "outputs": [
    {
     "data": {
      "text/plain": [
       "RandomForestClassifier(bootstrap=True, class_weight='balanced',\n",
       "            criterion='gini', max_depth=5, max_features=None,\n",
       "            max_leaf_nodes=None, min_impurity_decrease=0.0,\n",
       "            min_impurity_split=None, min_samples_leaf=1,\n",
       "            min_samples_split=2, min_weight_fraction_leaf=0.0,\n",
       "            n_estimators=500, n_jobs=-1, oob_score=True, random_state=42,\n",
       "            verbose=0, warm_start=False)"
      ]
     },
     "execution_count": 95,
     "metadata": {},
     "output_type": "execute_result"
    }
   ],
   "source": [
    "rf_model = RandomForestClassifier(\n",
    "    n_estimators=500,\n",
    "    #criterion='entropy',\n",
    "    max_depth=5,   # expand until all leaves are pure or contain < MIN_SAMPLES_SPLIT samples\n",
    "    #min_samples_split=100,\n",
    "    #min_samples_leaf=50,\n",
    "    #min_weight_fraction_leaf=0.0,\n",
    "    max_features=None,   # number of features to consider when looking for the best split; None: max_features=n_features\n",
    "    max_leaf_nodes=None,   # None: unlimited number of leaf nodes\n",
    "    bootstrap=True,\n",
    "    oob_score=True,   # estimate Out-of-Bag Cross Entropy\n",
    "    n_jobs=-1,   # paralellize over all CPU cores but 2\n",
    "    class_weight='balanced',    # our classes are skewed, but but too skewed\n",
    "    random_state=42,\n",
    "    verbose=0,\n",
    "    warm_start=False)\n",
    "\n",
    "rf_model.fit(X=X_train, y=y_train)"
   ]
  },
  {
   "cell_type": "code",
   "execution_count": 96,
   "metadata": {},
   "outputs": [
    {
     "data": {
      "text/plain": [
       "0.6566374256124469"
      ]
     },
     "execution_count": 96,
     "metadata": {},
     "output_type": "execute_result"
    }
   ],
   "source": [
    "rf_pred_probs=rf_model.predict(X_cv)\n",
    "\n",
    "auc=metrics.roc_auc_score(y_cv,rf_pred_probs)\n",
    "auc"
   ]
  },
  {
   "cell_type": "code",
   "execution_count": 97,
   "metadata": {},
   "outputs": [
    {
     "data": {
      "text/plain": [
       "0.6432729071328716"
      ]
     },
     "execution_count": 97,
     "metadata": {},
     "output_type": "execute_result"
    }
   ],
   "source": [
    "rf_pred_probs=rf_model.predict(X_test)\n",
    "\n",
    "auc=metrics.roc_auc_score(y_test,rf_pred_probs)\n",
    "auc"
   ]
  },
  {
   "cell_type": "markdown",
   "metadata": {},
   "source": [
    "<h3> Taking target variable as appetency</h3>"
   ]
  },
  {
   "cell_type": "markdown",
   "metadata": {},
   "source": [
    "## 1. Random Forest Classifer Model"
   ]
  },
  {
   "cell_type": "code",
   "execution_count": 105,
   "metadata": {},
   "outputs": [],
   "source": [
    "# concatenating all the target variables\n",
    "labels = pd.concat([appetency, churn, upselling],axis=1)\n",
    "labels.columns = ['appetency', 'churn', 'upselling']\n",
    "# concatenate the data with the target variable\n",
    "data = pd.concat([train_data_1,labels],axis=1)"
   ]
  },
  {
   "cell_type": "code",
   "execution_count": 106,
   "metadata": {},
   "outputs": [
    {
     "name": "stdout",
     "output_type": "stream",
     "text": [
      "X_train shape is (35000, 81) \n",
      " X_test shape is (15000, 81)\n"
     ]
    }
   ],
   "source": [
    "datatrain = data.drop(['churn','upselling'],axis=1)\n",
    "X=datatrain\n",
    "y=datatrain['appetency']\n",
    "X_train,X_test, y_train, y_test = train_test_split(X,y, stratify=y, test_size=0.3, random_state=42)\n",
    "print(\"X_train shape is\",X_train.shape,'\\n','X_test shape is',X_test.shape)\n",
    "y_test=X_test['appetency']\n",
    "X_test=X_test.drop(['appetency'],axis=1)\n",
    "df_maj = X_train[X_train.appetency==-1]\n",
    "df_min = X_train[X_train.appetency==1]\n",
    "# performing oversampling only on train dataset\n",
    "df_min_upsampled = resample(df_min, \n",
    "                                replace=True,     # sample with replacement\n",
    "                                 n_samples=df_maj.shape[0],    # to match majority class\n",
    "                                 random_state=42) # reproducible results\n",
    "\n",
    "df_upsampled = pd.concat([df_maj, df_min_upsampled])\n",
    "y_train = df_upsampled['appetency']\n",
    "X_train = df_upsampled.drop(['appetency'],axis=1)\n"
   ]
  },
  {
   "cell_type": "code",
   "execution_count": 107,
   "metadata": {},
   "outputs": [],
   "source": [
    "X_train,X_cv, y_train, y_cv = train_test_split(X_train , y_train , stratify=y_train, test_size=0.2, random_state=42)"
   ]
  },
  {
   "cell_type": "code",
   "execution_count": 108,
   "metadata": {},
   "outputs": [
    {
     "name": "stdout",
     "output_type": "stream",
     "text": [
      "Best HyperParameter:  {'max_depth': 9, 'n_estimators': 1000}\n"
     ]
    }
   ],
   "source": [
    "random_classifier = RandomForestClassifier()\n",
    "\n",
    "parameters = { 'max_depth':np.arange(5,10),'n_estimators':[500,1000]}\n",
    "\n",
    "random_grid = GridSearchCV(random_classifier, parameters, cv = 5)\n",
    "\n",
    "random_grid.fit(X_cv, y_cv)\n",
    "\n",
    "print(\"Best HyperParameter: \",random_grid.best_params_)"
   ]
  },
  {
   "cell_type": "code",
   "execution_count": 109,
   "metadata": {},
   "outputs": [
    {
     "data": {
      "text/plain": [
       "RandomForestClassifier(bootstrap=True, class_weight='balanced',\n",
       "            criterion='gini', max_depth=9, max_features=None,\n",
       "            max_leaf_nodes=None, min_impurity_decrease=0.0,\n",
       "            min_impurity_split=None, min_samples_leaf=1,\n",
       "            min_samples_split=2, min_weight_fraction_leaf=0.0,\n",
       "            n_estimators=1000, n_jobs=-1, oob_score=True, random_state=42,\n",
       "            verbose=0, warm_start=False)"
      ]
     },
     "execution_count": 109,
     "metadata": {},
     "output_type": "execute_result"
    }
   ],
   "source": [
    "# Applying Random Forest classifier model\n",
    "\n",
    "rf_model = RandomForestClassifier(\n",
    "    n_estimators=1000,\n",
    "    #criterion='entropy',\n",
    "    max_depth=9,   # expand until all leaves are pure or contain < MIN_SAMPLES_SPLIT samples\n",
    "    #min_samples_split=100,\n",
    "    #min_samples_leaf=50,\n",
    "    #min_weight_fraction_leaf=0.0,\n",
    "    max_features=None,   # number of features to consider when looking for the best split; None: max_features=n_features\n",
    "    max_leaf_nodes=None,   # None: unlimited number of leaf nodes\n",
    "    bootstrap=True,\n",
    "    oob_score=True,   # estimate Out-of-Bag Cross Entropy\n",
    "    n_jobs=-1,   # paralellize over all CPU cores but 2\n",
    "    class_weight='balanced',    # our classes are skewed, but but too skewed\n",
    "    random_state=42,\n",
    "    verbose=0,\n",
    "    warm_start=False)\n",
    "\n",
    "rf_model.fit(X_train, y_train)"
   ]
  },
  {
   "cell_type": "code",
   "execution_count": 110,
   "metadata": {},
   "outputs": [
    {
     "data": {
      "text/plain": [
       "0.9043036226135702"
      ]
     },
     "execution_count": 110,
     "metadata": {},
     "output_type": "execute_result"
    }
   ],
   "source": [
    "rf_pred_probs=rf_model.predict(X_cv)\n",
    "\n",
    "auc=metrics.roc_auc_score(y_cv,rf_pred_probs)\n",
    "auc"
   ]
  },
  {
   "cell_type": "code",
   "execution_count": 111,
   "metadata": {},
   "outputs": [
    {
     "data": {
      "text/plain": [
       "0.7323885765883665"
      ]
     },
     "execution_count": 111,
     "metadata": {},
     "output_type": "execute_result"
    }
   ],
   "source": [
    "rf_pred_probs=rf_model.predict(X_test)\n",
    "\n",
    "auc=metrics.roc_auc_score(y_test,rf_pred_probs)\n",
    "auc"
   ]
  },
  {
   "cell_type": "code",
   "execution_count": 112,
   "metadata": {},
   "outputs": [
    {
     "data": {
      "image/png": "[encoded data removed]",
      "text/plain": [
       "<Figure size 288x288 with 2 Axes>"
      ]
     },
     "metadata": {
      "needs_background": "light"
     },
     "output_type": "display_data"
    }
   ],
   "source": [
    "# Printing Confusion Matrix\n",
    "conf_matrix = metrics.confusion_matrix(y_test, rf_pred_probs)\n",
    "plt.figure(figsize=(4, 4))\n",
    "sns.heatmap(conf_matrix,  annot=True,xticklabels=['Neg','pos'], yticklabels=['Neg','Pos'],fmt=\"d\")\n",
    "plt.title(\"Confusion matrix\")\n",
    "plt.ylabel('True class')\n",
    "plt.xlabel('Predicted class')\n",
    "plt.show()"
   ]
  },
  {
   "cell_type": "markdown",
   "metadata": {},
   "source": [
    "### Taking target variable as Upselling"
   ]
  },
  {
   "cell_type": "code",
   "execution_count": 113,
   "metadata": {},
   "outputs": [],
   "source": [
    "# concatenating all the target variables\n",
    "labels = pd.concat([appetency, churn, upselling],axis=1)\n",
    "labels.columns = ['appetency', 'churn', 'upselling']\n",
    "# concatenate the data with the target variable\n",
    "data = pd.concat([train_data_1,labels],axis=1)"
   ]
  },
  {
   "cell_type": "code",
   "execution_count": 114,
   "metadata": {},
   "outputs": [
    {
     "name": "stdout",
     "output_type": "stream",
     "text": [
      "X_train shape is (35000, 81) \n",
      " X_test shape is (15000, 81)\n"
     ]
    }
   ],
   "source": [
    "datatrain = data.drop(['appetency','churn'],axis=1)\n",
    "X=datatrain\n",
    "y=datatrain['upselling']\n",
    "X_train,X_test, y_train, y_test = train_test_split(X,y, stratify=y, test_size=0.3, random_state=42)\n",
    "print(\"X_train shape is\",X_train.shape,'\\n','X_test shape is',X_test.shape)\n",
    "y_test=X_test['upselling']\n",
    "X_test=X_test.drop(['upselling'],axis=1)\n",
    "df_maj = X_train[X_train.upselling==-1]\n",
    "df_min = X_train[X_train.upselling==1]\n",
    "# performing oversampling only on train dataset\n",
    "df_min_upsampled = resample(df_min, \n",
    "                                replace=True,     # sample with replacement\n",
    "                                 n_samples=df_maj.shape[0],    # to match majority class\n",
    "                                 random_state=42) # reproducible results\n",
    "\n",
    "df_upsampled = pd.concat([df_maj, df_min_upsampled])\n",
    "y_train = df_upsampled['upselling']\n",
    "X_train = df_upsampled.drop(['upselling'],axis=1)\n",
    "\n"
   ]
  },
  {
   "cell_type": "code",
   "execution_count": 115,
   "metadata": {},
   "outputs": [],
   "source": [
    "X_train,X_cv, y_train, y_cv = train_test_split(X_train , y_train , stratify=y_train, test_size=0.2, random_state=42)"
   ]
  },
  {
   "cell_type": "code",
   "execution_count": 116,
   "metadata": {},
   "outputs": [
    {
     "name": "stdout",
     "output_type": "stream",
     "text": [
      "Best HyperParameter:  {'max_depth': 9, 'n_estimators': 1000}\n"
     ]
    }
   ],
   "source": [
    "random_classifier = RandomForestClassifier()\n",
    "\n",
    "parameters = { 'max_depth':np.arange(5,10),'n_estimators':[500,1000]}\n",
    "\n",
    "random_grid = GridSearchCV(random_classifier, parameters, cv = 5)\n",
    "\n",
    "random_grid.fit(X_cv, y_cv)\n",
    "\n",
    "print(\"Best HyperParameter: \",random_grid.best_params_)"
   ]
  },
  {
   "cell_type": "code",
   "execution_count": 117,
   "metadata": {},
   "outputs": [
    {
     "data": {
      "text/plain": [
       "RandomForestClassifier(bootstrap=True, class_weight='balanced',\n",
       "            criterion='gini', max_depth=9, max_features=None,\n",
       "            max_leaf_nodes=None, min_impurity_decrease=0.0,\n",
       "            min_impurity_split=None, min_samples_leaf=1,\n",
       "            min_samples_split=2, min_weight_fraction_leaf=0.0,\n",
       "            n_estimators=1000, n_jobs=-1, oob_score=True, random_state=42,\n",
       "            verbose=0, warm_start=False)"
      ]
     },
     "execution_count": 117,
     "metadata": {},
     "output_type": "execute_result"
    }
   ],
   "source": [
    "rf_model = RandomForestClassifier(\n",
    "    n_estimators=1000,\n",
    "    #criterion='entropy',\n",
    "    max_depth=9,   # expand until all leaves are pure or contain < MIN_SAMPLES_SPLIT samples\n",
    "    #min_samples_split=100,\n",
    "    #min_samples_leaf=50,\n",
    "    #min_weight_fraction_leaf=0.0,\n",
    "    max_features=None,   # number of features to consider when looking for the best split; None: max_features=n_features\n",
    "    max_leaf_nodes=None,   # None: unlimited number of leaf nodes\n",
    "    bootstrap=True,\n",
    "    oob_score=True,   # estimate Out-of-Bag Cross Entropy\n",
    "    n_jobs=-1,   # paralellize over all CPU cores but 2\n",
    "    class_weight='balanced',    # our classes are skewed, but but too skewed\n",
    "    random_state=42,\n",
    "    verbose=0,\n",
    "    warm_start=False)\n",
    "\n",
    "rf_model.fit(X_train, y_train)"
   ]
  },
  {
   "cell_type": "code",
   "execution_count": 118,
   "metadata": {},
   "outputs": [
    {
     "data": {
      "text/plain": [
       "0.8506553585196608"
      ]
     },
     "execution_count": 118,
     "metadata": {},
     "output_type": "execute_result"
    }
   ],
   "source": [
    "rf_pred_probs=rf_model.predict(X_cv)\n",
    "\n",
    "auc=metrics.roc_auc_score(y_cv,rf_pred_probs)\n",
    "auc"
   ]
  },
  {
   "cell_type": "code",
   "execution_count": 119,
   "metadata": {},
   "outputs": [
    {
     "data": {
      "text/plain": [
       "0.7338469354027214"
      ]
     },
     "execution_count": 119,
     "metadata": {},
     "output_type": "execute_result"
    }
   ],
   "source": [
    "rf_pred_probs=rf_model.predict(X_test)\n",
    "\n",
    "auc=metrics.roc_auc_score(y_test,rf_pred_probs)\n",
    "auc"
   ]
  },
  {
   "cell_type": "code",
   "execution_count": 120,
   "metadata": {},
   "outputs": [
    {
     "data": {
      "image/png": "[encoded data removed]",
      "text/plain": [
       "<Figure size 288x288 with 2 Axes>"
      ]
     },
     "metadata": {
      "needs_background": "light"
     },
     "output_type": "display_data"
    }
   ],
   "source": [
    "conf_matrix = metrics.confusion_matrix(y_test, rf_pred_probs)\n",
    "plt.figure(figsize=(4, 4))\n",
    "sns.heatmap(conf_matrix,  annot=True,xticklabels=['Neg','pos'], yticklabels=['Neg','Pos'],fmt=\"d\")\n",
    "plt.title(\"Confusion matrix\")\n",
    "plt.ylabel('True class')\n",
    "plt.xlabel('Predicted class')\n",
    "plt.show()"
   ]
  },
  {
   "cell_type": "code",
   "execution_count": 121,
   "metadata": {},
   "outputs": [],
   "source": [
    "train_data_1.to_csv('train_data_1.csv')"
   ]
  },
  {
   "cell_type": "code",
   "execution_count": 5,
   "metadata": {},
   "outputs": [],
   "source": [
    "train=pd.read_csv('train_data_1.csv')"
   ]
  },
  {
   "cell_type": "markdown",
   "metadata": {},
   "source": [
    "## 2. XGBOOST Classifier Model"
   ]
  },
  {
   "cell_type": "markdown",
   "metadata": {},
   "source": [
    "### Taking target variable as appetency"
   ]
  },
  {
   "cell_type": "code",
   "execution_count": 39,
   "metadata": {},
   "outputs": [],
   "source": [
    "# concatenating all the target variables\n",
    "labels = pd.concat([appetency, churn, upselling],axis=1)\n",
    "labels.columns = ['appetency', 'churn', 'upselling']\n",
    "# concatenate the data with the target variable\n",
    "data = pd.concat([train,labels],axis=1)"
   ]
  },
  {
   "cell_type": "code",
   "execution_count": 22,
   "metadata": {},
   "outputs": [],
   "source": [
    "def grid(X, y):\n",
    "    param_grid = {\n",
    "        'gamma': [0, 0.001, 0.01, 0.1],\n",
    "        'n_estimators':[10,20,30],\n",
    "        'max_depth':[3,4,5]\n",
    "        \n",
    "    }\n",
    "\n",
    "    grid = GridSearchCV(XGBClassifier(), param_grid, refit=True, verbose=3, scoring='roc_auc', n_jobs=4)\n",
    "    grid.fit(X, y.values.ravel())\n",
    "    \n",
    "    print('Params', grid.best_params_)\n",
    "    print('AUC-Score', grid.best_score_)\n",
    "\n",
    "    return grid"
   ]
  },
  {
   "cell_type": "code",
   "execution_count": 40,
   "metadata": {},
   "outputs": [
    {
     "name": "stdout",
     "output_type": "stream",
     "text": [
      "X_train shape is (35000, 82) \n",
      " X_test shape is (15000, 82)\n"
     ]
    }
   ],
   "source": [
    "datatrain = data.drop(['churn','upselling'],axis=1)\n",
    "X=datatrain\n",
    "y=datatrain['appetency']\n",
    "X_train,X_test, y_train, y_test = train_test_split(X,y, stratify=y, test_size=0.3, random_state=42)\n",
    "print(\"X_train shape is\",X_train.shape,'\\n','X_test shape is',X_test.shape)\n",
    "y_test=X_test['appetency']\n",
    "X_test=X_test.drop(['appetency'],axis=1)\n",
    "df_maj = X_train[X_train.appetency==-1]\n",
    "df_min = X_train[X_train.appetency==1]\n",
    "# performing oversampling only on train dataset\n",
    "df_min_upsampled = resample(df_min, \n",
    "                                replace=True,     # sample with replacement\n",
    "                                 n_samples=df_maj.shape[0],    # to match majority class\n",
    "                                 random_state=42) # reproducible results\n",
    "\n",
    "df_upsampled = pd.concat([df_maj, df_min_upsampled])\n",
    "y_train = df_upsampled['appetency']\n",
    "X_train = df_upsampled.drop(['appetency'],axis=1)\n"
   ]
  },
  {
   "cell_type": "code",
   "execution_count": 24,
   "metadata": {},
   "outputs": [
    {
     "name": "stderr",
     "output_type": "stream",
     "text": [
      "C:\\Users\\abc\\Anaconda3\\lib\\site-packages\\sklearn\\model_selection\\_split.py:2053: FutureWarning: You should specify a value for 'cv' instead of relying on the default value. The default value will change from 3 to 5 in version 0.22.\n",
      "  warnings.warn(CV_WARNING, FutureWarning)\n",
      "[Parallel(n_jobs=4)]: Using backend LokyBackend with 4 concurrent workers.\n"
     ]
    },
    {
     "name": "stdout",
     "output_type": "stream",
     "text": [
      "Fitting 3 folds for each of 36 candidates, totalling 108 fits\n"
     ]
    },
    {
     "name": "stderr",
     "output_type": "stream",
     "text": [
      "[Parallel(n_jobs=4)]: Done  24 tasks      | elapsed:   48.0s\n",
      "[Parallel(n_jobs=4)]: Done 108 out of 108 | elapsed:  4.0min finished\n"
     ]
    },
    {
     "name": "stdout",
     "output_type": "stream",
     "text": [
      "Params {'gamma': 0, 'max_depth': 5, 'n_estimators': 30}\n",
      "AUC-Score 0.9219248395821344\n"
     ]
    }
   ],
   "source": [
    "appetency_result = grid(X_train, y_train)"
   ]
  },
  {
   "cell_type": "code",
   "execution_count": 41,
   "metadata": {},
   "outputs": [
    {
     "data": {
      "image/png": "[encoded data removed]",
      "text/plain": [
       "<Figure size 288x288 with 2 Axes>"
      ]
     },
     "metadata": {
      "needs_background": "light"
     },
     "output_type": "display_data"
    }
   ],
   "source": [
    "clf=XGBClassifier(n_estimators=10,max_depth=3,nthread=4,subsample=1,gamma=0,objective='binary:logistic')\n",
    "clf.fit(X_train, y_train)\n",
    "predictions = clf.predict(X_test)\n",
    "\n",
    "conf_matrix = metrics.confusion_matrix(y_test, predictions)\n",
    "plt.figure(figsize=(4, 4))\n",
    "sns.heatmap(conf_matrix,  annot=True,xticklabels=['Neg','pos'], yticklabels=['Neg','Pos'],fmt=\"d\")\n",
    "plt.title(\"Confusion matrix\")\n",
    "plt.ylabel('True class')\n",
    "plt.xlabel('Predicted class')\n",
    "plt.show()"
   ]
  },
  {
   "cell_type": "code",
   "execution_count": 42,
   "metadata": {},
   "outputs": [
    {
     "data": {
      "text/plain": [
       "0.7554366601918646"
      ]
     },
     "execution_count": 42,
     "metadata": {},
     "output_type": "execute_result"
    }
   ],
   "source": [
    "auc = metrics.roc_auc_score(y_test,predictions)\n",
    "auc"
   ]
  },
  {
   "cell_type": "markdown",
   "metadata": {},
   "source": [
    "### Taking target variable as churn"
   ]
  },
  {
   "cell_type": "code",
   "execution_count": 43,
   "metadata": {},
   "outputs": [],
   "source": [
    "# concatenating all the target variables\n",
    "labels = pd.concat([appetency, churn, upselling],axis=1)\n",
    "labels.columns = ['appetency', 'churn', 'upselling']\n",
    "# concatenate the data with the target variable\n",
    "data = pd.concat([train,labels],axis=1)"
   ]
  },
  {
   "cell_type": "code",
   "execution_count": 44,
   "metadata": {},
   "outputs": [
    {
     "name": "stdout",
     "output_type": "stream",
     "text": [
      "X_train shape is (35000, 82) \n",
      " X_test shape is (15000, 82)\n"
     ]
    }
   ],
   "source": [
    "datatrain = data.drop(['appetency','upselling'],axis=1)\n",
    "X=datatrain\n",
    "y=datatrain['churn']\n",
    "X_train,X_test, y_train, y_test = train_test_split(X,y, stratify=y, test_size=0.3, random_state=42)\n",
    "print(\"X_train shape is\",X_train.shape,'\\n','X_test shape is',X_test.shape)\n",
    "y_test=X_test['churn']\n",
    "X_test=X_test.drop(['churn'],axis=1)\n",
    "df_maj = X_train[X_train.churn==-1]\n",
    "df_min = X_train[X_train.churn==1]\n",
    "# performing oversampling only on train dataset\n",
    "df_min_upsampled = resample(df_min, \n",
    "                                replace=True,     # sample with replacement\n",
    "                                 n_samples=df_maj.shape[0],    # to match majority class\n",
    "                                 random_state=42) # reproducible results\n",
    "\n",
    "df_upsampled = pd.concat([df_maj, df_min_upsampled])\n",
    "y_train = df_upsampled['churn']\n",
    "X_train = df_upsampled.drop(['churn'],axis=1)\n",
    "\n"
   ]
  },
  {
   "cell_type": "code",
   "execution_count": 31,
   "metadata": {},
   "outputs": [
    {
     "name": "stderr",
     "output_type": "stream",
     "text": [
      "C:\\Users\\abc\\Anaconda3\\lib\\site-packages\\sklearn\\model_selection\\_split.py:2053: FutureWarning: You should specify a value for 'cv' instead of relying on the default value. The default value will change from 3 to 5 in version 0.22.\n",
      "  warnings.warn(CV_WARNING, FutureWarning)\n",
      "[Parallel(n_jobs=4)]: Using backend LokyBackend with 4 concurrent workers.\n"
     ]
    },
    {
     "name": "stdout",
     "output_type": "stream",
     "text": [
      "Fitting 3 folds for each of 36 candidates, totalling 108 fits\n"
     ]
    },
    {
     "name": "stderr",
     "output_type": "stream",
     "text": [
      "[Parallel(n_jobs=4)]: Done  24 tasks      | elapsed:   45.5s\n",
      "[Parallel(n_jobs=4)]: Done 108 out of 108 | elapsed:  3.5min finished\n"
     ]
    },
    {
     "name": "stdout",
     "output_type": "stream",
     "text": [
      "Params {'gamma': 0, 'max_depth': 5, 'n_estimators': 30}\n",
      "AUC-Score 0.7839369175706988\n"
     ]
    }
   ],
   "source": [
    "churn_result = grid(X_train, y_train)"
   ]
  },
  {
   "cell_type": "code",
   "execution_count": 47,
   "metadata": {},
   "outputs": [
    {
     "data": {
      "image/png": "[encoded data removed]",
      "text/plain": [
       "<Figure size 288x288 with 2 Axes>"
      ]
     },
     "metadata": {
      "needs_background": "light"
     },
     "output_type": "display_data"
    }
   ],
   "source": [
    "clf=XGBClassifier(n_estimators=30,max_depth=5,nthread=4,subsample=1,gamma=0,objective='binary:logistic')\n",
    "clf.fit(X_train, y_train)\n",
    "predictions = clf.predict(X_test)\n",
    "\n",
    "conf_matrix = metrics.confusion_matrix(y_test, predictions)\n",
    "plt.figure(figsize=(4, 4))\n",
    "sns.heatmap(conf_matrix,  annot=True,xticklabels=['Neg','pos'], yticklabels=['Neg','Pos'],fmt=\"d\")\n",
    "plt.title(\"Confusion matrix\")\n",
    "plt.ylabel('True class')\n",
    "plt.xlabel('Predicted class')\n",
    "plt.show()"
   ]
  },
  {
   "cell_type": "code",
   "execution_count": 48,
   "metadata": {},
   "outputs": [
    {
     "data": {
      "text/plain": [
       "0.6534817841891364"
      ]
     },
     "execution_count": 48,
     "metadata": {},
     "output_type": "execute_result"
    }
   ],
   "source": [
    "auc = metrics.roc_auc_score(y_test,predictions)\n",
    "auc"
   ]
  },
  {
   "cell_type": "markdown",
   "metadata": {},
   "source": [
    "### Taking target variable as Upselling"
   ]
  },
  {
   "cell_type": "code",
   "execution_count": 34,
   "metadata": {},
   "outputs": [],
   "source": [
    "# concatenating all the target variables\n",
    "labels = pd.concat([appetency, churn, upselling],axis=1)\n",
    "labels.columns = ['appetency', 'churn', 'upselling']\n",
    "# concatenate the data with the target variable\n",
    "data = pd.concat([train,labels],axis=1)"
   ]
  },
  {
   "cell_type": "code",
   "execution_count": 35,
   "metadata": {},
   "outputs": [
    {
     "name": "stdout",
     "output_type": "stream",
     "text": [
      "X_train shape is (35000, 82) \n",
      " X_test shape is (15000, 82)\n"
     ]
    }
   ],
   "source": [
    "datatrain = data.drop(['appetency','churn'],axis=1)\n",
    "X=datatrain\n",
    "y=datatrain['upselling']\n",
    "X_train,X_test, y_train, y_test = train_test_split(X,y, stratify=y, test_size=0.3, random_state=42)\n",
    "print(\"X_train shape is\",X_train.shape,'\\n','X_test shape is',X_test.shape)\n",
    "y_test=X_test['upselling']\n",
    "X_test=X_test.drop(['upselling'],axis=1)\n",
    "df_maj = X_train[X_train.upselling==-1]\n",
    "df_min = X_train[X_train.upselling==1]\n",
    "# performing oversampling only on train dataset\n",
    "df_min_upsampled = resample(df_min, \n",
    "                                replace=True,     # sample with replacement\n",
    "                                 n_samples=df_maj.shape[0],    # to match majority class\n",
    "                                 random_state=42) # reproducible results\n",
    "\n",
    "df_upsampled = pd.concat([df_maj, df_min_upsampled])\n",
    "y_train = df_upsampled['upselling']\n",
    "X_train = df_upsampled.drop(['upselling'],axis=1)\n",
    "\n"
   ]
  },
  {
   "cell_type": "code",
   "execution_count": 36,
   "metadata": {},
   "outputs": [
    {
     "name": "stderr",
     "output_type": "stream",
     "text": [
      "C:\\Users\\abc\\Anaconda3\\lib\\site-packages\\sklearn\\model_selection\\_split.py:2053: FutureWarning: You should specify a value for 'cv' instead of relying on the default value. The default value will change from 3 to 5 in version 0.22.\n",
      "  warnings.warn(CV_WARNING, FutureWarning)\n",
      "[Parallel(n_jobs=4)]: Using backend LokyBackend with 4 concurrent workers.\n"
     ]
    },
    {
     "name": "stdout",
     "output_type": "stream",
     "text": [
      "Fitting 3 folds for each of 36 candidates, totalling 108 fits\n"
     ]
    },
    {
     "name": "stderr",
     "output_type": "stream",
     "text": [
      "[Parallel(n_jobs=4)]: Done  24 tasks      | elapsed:   48.5s\n",
      "[Parallel(n_jobs=4)]: Done 108 out of 108 | elapsed:  3.5min finished\n"
     ]
    },
    {
     "name": "stdout",
     "output_type": "stream",
     "text": [
      "Params {'gamma': 0, 'max_depth': 5, 'n_estimators': 30}\n",
      "AUC-Score 0.8881705647707435\n"
     ]
    }
   ],
   "source": [
    "upselling_result = grid(X_train, y_train)"
   ]
  },
  {
   "cell_type": "code",
   "execution_count": 37,
   "metadata": {},
   "outputs": [
    {
     "data": {
      "image/png": "[encoded data removed]",
      "text/plain": [
       "<Figure size 288x288 with 2 Axes>"
      ]
     },
     "metadata": {
      "needs_background": "light"
     },
     "output_type": "display_data"
    }
   ],
   "source": [
    "clf=XGBClassifier(n_estimators=30,max_depth=5,nthread=4,subsample=1,gamma=0,objective='binary:logistic')\n",
    "clf.fit(X_train, y_train)\n",
    "predictions = clf.predict(X_test)\n",
    "\n",
    "conf_matrix = metrics.confusion_matrix(y_test, predictions)\n",
    "plt.figure(figsize=(4, 4))\n",
    "sns.heatmap(conf_matrix,  annot=True,xticklabels=['Neg','pos'], yticklabels=['Neg','Pos'],fmt=\"d\")\n",
    "plt.title(\"Confusion matrix\")\n",
    "plt.ylabel('True class')\n",
    "plt.xlabel('Predicted class')\n",
    "plt.show()"
   ]
  },
  {
   "cell_type": "code",
   "execution_count": 38,
   "metadata": {},
   "outputs": [
    {
     "data": {
      "text/plain": [
       "0.7419069003303704"
      ]
     },
     "execution_count": 38,
     "metadata": {},
     "output_type": "execute_result"
    }
   ],
   "source": [
    "auc = metrics.roc_auc_score(y_test,predictions)\n",
    "auc"
   ]
  },
  {
   "cell_type": "code",
   "execution_count": 49,
   "metadata": {},
   "outputs": [
    {
     "name": "stdout",
     "output_type": "stream",
     "text": [
      "+--------------------------+-----------------+----------+\n",
      "|        Model Name        | Target Variable | Test AUC |\n",
      "+--------------------------+-----------------+----------+\n",
      "| Random Forest Classifier |    appetency    |  0.732   |\n",
      "| Random Forest Classifier |      churn      |  0.643   |\n",
      "| Random Forest Classifier |    upselling    |  0.733   |\n",
      "|    XGBOOST Classifier    |    appetency    |  0.755   |\n",
      "|    XGBOOST Classifier    |      churn      |  0.653   |\n",
      "|    XGBOOST Classifier    |    upselling    |  0.741   |\n",
      "+--------------------------+-----------------+----------+\n"
     ]
    }
   ],
   "source": [
    "from prettytable import PrettyTable\n",
    "    \n",
    "x = PrettyTable()\n",
    "\n",
    "x.field_names = [\"Model Name\", \"Target Variable\", \"Test AUC\"]\n",
    "x.add_row(['Random Forest Classifier','appetency','0.732'])\n",
    "x.add_row(['Random Forest Classifier','churn','0.643'])\n",
    "x.add_row(['Random Forest Classifier','upselling','0.733'])\n",
    "x.add_row(['XGBOOST Classifier','appetency','0.755'])\n",
    "x.add_row(['XGBOOST Classifier','churn','0.653'])\n",
    "x.add_row(['XGBOOST Classifier','upselling','0.741'])\n",
    "print(x)"
   ]
  },
  {
   "cell_type": "markdown",
   "metadata": {},
   "source": [
    "### Steps to be followed"
   ]
  },
  {
   "cell_type": "markdown",
   "metadata": {},
   "source": [
    "1. Acquiring the dataset.\n",
    "2. Clean the dataset and get it into a format convenient for analysis.\n",
    "3. Summarizing and visualizing important characteristics and statistical properties of the dataset.\n",
    "4. Appling Machine Learning. Building models to predict the customer relationship behaviour, evaluate the results of models, and eventually, choose the best suitable predictive model ."
   ]
  },
  {
   "cell_type": "markdown",
   "metadata": {},
   "source": [
    "### Refereces"
   ]
  },
  {
   "cell_type": "markdown",
   "metadata": {},
   "source": [
    "* https://www.kaggle.com/asminalev/kddcup-2009-data-analysis\n",
    "* https://github.com/jjmanrique/KDD-Cup-2009/blob/master/KDD_small.ipynb\n",
    "    "
   ]
  },
  {
   "cell_type": "code",
   "execution_count": null,
   "metadata": {
    "collapsed": true
   },
   "outputs": [],
   "source": []
  }
 ],
 "metadata": {
  "kernelspec": {
   "display_name": "Python 3",
   "language": "python",
   "name": "python3"
  },
  "language_info": {
   "codemirror_mode": {
    "name": "ipython",
    "version": 3
   },
   "file_extension": ".py",
   "mimetype": "text/x-python",
   "name": "python",
   "nbconvert_exporter": "python",
   "pygments_lexer": "ipython3",
   "version": "3.7.3"
  }
 },
 "nbformat": 4,
 "nbformat_minor": 2
}
